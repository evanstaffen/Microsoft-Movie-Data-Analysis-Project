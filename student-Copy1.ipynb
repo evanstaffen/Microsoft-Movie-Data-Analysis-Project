{
 "cells": [
  {
   "cell_type": "markdown",
   "metadata": {},
   "source": [
    "## Final Project Submission\n",
    "\n",
    "Please fill out:\n",
    "* Student name: \n",
    "* Student pace: self paced / part time / full time\n",
    "* Scheduled project review date/time: \n",
    "* Instructor name: \n",
    "* Blog post URL:\n"
   ]
  },
  {
   "cell_type": "code",
   "execution_count": 1,
   "metadata": {},
   "outputs": [],
   "source": []
  },
  {
   "cell_type": "markdown",
   "metadata": {},
   "source": [
    "# Import Necessary Modules"
   ]
  },
  {
   "cell_type": "code",
   "execution_count": 1249,
   "metadata": {},
   "outputs": [],
   "source": [
    "import pandas as pd\n",
    "import sqlite3\n",
    "import numpy as np\n",
    "import matplotlib.pyplot as plt\n",
    "import seaborn as sns\n",
    "%matplotlib inline\n",
    "from plotly.subplots import make_subplots\n",
    "import plotly.express as px"
   ]
  },
  {
   "cell_type": "markdown",
   "metadata": {},
   "source": [
    "# Cleaning Movie Gross Dataset"
   ]
  },
  {
   "cell_type": "code",
   "execution_count": 1250,
   "metadata": {
    "scrolled": false
   },
   "outputs": [
    {
     "name": "stderr",
     "output_type": "stream",
     "text": [
      "<ipython-input-1250-870320a4e21b>:14: SettingWithCopyWarning:\n",
      "\n",
      "\n",
      "A value is trying to be set on a copy of a slice from a DataFrame.\n",
      "Try using .loc[row_indexer,col_indexer] = value instead\n",
      "\n",
      "See the caveats in the documentation: https://pandas.pydata.org/pandas-docs/stable/user_guide/indexing.html#returning-a-view-versus-a-copy\n",
      "\n",
      "<ipython-input-1250-870320a4e21b>:17: SettingWithCopyWarning:\n",
      "\n",
      "\n",
      "A value is trying to be set on a copy of a slice from a DataFrame.\n",
      "Try using .loc[row_indexer,col_indexer] = value instead\n",
      "\n",
      "See the caveats in the documentation: https://pandas.pydata.org/pandas-docs/stable/user_guide/indexing.html#returning-a-view-versus-a-copy\n",
      "\n",
      "<ipython-input-1250-870320a4e21b>:20: SettingWithCopyWarning:\n",
      "\n",
      "\n",
      "A value is trying to be set on a copy of a slice from a DataFrame.\n",
      "Try using .loc[row_indexer,col_indexer] = value instead\n",
      "\n",
      "See the caveats in the documentation: https://pandas.pydata.org/pandas-docs/stable/user_guide/indexing.html#returning-a-view-versus-a-copy\n",
      "\n",
      "<ipython-input-1250-870320a4e21b>:23: SettingWithCopyWarning:\n",
      "\n",
      "\n",
      "A value is trying to be set on a copy of a slice from a DataFrame.\n",
      "Try using .loc[row_indexer,col_indexer] = value instead\n",
      "\n",
      "See the caveats in the documentation: https://pandas.pydata.org/pandas-docs/stable/user_guide/indexing.html#returning-a-view-versus-a-copy\n",
      "\n"
     ]
    },
    {
     "data": {
      "text/html": [
       "<div>\n",
       "<style scoped>\n",
       "    .dataframe tbody tr th:only-of-type {\n",
       "        vertical-align: middle;\n",
       "    }\n",
       "\n",
       "    .dataframe tbody tr th {\n",
       "        vertical-align: top;\n",
       "    }\n",
       "\n",
       "    .dataframe thead th {\n",
       "        text-align: right;\n",
       "    }\n",
       "</style>\n",
       "<table border=\"1\" class=\"dataframe\">\n",
       "  <thead>\n",
       "    <tr style=\"text-align: right;\">\n",
       "      <th></th>\n",
       "      <th>title</th>\n",
       "      <th>studio</th>\n",
       "      <th>domestic_gross</th>\n",
       "      <th>foreign_gross</th>\n",
       "      <th>year</th>\n",
       "      <th>dom-for (d-f)</th>\n",
       "      <th>domestic_to_foreign_ratio</th>\n",
       "      <th>total_gross</th>\n",
       "    </tr>\n",
       "  </thead>\n",
       "  <tbody>\n",
       "    <tr>\n",
       "      <th>0</th>\n",
       "      <td>Toy Story 3</td>\n",
       "      <td>BV</td>\n",
       "      <td>415000000.000000000</td>\n",
       "      <td>652000000.000000000</td>\n",
       "      <td>2010</td>\n",
       "      <td>-237000000.000000000</td>\n",
       "      <td>0.636503067</td>\n",
       "      <td>1067000000.000000000</td>\n",
       "    </tr>\n",
       "    <tr>\n",
       "      <th>1</th>\n",
       "      <td>Alice in Wonderland (2010)</td>\n",
       "      <td>BV</td>\n",
       "      <td>334200000.000000000</td>\n",
       "      <td>691300000.000000000</td>\n",
       "      <td>2010</td>\n",
       "      <td>-357100000.000000000</td>\n",
       "      <td>0.483437003</td>\n",
       "      <td>1025500000.000000000</td>\n",
       "    </tr>\n",
       "    <tr>\n",
       "      <th>2</th>\n",
       "      <td>Harry Potter and the Deathly Hallows Part 1</td>\n",
       "      <td>WB</td>\n",
       "      <td>296000000.000000000</td>\n",
       "      <td>664300000.000000000</td>\n",
       "      <td>2010</td>\n",
       "      <td>-368300000.000000000</td>\n",
       "      <td>0.445581815</td>\n",
       "      <td>960300000.000000000</td>\n",
       "    </tr>\n",
       "    <tr>\n",
       "      <th>3</th>\n",
       "      <td>Inception</td>\n",
       "      <td>WB</td>\n",
       "      <td>292600000.000000000</td>\n",
       "      <td>535700000.000000000</td>\n",
       "      <td>2010</td>\n",
       "      <td>-243100000.000000000</td>\n",
       "      <td>0.546201232</td>\n",
       "      <td>828300000.000000000</td>\n",
       "    </tr>\n",
       "    <tr>\n",
       "      <th>4</th>\n",
       "      <td>Shrek Forever After</td>\n",
       "      <td>P/DW</td>\n",
       "      <td>238700000.000000000</td>\n",
       "      <td>513900000.000000000</td>\n",
       "      <td>2010</td>\n",
       "      <td>-275200000.000000000</td>\n",
       "      <td>0.464487254</td>\n",
       "      <td>752600000.000000000</td>\n",
       "    </tr>\n",
       "    <tr>\n",
       "      <th>...</th>\n",
       "      <td>...</td>\n",
       "      <td>...</td>\n",
       "      <td>...</td>\n",
       "      <td>...</td>\n",
       "      <td>...</td>\n",
       "      <td>...</td>\n",
       "      <td>...</td>\n",
       "      <td>...</td>\n",
       "    </tr>\n",
       "    <tr>\n",
       "      <th>3275</th>\n",
       "      <td>I Still See You</td>\n",
       "      <td>LGF</td>\n",
       "      <td>1400.000000000</td>\n",
       "      <td>1500000.000000000</td>\n",
       "      <td>2018</td>\n",
       "      <td>-1498600.000000000</td>\n",
       "      <td>0.000933333</td>\n",
       "      <td>1501400.000000000</td>\n",
       "    </tr>\n",
       "    <tr>\n",
       "      <th>3286</th>\n",
       "      <td>The Catcher Was a Spy</td>\n",
       "      <td>IFC</td>\n",
       "      <td>725000.000000000</td>\n",
       "      <td>229000.000000000</td>\n",
       "      <td>2018</td>\n",
       "      <td>496000.000000000</td>\n",
       "      <td>3.165938865</td>\n",
       "      <td>954000.000000000</td>\n",
       "    </tr>\n",
       "    <tr>\n",
       "      <th>3309</th>\n",
       "      <td>Time Freak</td>\n",
       "      <td>Grindstone</td>\n",
       "      <td>10000.000000000</td>\n",
       "      <td>256000.000000000</td>\n",
       "      <td>2018</td>\n",
       "      <td>-246000.000000000</td>\n",
       "      <td>0.039062500</td>\n",
       "      <td>266000.000000000</td>\n",
       "    </tr>\n",
       "    <tr>\n",
       "      <th>3342</th>\n",
       "      <td>Reign of Judges: Title of Liberty - Concept Short</td>\n",
       "      <td>Darin Southa</td>\n",
       "      <td>93200.000000000</td>\n",
       "      <td>5200.000000000</td>\n",
       "      <td>2018</td>\n",
       "      <td>88000.000000000</td>\n",
       "      <td>17.923076923</td>\n",
       "      <td>98400.000000000</td>\n",
       "    </tr>\n",
       "    <tr>\n",
       "      <th>3353</th>\n",
       "      <td>Antonio Lopez 1970: Sex Fashion &amp; Disco</td>\n",
       "      <td>FM</td>\n",
       "      <td>43200.000000000</td>\n",
       "      <td>30000.000000000</td>\n",
       "      <td>2018</td>\n",
       "      <td>13200.000000000</td>\n",
       "      <td>1.440000000</td>\n",
       "      <td>73200.000000000</td>\n",
       "    </tr>\n",
       "  </tbody>\n",
       "</table>\n",
       "<p>2007 rows × 8 columns</p>\n",
       "</div>"
      ],
      "text/plain": [
       "                                                  title        studio  \\\n",
       "0                                           Toy Story 3            BV   \n",
       "1                            Alice in Wonderland (2010)            BV   \n",
       "2           Harry Potter and the Deathly Hallows Part 1            WB   \n",
       "3                                             Inception            WB   \n",
       "4                                   Shrek Forever After          P/DW   \n",
       "...                                                 ...           ...   \n",
       "3275                                    I Still See You           LGF   \n",
       "3286                              The Catcher Was a Spy           IFC   \n",
       "3309                                         Time Freak    Grindstone   \n",
       "3342  Reign of Judges: Title of Liberty - Concept Short  Darin Southa   \n",
       "3353            Antonio Lopez 1970: Sex Fashion & Disco            FM   \n",
       "\n",
       "          domestic_gross       foreign_gross  year        dom-for (d-f)  \\\n",
       "0    415000000.000000000 652000000.000000000  2010 -237000000.000000000   \n",
       "1    334200000.000000000 691300000.000000000  2010 -357100000.000000000   \n",
       "2    296000000.000000000 664300000.000000000  2010 -368300000.000000000   \n",
       "3    292600000.000000000 535700000.000000000  2010 -243100000.000000000   \n",
       "4    238700000.000000000 513900000.000000000  2010 -275200000.000000000   \n",
       "...                  ...                 ...   ...                  ...   \n",
       "3275      1400.000000000   1500000.000000000  2018   -1498600.000000000   \n",
       "3286    725000.000000000    229000.000000000  2018     496000.000000000   \n",
       "3309     10000.000000000    256000.000000000  2018    -246000.000000000   \n",
       "3342     93200.000000000      5200.000000000  2018      88000.000000000   \n",
       "3353     43200.000000000     30000.000000000  2018      13200.000000000   \n",
       "\n",
       "      domestic_to_foreign_ratio          total_gross  \n",
       "0                   0.636503067 1067000000.000000000  \n",
       "1                   0.483437003 1025500000.000000000  \n",
       "2                   0.445581815  960300000.000000000  \n",
       "3                   0.546201232  828300000.000000000  \n",
       "4                   0.464487254  752600000.000000000  \n",
       "...                         ...                  ...  \n",
       "3275                0.000933333    1501400.000000000  \n",
       "3286                3.165938865     954000.000000000  \n",
       "3309                0.039062500     266000.000000000  \n",
       "3342               17.923076923      98400.000000000  \n",
       "3353                1.440000000      73200.000000000  \n",
       "\n",
       "[2007 rows x 8 columns]"
      ]
     },
     "execution_count": 1250,
     "metadata": {},
     "output_type": "execute_result"
    }
   ],
   "source": [
    "#DROPPED_DF_BOM\n",
    "\n",
    "df_bom = pd.read_csv('zippedData/bom.movie_gross.csv.gz')\n",
    "df_bom\n",
    "#df_bom\n",
    "\n",
    "#gets rid of sci-not\n",
    "pd.set_option('display.float_format', lambda x: '%.9f' % x)\n",
    "\n",
    "#dropping NAs\n",
    "dropped_df_bom = df_bom.dropna()\n",
    "\n",
    "#making foreign gross a float\n",
    "dropped_df_bom['foreign_gross'] = dropped_df_bom['foreign_gross'].str.replace(',', '').astype(float)\n",
    "\n",
    "#domestic - foreign gross\n",
    "dropped_df_bom['dom-for (d-f)'] = ((dropped_df_bom.loc[:,'domestic_gross'])-(dropped_df_bom.loc[:,'foreign_gross']))\n",
    "\n",
    "#domestic - foreign ratio\n",
    "dropped_df_bom['domestic_to_foreign_ratio'] = ((dropped_df_bom.loc[:,'domestic_gross'])/(dropped_df_bom.loc[:,'foreign_gross']))\n",
    "\n",
    "#total gross\n",
    "dropped_df_bom['total_gross'] = ((dropped_df_bom.loc[:,'domestic_gross'])+(dropped_df_bom.loc[:,'foreign_gross']))\n",
    "\n",
    "dropped_df_bom"
   ]
  },
  {
   "cell_type": "markdown",
   "metadata": {},
   "source": [
    "# Cleaning IMDB Dataset"
   ]
  },
  {
   "cell_type": "code",
   "execution_count": 24,
   "metadata": {},
   "outputs": [
    {
     "name": "stderr",
     "output_type": "stream",
     "text": [
      "<ipython-input-24-e1c3c54a3c20>:17: SettingWithCopyWarning: \n",
      "A value is trying to be set on a copy of a slice from a DataFrame.\n",
      "Try using .loc[row_indexer,col_indexer] = value instead\n",
      "\n",
      "See the caveats in the documentation: https://pandas.pydata.org/pandas-docs/stable/user_guide/indexing.html#returning-a-view-versus-a-copy\n",
      "  sqldf_genres_drop['genres'] = sqldf_genres_drop['genres'].map(lambda x:x.split(','))\n",
      "<ipython-input-24-e1c3c54a3c20>:21: SettingWithCopyWarning: \n",
      "A value is trying to be set on a copy of a slice from a DataFrame.\n",
      "Try using .loc[row_indexer,col_indexer] = value instead\n",
      "\n",
      "See the caveats in the documentation: https://pandas.pydata.org/pandas-docs/stable/user_guide/indexing.html#returning-a-view-versus-a-copy\n",
      "  sqldf_genres_drop['genre1'] = sqldf_genres_drop['genres'].apply(lambda x: x[0])\n",
      "<ipython-input-24-e1c3c54a3c20>:22: SettingWithCopyWarning: \n",
      "A value is trying to be set on a copy of a slice from a DataFrame.\n",
      "Try using .loc[row_indexer,col_indexer] = value instead\n",
      "\n",
      "See the caveats in the documentation: https://pandas.pydata.org/pandas-docs/stable/user_guide/indexing.html#returning-a-view-versus-a-copy\n",
      "  sqldf_genres_drop['genre2'] = sqldf_genres_drop['genres'].apply(lambda x: x[1] if (len(x) == 2 or len(x) == 3) else '')\n",
      "<ipython-input-24-e1c3c54a3c20>:23: SettingWithCopyWarning: \n",
      "A value is trying to be set on a copy of a slice from a DataFrame.\n",
      "Try using .loc[row_indexer,col_indexer] = value instead\n",
      "\n",
      "See the caveats in the documentation: https://pandas.pydata.org/pandas-docs/stable/user_guide/indexing.html#returning-a-view-versus-a-copy\n",
      "  sqldf_genres_drop['genres_cleaned'] = sqldf_genres_drop['genre1'] + '-' + sqldf_genres_drop['genre2']\n",
      "<ipython-input-24-e1c3c54a3c20>:25: SettingWithCopyWarning: \n",
      "A value is trying to be set on a copy of a slice from a DataFrame.\n",
      "Try using .loc[row_indexer,col_indexer] = value instead\n",
      "\n",
      "See the caveats in the documentation: https://pandas.pydata.org/pandas-docs/stable/user_guide/indexing.html#returning-a-view-versus-a-copy\n",
      "  sqldf_genres_drop['genres_cleaned'] = sqldf_genres_drop['genres_cleaned'].apply(lambda x: x.rstrip('-') if x.endswith('-') else x)\n",
      "<ipython-input-24-e1c3c54a3c20>:28: SettingWithCopyWarning: \n",
      "A value is trying to be set on a copy of a slice from a DataFrame.\n",
      "Try using .loc[row_indexer,col_indexer] = value instead\n",
      "\n",
      "See the caveats in the documentation: https://pandas.pydata.org/pandas-docs/stable/user_guide/indexing.html#returning-a-view-versus-a-copy\n",
      "  sqldf_genres_drop['genres_cleaned'] = sqldf_genres_drop['genres_cleaned'].apply(lambda x: x.replace(x,'Action') if x.endswith('-Action') or x.startswith('Action-') or x == ('Action') else x)\n",
      "<ipython-input-24-e1c3c54a3c20>:29: SettingWithCopyWarning: \n",
      "A value is trying to be set on a copy of a slice from a DataFrame.\n",
      "Try using .loc[row_indexer,col_indexer] = value instead\n",
      "\n",
      "See the caveats in the documentation: https://pandas.pydata.org/pandas-docs/stable/user_guide/indexing.html#returning-a-view-versus-a-copy\n",
      "  sqldf_genres_drop['genres_cleaned'] = sqldf_genres_drop['genres_cleaned'].apply(lambda x: x.replace(x,'Animation') if x.endswith('-Animation') or x.startswith('Animation-') or x == ('Animation') else x)\n",
      "<ipython-input-24-e1c3c54a3c20>:30: SettingWithCopyWarning: \n",
      "A value is trying to be set on a copy of a slice from a DataFrame.\n",
      "Try using .loc[row_indexer,col_indexer] = value instead\n",
      "\n",
      "See the caveats in the documentation: https://pandas.pydata.org/pandas-docs/stable/user_guide/indexing.html#returning-a-view-versus-a-copy\n",
      "  sqldf_genres_drop['genres_cleaned'] = sqldf_genres_drop['genres_cleaned'].apply(lambda x: x.replace(x,'Adventure') if x.endswith('-Adventure') or x.startswith('Adventure-') or x == ('Adventure') else x)\n",
      "<ipython-input-24-e1c3c54a3c20>:31: SettingWithCopyWarning: \n",
      "A value is trying to be set on a copy of a slice from a DataFrame.\n",
      "Try using .loc[row_indexer,col_indexer] = value instead\n",
      "\n",
      "See the caveats in the documentation: https://pandas.pydata.org/pandas-docs/stable/user_guide/indexing.html#returning-a-view-versus-a-copy\n",
      "  sqldf_genres_drop['genres_cleaned'] = sqldf_genres_drop['genres_cleaned'].apply(lambda x: x.replace(x,'Documentary') if x.endswith('-Documentary') or x.startswith('Documentary-') or x == ('Documentary') else x)\n",
      "<ipython-input-24-e1c3c54a3c20>:32: SettingWithCopyWarning: \n",
      "A value is trying to be set on a copy of a slice from a DataFrame.\n",
      "Try using .loc[row_indexer,col_indexer] = value instead\n",
      "\n",
      "See the caveats in the documentation: https://pandas.pydata.org/pandas-docs/stable/user_guide/indexing.html#returning-a-view-versus-a-copy\n",
      "  sqldf_genres_drop['genres_cleaned'] = sqldf_genres_drop['genres_cleaned'].apply(lambda x: x.replace(x,'Drama') if x.endswith('-Drama') or x.startswith('Drama-') or x == ('Drama') else x)\n",
      "/Users/evan/opt/anaconda3/envs/learn-env/lib/python3.8/site-packages/pandas/core/frame.py:4296: SettingWithCopyWarning: \n",
      "A value is trying to be set on a copy of a slice from a DataFrame\n",
      "\n",
      "See the caveats in the documentation: https://pandas.pydata.org/pandas-docs/stable/user_guide/indexing.html#returning-a-view-versus-a-copy\n",
      "  return super().rename(\n"
     ]
    },
    {
     "data": {
      "text/html": [
       "<div>\n",
       "<style scoped>\n",
       "    .dataframe tbody tr th:only-of-type {\n",
       "        vertical-align: middle;\n",
       "    }\n",
       "\n",
       "    .dataframe tbody tr th {\n",
       "        vertical-align: top;\n",
       "    }\n",
       "\n",
       "    .dataframe thead th {\n",
       "        text-align: right;\n",
       "    }\n",
       "</style>\n",
       "<table border=\"1\" class=\"dataframe\">\n",
       "  <thead>\n",
       "    <tr style=\"text-align: right;\">\n",
       "      <th></th>\n",
       "      <th>movie_id</th>\n",
       "      <th>title</th>\n",
       "      <th>original_title</th>\n",
       "      <th>year</th>\n",
       "      <th>runtime_minutes</th>\n",
       "      <th>genres</th>\n",
       "      <th>averagerating</th>\n",
       "      <th>numvotes</th>\n",
       "      <th>genre1</th>\n",
       "      <th>genre2</th>\n",
       "      <th>genres_cleaned</th>\n",
       "    </tr>\n",
       "  </thead>\n",
       "  <tbody>\n",
       "    <tr>\n",
       "      <th>0</th>\n",
       "      <td>tt0063540</td>\n",
       "      <td>Sunghursh</td>\n",
       "      <td>Sunghursh</td>\n",
       "      <td>2013</td>\n",
       "      <td>175.000000000</td>\n",
       "      <td>[Action, Crime, Drama]</td>\n",
       "      <td>7.000000000</td>\n",
       "      <td>77</td>\n",
       "      <td>Action</td>\n",
       "      <td>Crime</td>\n",
       "      <td>Action</td>\n",
       "    </tr>\n",
       "    <tr>\n",
       "      <th>1</th>\n",
       "      <td>tt0066787</td>\n",
       "      <td>One Day Before the Rainy Season</td>\n",
       "      <td>Ashad Ka Ek Din</td>\n",
       "      <td>2019</td>\n",
       "      <td>114.000000000</td>\n",
       "      <td>[Biography, Drama]</td>\n",
       "      <td>7.200000000</td>\n",
       "      <td>43</td>\n",
       "      <td>Biography</td>\n",
       "      <td>Drama</td>\n",
       "      <td>Drama</td>\n",
       "    </tr>\n",
       "    <tr>\n",
       "      <th>2</th>\n",
       "      <td>tt0069049</td>\n",
       "      <td>The Other Side of the Wind</td>\n",
       "      <td>The Other Side of the Wind</td>\n",
       "      <td>2018</td>\n",
       "      <td>122.000000000</td>\n",
       "      <td>[Drama]</td>\n",
       "      <td>6.900000000</td>\n",
       "      <td>4517</td>\n",
       "      <td>Drama</td>\n",
       "      <td></td>\n",
       "      <td>Drama</td>\n",
       "    </tr>\n",
       "    <tr>\n",
       "      <th>4</th>\n",
       "      <td>tt0100275</td>\n",
       "      <td>The Wandering Soap Opera</td>\n",
       "      <td>La Telenovela Errante</td>\n",
       "      <td>2017</td>\n",
       "      <td>80.000000000</td>\n",
       "      <td>[Comedy, Drama, Fantasy]</td>\n",
       "      <td>6.500000000</td>\n",
       "      <td>119</td>\n",
       "      <td>Comedy</td>\n",
       "      <td>Drama</td>\n",
       "      <td>Drama</td>\n",
       "    </tr>\n",
       "    <tr>\n",
       "      <th>6</th>\n",
       "      <td>tt0137204</td>\n",
       "      <td>Joe Finds Grace</td>\n",
       "      <td>Joe Finds Grace</td>\n",
       "      <td>2017</td>\n",
       "      <td>83.000000000</td>\n",
       "      <td>[Adventure, Animation, Comedy]</td>\n",
       "      <td>8.100000000</td>\n",
       "      <td>263</td>\n",
       "      <td>Adventure</td>\n",
       "      <td>Animation</td>\n",
       "      <td>Animation</td>\n",
       "    </tr>\n",
       "    <tr>\n",
       "      <th>...</th>\n",
       "      <td>...</td>\n",
       "      <td>...</td>\n",
       "      <td>...</td>\n",
       "      <td>...</td>\n",
       "      <td>...</td>\n",
       "      <td>...</td>\n",
       "      <td>...</td>\n",
       "      <td>...</td>\n",
       "      <td>...</td>\n",
       "      <td>...</td>\n",
       "      <td>...</td>\n",
       "    </tr>\n",
       "    <tr>\n",
       "      <th>73849</th>\n",
       "      <td>tt9911774</td>\n",
       "      <td>Padmavyuhathile Abhimanyu</td>\n",
       "      <td>Padmavyuhathile Abhimanyu</td>\n",
       "      <td>2019</td>\n",
       "      <td>130.000000000</td>\n",
       "      <td>[Drama]</td>\n",
       "      <td>8.400000000</td>\n",
       "      <td>365</td>\n",
       "      <td>Drama</td>\n",
       "      <td></td>\n",
       "      <td>Drama</td>\n",
       "    </tr>\n",
       "    <tr>\n",
       "      <th>73850</th>\n",
       "      <td>tt9913056</td>\n",
       "      <td>Swarm Season</td>\n",
       "      <td>Swarm Season</td>\n",
       "      <td>2019</td>\n",
       "      <td>86.000000000</td>\n",
       "      <td>[Documentary]</td>\n",
       "      <td>6.200000000</td>\n",
       "      <td>5</td>\n",
       "      <td>Documentary</td>\n",
       "      <td></td>\n",
       "      <td>Documentary</td>\n",
       "    </tr>\n",
       "    <tr>\n",
       "      <th>73851</th>\n",
       "      <td>tt9913084</td>\n",
       "      <td>Diabolik sono io</td>\n",
       "      <td>Diabolik sono io</td>\n",
       "      <td>2019</td>\n",
       "      <td>75.000000000</td>\n",
       "      <td>[Documentary]</td>\n",
       "      <td>6.200000000</td>\n",
       "      <td>6</td>\n",
       "      <td>Documentary</td>\n",
       "      <td></td>\n",
       "      <td>Documentary</td>\n",
       "    </tr>\n",
       "    <tr>\n",
       "      <th>73852</th>\n",
       "      <td>tt9914286</td>\n",
       "      <td>Sokagin Çocuklari</td>\n",
       "      <td>Sokagin Çocuklari</td>\n",
       "      <td>2019</td>\n",
       "      <td>98.000000000</td>\n",
       "      <td>[Drama, Family]</td>\n",
       "      <td>8.700000000</td>\n",
       "      <td>136</td>\n",
       "      <td>Drama</td>\n",
       "      <td>Family</td>\n",
       "      <td>Drama</td>\n",
       "    </tr>\n",
       "    <tr>\n",
       "      <th>73855</th>\n",
       "      <td>tt9916160</td>\n",
       "      <td>Drømmeland</td>\n",
       "      <td>Drømmeland</td>\n",
       "      <td>2019</td>\n",
       "      <td>72.000000000</td>\n",
       "      <td>[Documentary]</td>\n",
       "      <td>6.500000000</td>\n",
       "      <td>11</td>\n",
       "      <td>Documentary</td>\n",
       "      <td></td>\n",
       "      <td>Documentary</td>\n",
       "    </tr>\n",
       "  </tbody>\n",
       "</table>\n",
       "<p>65720 rows × 11 columns</p>\n",
       "</div>"
      ],
      "text/plain": [
       "        movie_id                            title              original_title  \\\n",
       "0      tt0063540                        Sunghursh                   Sunghursh   \n",
       "1      tt0066787  One Day Before the Rainy Season             Ashad Ka Ek Din   \n",
       "2      tt0069049       The Other Side of the Wind  The Other Side of the Wind   \n",
       "4      tt0100275         The Wandering Soap Opera       La Telenovela Errante   \n",
       "6      tt0137204                  Joe Finds Grace             Joe Finds Grace   \n",
       "...          ...                              ...                         ...   \n",
       "73849  tt9911774        Padmavyuhathile Abhimanyu   Padmavyuhathile Abhimanyu   \n",
       "73850  tt9913056                     Swarm Season                Swarm Season   \n",
       "73851  tt9913084                 Diabolik sono io            Diabolik sono io   \n",
       "73852  tt9914286                Sokagin Çocuklari           Sokagin Çocuklari   \n",
       "73855  tt9916160                       Drømmeland                  Drømmeland   \n",
       "\n",
       "       year  runtime_minutes                          genres  averagerating  \\\n",
       "0      2013    175.000000000          [Action, Crime, Drama]    7.000000000   \n",
       "1      2019    114.000000000              [Biography, Drama]    7.200000000   \n",
       "2      2018    122.000000000                         [Drama]    6.900000000   \n",
       "4      2017     80.000000000        [Comedy, Drama, Fantasy]    6.500000000   \n",
       "6      2017     83.000000000  [Adventure, Animation, Comedy]    8.100000000   \n",
       "...     ...              ...                             ...            ...   \n",
       "73849  2019    130.000000000                         [Drama]    8.400000000   \n",
       "73850  2019     86.000000000                   [Documentary]    6.200000000   \n",
       "73851  2019     75.000000000                   [Documentary]    6.200000000   \n",
       "73852  2019     98.000000000                 [Drama, Family]    8.700000000   \n",
       "73855  2019     72.000000000                   [Documentary]    6.500000000   \n",
       "\n",
       "       numvotes       genre1     genre2 genres_cleaned  \n",
       "0            77       Action      Crime         Action  \n",
       "1            43    Biography      Drama          Drama  \n",
       "2          4517        Drama                     Drama  \n",
       "4           119       Comedy      Drama          Drama  \n",
       "6           263    Adventure  Animation      Animation  \n",
       "...         ...          ...        ...            ...  \n",
       "73849       365        Drama                     Drama  \n",
       "73850         5  Documentary               Documentary  \n",
       "73851         6  Documentary               Documentary  \n",
       "73852       136        Drama     Family          Drama  \n",
       "73855        11  Documentary               Documentary  \n",
       "\n",
       "[65720 rows x 11 columns]"
      ]
     },
     "execution_count": 24,
     "metadata": {},
     "output_type": "execute_result"
    }
   ],
   "source": [
    "#SQLDF_GENRES_DROP\n",
    "\n",
    "conn = sqlite3.connect('zippedData/im.db')\n",
    "cur = conn.cursor()\n",
    "q = (\"\"\"\n",
    "SELECT *\n",
    "FROM movie_basics\n",
    "JOIN movie_ratings\n",
    "    USING(movie_id)\n",
    "\"\"\")\n",
    "\n",
    "sqldf = pd.read_sql(q,conn)\n",
    "#sqldf\n",
    "\n",
    "#editting genres column\n",
    "sqldf_genres_drop = sqldf.dropna()\n",
    "sqldf_genres_drop['genres'] = sqldf_genres_drop['genres'].map(lambda x:x.split(','))\n",
    "sqldf_genres_drop['genres'].map(lambda x: str(x))\n",
    "\n",
    "#creating new genre columns\n",
    "sqldf_genres_drop['genre1'] = sqldf_genres_drop['genres'].apply(lambda x: x[0])\n",
    "sqldf_genres_drop['genre2'] = sqldf_genres_drop['genres'].apply(lambda x: x[1] if (len(x) == 2 or len(x) == 3) else '')\n",
    "sqldf_genres_drop['genres_cleaned'] = sqldf_genres_drop['genre1'] + '-' + sqldf_genres_drop['genre2']\n",
    "#len(sqldf_genres_drop['genres_cleaned'][0])\n",
    "sqldf_genres_drop['genres_cleaned'] = sqldf_genres_drop['genres_cleaned'].apply(lambda x: x.rstrip('-') if x.endswith('-') else x)\n",
    "\n",
    "#Animation, Adventure, Documentary,Drama genres \n",
    "sqldf_genres_drop['genres_cleaned'] = sqldf_genres_drop['genres_cleaned'].apply(lambda x: x.replace(x,'Action') if x.endswith('-Action') or x.startswith('Action-') or x == ('Action') else x)\n",
    "sqldf_genres_drop['genres_cleaned'] = sqldf_genres_drop['genres_cleaned'].apply(lambda x: x.replace(x,'Animation') if x.endswith('-Animation') or x.startswith('Animation-') or x == ('Animation') else x)\n",
    "sqldf_genres_drop['genres_cleaned'] = sqldf_genres_drop['genres_cleaned'].apply(lambda x: x.replace(x,'Adventure') if x.endswith('-Adventure') or x.startswith('Adventure-') or x == ('Adventure') else x)\n",
    "sqldf_genres_drop['genres_cleaned'] = sqldf_genres_drop['genres_cleaned'].apply(lambda x: x.replace(x,'Documentary') if x.endswith('-Documentary') or x.startswith('Documentary-') or x == ('Documentary') else x)\n",
    "sqldf_genres_drop['genres_cleaned'] = sqldf_genres_drop['genres_cleaned'].apply(lambda x: x.replace(x,'Drama') if x.endswith('-Drama') or x.startswith('Drama-') or x == ('Drama') else x)\n",
    "\n",
    "#renaming column for merge\n",
    "sqldf_genres_drop.rename(columns = {'primary_title':'title','start_year':'year'},inplace=True)\n",
    "\n",
    "sqldf_genres_drop"
   ]
  },
  {
   "cell_type": "markdown",
   "metadata": {},
   "source": [
    "# Merging the Datasets for Analysis"
   ]
  },
  {
   "cell_type": "code",
   "execution_count": 5,
   "metadata": {},
   "outputs": [],
   "source": [
    "#merge two tables on shared columns of title and year\n",
    "merged_df = sqldf_genres_drop.merge(dropped_df_bom, how='inner',on=['title','year'])\n",
    "merged_df\n"
   ]
  },
  {
   "cell_type": "markdown",
   "metadata": {},
   "source": [
    "# Creating Layout for Analysis"
   ]
  },
  {
   "cell_type": "code",
   "execution_count": 1428,
   "metadata": {
    "scrolled": false
   },
   "outputs": [
    {
     "data": {
      "text/html": [
       "<div>\n",
       "<style scoped>\n",
       "    .dataframe tbody tr th:only-of-type {\n",
       "        vertical-align: middle;\n",
       "    }\n",
       "\n",
       "    .dataframe tbody tr th {\n",
       "        vertical-align: top;\n",
       "    }\n",
       "\n",
       "    .dataframe thead th {\n",
       "        text-align: right;\n",
       "    }\n",
       "</style>\n",
       "<table border=\"1\" class=\"dataframe\">\n",
       "  <thead>\n",
       "    <tr style=\"text-align: right;\">\n",
       "      <th></th>\n",
       "      <th>studio</th>\n",
       "      <th>genres_cleaned</th>\n",
       "      <th>title</th>\n",
       "      <th>year</th>\n",
       "      <th>domestic_gross</th>\n",
       "      <th>foreign_gross</th>\n",
       "      <th>total_gross</th>\n",
       "      <th>runtime_minutes</th>\n",
       "      <th>averagerating</th>\n",
       "    </tr>\n",
       "  </thead>\n",
       "  <tbody>\n",
       "    <tr>\n",
       "      <th>0</th>\n",
       "      <td>BV</td>\n",
       "      <td>Action</td>\n",
       "      <td>Avengers: Age of Ultron</td>\n",
       "      <td>2015</td>\n",
       "      <td>459000000.000000000</td>\n",
       "      <td>946400000.000000000</td>\n",
       "      <td>1405400000.000000000</td>\n",
       "      <td>141.000000000</td>\n",
       "      <td>7.300000000</td>\n",
       "    </tr>\n",
       "    <tr>\n",
       "      <th>1</th>\n",
       "      <td>BV</td>\n",
       "      <td>Action</td>\n",
       "      <td>Black Panther</td>\n",
       "      <td>2018</td>\n",
       "      <td>700100000.000000000</td>\n",
       "      <td>646900000.000000000</td>\n",
       "      <td>1347000000.000000000</td>\n",
       "      <td>134.000000000</td>\n",
       "      <td>7.300000000</td>\n",
       "    </tr>\n",
       "    <tr>\n",
       "      <th>2</th>\n",
       "      <td>BV</td>\n",
       "      <td>Action</td>\n",
       "      <td>Star Wars: The Last Jedi</td>\n",
       "      <td>2017</td>\n",
       "      <td>620200000.000000000</td>\n",
       "      <td>712400000.000000000</td>\n",
       "      <td>1332600000.000000000</td>\n",
       "      <td>152.000000000</td>\n",
       "      <td>7.100000000</td>\n",
       "    </tr>\n",
       "    <tr>\n",
       "      <th>3</th>\n",
       "      <td>Uni.</td>\n",
       "      <td>Action</td>\n",
       "      <td>Jurassic World: Fallen Kingdom</td>\n",
       "      <td>2018</td>\n",
       "      <td>417700000.000000000</td>\n",
       "      <td>891800000.000000000</td>\n",
       "      <td>1309500000.000000000</td>\n",
       "      <td>128.000000000</td>\n",
       "      <td>6.200000000</td>\n",
       "    </tr>\n",
       "    <tr>\n",
       "      <th>4</th>\n",
       "      <td>BV</td>\n",
       "      <td>Animation</td>\n",
       "      <td>Frozen</td>\n",
       "      <td>2013</td>\n",
       "      <td>400700000.000000000</td>\n",
       "      <td>875700000.000000000</td>\n",
       "      <td>1276400000.000000000</td>\n",
       "      <td>102.000000000</td>\n",
       "      <td>7.500000000</td>\n",
       "    </tr>\n",
       "    <tr>\n",
       "      <th>...</th>\n",
       "      <td>...</td>\n",
       "      <td>...</td>\n",
       "      <td>...</td>\n",
       "      <td>...</td>\n",
       "      <td>...</td>\n",
       "      <td>...</td>\n",
       "      <td>...</td>\n",
       "      <td>...</td>\n",
       "      <td>...</td>\n",
       "    </tr>\n",
       "    <tr>\n",
       "      <th>1247</th>\n",
       "      <td>Magn.</td>\n",
       "      <td>Documentary</td>\n",
       "      <td>Freakonomics</td>\n",
       "      <td>2010</td>\n",
       "      <td>101000.000000000</td>\n",
       "      <td>16400.000000000</td>\n",
       "      <td>117400.000000000</td>\n",
       "      <td>93.000000000</td>\n",
       "      <td>6.400000000</td>\n",
       "    </tr>\n",
       "    <tr>\n",
       "      <th>1248</th>\n",
       "      <td>Yash</td>\n",
       "      <td>Drama</td>\n",
       "      <td>Band Baaja Baaraat</td>\n",
       "      <td>2010</td>\n",
       "      <td>43800.000000000</td>\n",
       "      <td>60700.000000000</td>\n",
       "      <td>104500.000000000</td>\n",
       "      <td>139.000000000</td>\n",
       "      <td>7.200000000</td>\n",
       "    </tr>\n",
       "    <tr>\n",
       "      <th>1249</th>\n",
       "      <td>First</td>\n",
       "      <td>Crime-Thriller</td>\n",
       "      <td>As Good as Dead</td>\n",
       "      <td>2010</td>\n",
       "      <td>2000.000000000</td>\n",
       "      <td>53600.000000000</td>\n",
       "      <td>55600.000000000</td>\n",
       "      <td>100.000000000</td>\n",
       "      <td>5.200000000</td>\n",
       "    </tr>\n",
       "    <tr>\n",
       "      <th>1250</th>\n",
       "      <td>IFC</td>\n",
       "      <td>Drama</td>\n",
       "      <td>Inhale</td>\n",
       "      <td>2010</td>\n",
       "      <td>4100.000000000</td>\n",
       "      <td>51000.000000000</td>\n",
       "      <td>55100.000000000</td>\n",
       "      <td>83.000000000</td>\n",
       "      <td>6.600000000</td>\n",
       "    </tr>\n",
       "    <tr>\n",
       "      <th>1251</th>\n",
       "      <td>WOW</td>\n",
       "      <td>Documentary</td>\n",
       "      <td>GasLand</td>\n",
       "      <td>2010</td>\n",
       "      <td>30800.000000000</td>\n",
       "      <td>18600.000000000</td>\n",
       "      <td>49400.000000000</td>\n",
       "      <td>107.000000000</td>\n",
       "      <td>7.700000000</td>\n",
       "    </tr>\n",
       "  </tbody>\n",
       "</table>\n",
       "<p>1252 rows × 9 columns</p>\n",
       "</div>"
      ],
      "text/plain": [
       "     studio  genres_cleaned                           title  year  \\\n",
       "0        BV          Action         Avengers: Age of Ultron  2015   \n",
       "1        BV          Action                   Black Panther  2018   \n",
       "2        BV          Action        Star Wars: The Last Jedi  2017   \n",
       "3      Uni.          Action  Jurassic World: Fallen Kingdom  2018   \n",
       "4        BV       Animation                          Frozen  2013   \n",
       "...     ...             ...                             ...   ...   \n",
       "1247  Magn.     Documentary                    Freakonomics  2010   \n",
       "1248   Yash           Drama              Band Baaja Baaraat  2010   \n",
       "1249  First  Crime-Thriller                 As Good as Dead  2010   \n",
       "1250    IFC           Drama                          Inhale  2010   \n",
       "1251    WOW     Documentary                         GasLand  2010   \n",
       "\n",
       "          domestic_gross       foreign_gross          total_gross  \\\n",
       "0    459000000.000000000 946400000.000000000 1405400000.000000000   \n",
       "1    700100000.000000000 646900000.000000000 1347000000.000000000   \n",
       "2    620200000.000000000 712400000.000000000 1332600000.000000000   \n",
       "3    417700000.000000000 891800000.000000000 1309500000.000000000   \n",
       "4    400700000.000000000 875700000.000000000 1276400000.000000000   \n",
       "...                  ...                 ...                  ...   \n",
       "1247    101000.000000000     16400.000000000     117400.000000000   \n",
       "1248     43800.000000000     60700.000000000     104500.000000000   \n",
       "1249      2000.000000000     53600.000000000      55600.000000000   \n",
       "1250      4100.000000000     51000.000000000      55100.000000000   \n",
       "1251     30800.000000000     18600.000000000      49400.000000000   \n",
       "\n",
       "      runtime_minutes  averagerating  \n",
       "0       141.000000000    7.300000000  \n",
       "1       134.000000000    7.300000000  \n",
       "2       152.000000000    7.100000000  \n",
       "3       128.000000000    6.200000000  \n",
       "4       102.000000000    7.500000000  \n",
       "...               ...            ...  \n",
       "1247     93.000000000    6.400000000  \n",
       "1248    139.000000000    7.200000000  \n",
       "1249    100.000000000    5.200000000  \n",
       "1250     83.000000000    6.600000000  \n",
       "1251    107.000000000    7.700000000  \n",
       "\n",
       "[1252 rows x 9 columns]"
      ]
     },
     "execution_count": 1428,
     "metadata": {},
     "output_type": "execute_result"
    }
   ],
   "source": [
    "#creating a basic layout to further analyze joined dataset\n",
    "good_df = merged_df.groupby(['studio','genres_cleaned','title'],as_index = True)[['year','domestic_gross','foreign_gross','total_gross','runtime_minutes','averagerating']].mean().sort_values(by=['total_gross'],ascending=[False])\n",
    "no_index = good_df.reset_index()\n",
    "no_index['studio'] = no_index['studio'].apply(lambda x:x.replace(x,'WB') if x == 'WB (NL)' else x)\n",
    "no_index"
   ]
  },
  {
   "cell_type": "markdown",
   "metadata": {},
   "source": [
    "# BEGINNING OF ANALYSIS"
   ]
  },
  {
   "cell_type": "markdown",
   "metadata": {},
   "source": [
    "# BAR PLOT OF MOVIE GROSS BY GENRE AND BOXPLOTS TOO"
   ]
  },
  {
   "cell_type": "code",
   "execution_count": 1563,
   "metadata": {
    "scrolled": true
   },
   "outputs": [
    {
     "data": {
      "application/vnd.plotly.v1+json": {
       "config": {
        "plotlyServerURL": "https://plot.ly"
       },
       "data": [
        {
         "alignmentgroup": "True",
         "hovertemplate": "Genres=%{x}<br>Total Gross=%{y}<extra></extra>",
         "legendgroup": "Action",
         "marker": {
          "color": "#636efa"
         },
         "name": "Action",
         "offsetgroup": "Action",
         "orientation": "v",
         "showlegend": true,
         "textposition": "auto",
         "type": "bar",
         "x": [
          "Action"
         ],
         "xaxis": "x",
         "y": [
          52166002387.9
         ],
         "yaxis": "y"
        },
        {
         "alignmentgroup": "True",
         "hovertemplate": "Genres=%{x}<br>Total Gross=%{y}<extra></extra>",
         "legendgroup": "Animation",
         "marker": {
          "color": "#EF553B"
         },
         "name": "Animation",
         "offsetgroup": "Animation",
         "orientation": "v",
         "showlegend": true,
         "textposition": "auto",
         "type": "bar",
         "x": [
          "Animation"
         ],
         "xaxis": "x",
         "y": [
          17300800000
         ],
         "yaxis": "y"
        },
        {
         "alignmentgroup": "True",
         "hovertemplate": "Genres=%{x}<br>Total Gross=%{y}<extra></extra>",
         "legendgroup": "Adventure",
         "marker": {
          "color": "#00cc96"
         },
         "name": "Adventure",
         "offsetgroup": "Adventure",
         "orientation": "v",
         "showlegend": true,
         "textposition": "auto",
         "type": "bar",
         "x": [
          "Adventure"
         ],
         "xaxis": "x",
         "y": [
          6204199999
         ],
         "yaxis": "y"
        },
        {
         "alignmentgroup": "True",
         "hovertemplate": "Genres=%{x}<br>Total Gross=%{y}<extra></extra>",
         "legendgroup": "Drama",
         "marker": {
          "color": "#ab63fa"
         },
         "name": "Drama",
         "offsetgroup": "Drama",
         "orientation": "v",
         "showlegend": true,
         "textposition": "auto",
         "type": "bar",
         "x": [
          "Drama"
         ],
         "xaxis": "x",
         "y": [
          2197800000
         ],
         "yaxis": "y"
        }
       ],
       "layout": {
        "barmode": "relative",
        "legend": {
         "title": {
          "text": "Genres"
         },
         "tracegroupgap": 0
        },
        "template": {
         "data": {
          "bar": [
           {
            "error_x": {
             "color": "#2a3f5f"
            },
            "error_y": {
             "color": "#2a3f5f"
            },
            "marker": {
             "line": {
              "color": "#E5ECF6",
              "width": 0.5
             }
            },
            "type": "bar"
           }
          ],
          "barpolar": [
           {
            "marker": {
             "line": {
              "color": "#E5ECF6",
              "width": 0.5
             }
            },
            "type": "barpolar"
           }
          ],
          "carpet": [
           {
            "aaxis": {
             "endlinecolor": "#2a3f5f",
             "gridcolor": "white",
             "linecolor": "white",
             "minorgridcolor": "white",
             "startlinecolor": "#2a3f5f"
            },
            "baxis": {
             "endlinecolor": "#2a3f5f",
             "gridcolor": "white",
             "linecolor": "white",
             "minorgridcolor": "white",
             "startlinecolor": "#2a3f5f"
            },
            "type": "carpet"
           }
          ],
          "choropleth": [
           {
            "colorbar": {
             "outlinewidth": 0,
             "ticks": ""
            },
            "type": "choropleth"
           }
          ],
          "contour": [
           {
            "colorbar": {
             "outlinewidth": 0,
             "ticks": ""
            },
            "colorscale": [
             [
              0,
              "#0d0887"
             ],
             [
              0.1111111111111111,
              "#46039f"
             ],
             [
              0.2222222222222222,
              "#7201a8"
             ],
             [
              0.3333333333333333,
              "#9c179e"
             ],
             [
              0.4444444444444444,
              "#bd3786"
             ],
             [
              0.5555555555555556,
              "#d8576b"
             ],
             [
              0.6666666666666666,
              "#ed7953"
             ],
             [
              0.7777777777777778,
              "#fb9f3a"
             ],
             [
              0.8888888888888888,
              "#fdca26"
             ],
             [
              1,
              "#f0f921"
             ]
            ],
            "type": "contour"
           }
          ],
          "contourcarpet": [
           {
            "colorbar": {
             "outlinewidth": 0,
             "ticks": ""
            },
            "type": "contourcarpet"
           }
          ],
          "heatmap": [
           {
            "colorbar": {
             "outlinewidth": 0,
             "ticks": ""
            },
            "colorscale": [
             [
              0,
              "#0d0887"
             ],
             [
              0.1111111111111111,
              "#46039f"
             ],
             [
              0.2222222222222222,
              "#7201a8"
             ],
             [
              0.3333333333333333,
              "#9c179e"
             ],
             [
              0.4444444444444444,
              "#bd3786"
             ],
             [
              0.5555555555555556,
              "#d8576b"
             ],
             [
              0.6666666666666666,
              "#ed7953"
             ],
             [
              0.7777777777777778,
              "#fb9f3a"
             ],
             [
              0.8888888888888888,
              "#fdca26"
             ],
             [
              1,
              "#f0f921"
             ]
            ],
            "type": "heatmap"
           }
          ],
          "heatmapgl": [
           {
            "colorbar": {
             "outlinewidth": 0,
             "ticks": ""
            },
            "colorscale": [
             [
              0,
              "#0d0887"
             ],
             [
              0.1111111111111111,
              "#46039f"
             ],
             [
              0.2222222222222222,
              "#7201a8"
             ],
             [
              0.3333333333333333,
              "#9c179e"
             ],
             [
              0.4444444444444444,
              "#bd3786"
             ],
             [
              0.5555555555555556,
              "#d8576b"
             ],
             [
              0.6666666666666666,
              "#ed7953"
             ],
             [
              0.7777777777777778,
              "#fb9f3a"
             ],
             [
              0.8888888888888888,
              "#fdca26"
             ],
             [
              1,
              "#f0f921"
             ]
            ],
            "type": "heatmapgl"
           }
          ],
          "histogram": [
           {
            "marker": {
             "colorbar": {
              "outlinewidth": 0,
              "ticks": ""
             }
            },
            "type": "histogram"
           }
          ],
          "histogram2d": [
           {
            "colorbar": {
             "outlinewidth": 0,
             "ticks": ""
            },
            "colorscale": [
             [
              0,
              "#0d0887"
             ],
             [
              0.1111111111111111,
              "#46039f"
             ],
             [
              0.2222222222222222,
              "#7201a8"
             ],
             [
              0.3333333333333333,
              "#9c179e"
             ],
             [
              0.4444444444444444,
              "#bd3786"
             ],
             [
              0.5555555555555556,
              "#d8576b"
             ],
             [
              0.6666666666666666,
              "#ed7953"
             ],
             [
              0.7777777777777778,
              "#fb9f3a"
             ],
             [
              0.8888888888888888,
              "#fdca26"
             ],
             [
              1,
              "#f0f921"
             ]
            ],
            "type": "histogram2d"
           }
          ],
          "histogram2dcontour": [
           {
            "colorbar": {
             "outlinewidth": 0,
             "ticks": ""
            },
            "colorscale": [
             [
              0,
              "#0d0887"
             ],
             [
              0.1111111111111111,
              "#46039f"
             ],
             [
              0.2222222222222222,
              "#7201a8"
             ],
             [
              0.3333333333333333,
              "#9c179e"
             ],
             [
              0.4444444444444444,
              "#bd3786"
             ],
             [
              0.5555555555555556,
              "#d8576b"
             ],
             [
              0.6666666666666666,
              "#ed7953"
             ],
             [
              0.7777777777777778,
              "#fb9f3a"
             ],
             [
              0.8888888888888888,
              "#fdca26"
             ],
             [
              1,
              "#f0f921"
             ]
            ],
            "type": "histogram2dcontour"
           }
          ],
          "mesh3d": [
           {
            "colorbar": {
             "outlinewidth": 0,
             "ticks": ""
            },
            "type": "mesh3d"
           }
          ],
          "parcoords": [
           {
            "line": {
             "colorbar": {
              "outlinewidth": 0,
              "ticks": ""
             }
            },
            "type": "parcoords"
           }
          ],
          "pie": [
           {
            "automargin": true,
            "type": "pie"
           }
          ],
          "scatter": [
           {
            "marker": {
             "colorbar": {
              "outlinewidth": 0,
              "ticks": ""
             }
            },
            "type": "scatter"
           }
          ],
          "scatter3d": [
           {
            "line": {
             "colorbar": {
              "outlinewidth": 0,
              "ticks": ""
             }
            },
            "marker": {
             "colorbar": {
              "outlinewidth": 0,
              "ticks": ""
             }
            },
            "type": "scatter3d"
           }
          ],
          "scattercarpet": [
           {
            "marker": {
             "colorbar": {
              "outlinewidth": 0,
              "ticks": ""
             }
            },
            "type": "scattercarpet"
           }
          ],
          "scattergeo": [
           {
            "marker": {
             "colorbar": {
              "outlinewidth": 0,
              "ticks": ""
             }
            },
            "type": "scattergeo"
           }
          ],
          "scattergl": [
           {
            "marker": {
             "colorbar": {
              "outlinewidth": 0,
              "ticks": ""
             }
            },
            "type": "scattergl"
           }
          ],
          "scattermapbox": [
           {
            "marker": {
             "colorbar": {
              "outlinewidth": 0,
              "ticks": ""
             }
            },
            "type": "scattermapbox"
           }
          ],
          "scatterpolar": [
           {
            "marker": {
             "colorbar": {
              "outlinewidth": 0,
              "ticks": ""
             }
            },
            "type": "scatterpolar"
           }
          ],
          "scatterpolargl": [
           {
            "marker": {
             "colorbar": {
              "outlinewidth": 0,
              "ticks": ""
             }
            },
            "type": "scatterpolargl"
           }
          ],
          "scatterternary": [
           {
            "marker": {
             "colorbar": {
              "outlinewidth": 0,
              "ticks": ""
             }
            },
            "type": "scatterternary"
           }
          ],
          "surface": [
           {
            "colorbar": {
             "outlinewidth": 0,
             "ticks": ""
            },
            "colorscale": [
             [
              0,
              "#0d0887"
             ],
             [
              0.1111111111111111,
              "#46039f"
             ],
             [
              0.2222222222222222,
              "#7201a8"
             ],
             [
              0.3333333333333333,
              "#9c179e"
             ],
             [
              0.4444444444444444,
              "#bd3786"
             ],
             [
              0.5555555555555556,
              "#d8576b"
             ],
             [
              0.6666666666666666,
              "#ed7953"
             ],
             [
              0.7777777777777778,
              "#fb9f3a"
             ],
             [
              0.8888888888888888,
              "#fdca26"
             ],
             [
              1,
              "#f0f921"
             ]
            ],
            "type": "surface"
           }
          ],
          "table": [
           {
            "cells": {
             "fill": {
              "color": "#EBF0F8"
             },
             "line": {
              "color": "white"
             }
            },
            "header": {
             "fill": {
              "color": "#C8D4E3"
             },
             "line": {
              "color": "white"
             }
            },
            "type": "table"
           }
          ]
         },
         "layout": {
          "annotationdefaults": {
           "arrowcolor": "#2a3f5f",
           "arrowhead": 0,
           "arrowwidth": 1
          },
          "coloraxis": {
           "colorbar": {
            "outlinewidth": 0,
            "ticks": ""
           }
          },
          "colorscale": {
           "diverging": [
            [
             0,
             "#8e0152"
            ],
            [
             0.1,
             "#c51b7d"
            ],
            [
             0.2,
             "#de77ae"
            ],
            [
             0.3,
             "#f1b6da"
            ],
            [
             0.4,
             "#fde0ef"
            ],
            [
             0.5,
             "#f7f7f7"
            ],
            [
             0.6,
             "#e6f5d0"
            ],
            [
             0.7,
             "#b8e186"
            ],
            [
             0.8,
             "#7fbc41"
            ],
            [
             0.9,
             "#4d9221"
            ],
            [
             1,
             "#276419"
            ]
           ],
           "sequential": [
            [
             0,
             "#0d0887"
            ],
            [
             0.1111111111111111,
             "#46039f"
            ],
            [
             0.2222222222222222,
             "#7201a8"
            ],
            [
             0.3333333333333333,
             "#9c179e"
            ],
            [
             0.4444444444444444,
             "#bd3786"
            ],
            [
             0.5555555555555556,
             "#d8576b"
            ],
            [
             0.6666666666666666,
             "#ed7953"
            ],
            [
             0.7777777777777778,
             "#fb9f3a"
            ],
            [
             0.8888888888888888,
             "#fdca26"
            ],
            [
             1,
             "#f0f921"
            ]
           ],
           "sequentialminus": [
            [
             0,
             "#0d0887"
            ],
            [
             0.1111111111111111,
             "#46039f"
            ],
            [
             0.2222222222222222,
             "#7201a8"
            ],
            [
             0.3333333333333333,
             "#9c179e"
            ],
            [
             0.4444444444444444,
             "#bd3786"
            ],
            [
             0.5555555555555556,
             "#d8576b"
            ],
            [
             0.6666666666666666,
             "#ed7953"
            ],
            [
             0.7777777777777778,
             "#fb9f3a"
            ],
            [
             0.8888888888888888,
             "#fdca26"
            ],
            [
             1,
             "#f0f921"
            ]
           ]
          },
          "colorway": [
           "#636efa",
           "#EF553B",
           "#00cc96",
           "#ab63fa",
           "#FFA15A",
           "#19d3f3",
           "#FF6692",
           "#B6E880",
           "#FF97FF",
           "#FECB52"
          ],
          "font": {
           "color": "#2a3f5f"
          },
          "geo": {
           "bgcolor": "white",
           "lakecolor": "white",
           "landcolor": "#E5ECF6",
           "showlakes": true,
           "showland": true,
           "subunitcolor": "white"
          },
          "hoverlabel": {
           "align": "left"
          },
          "hovermode": "closest",
          "mapbox": {
           "style": "light"
          },
          "paper_bgcolor": "white",
          "plot_bgcolor": "#E5ECF6",
          "polar": {
           "angularaxis": {
            "gridcolor": "white",
            "linecolor": "white",
            "ticks": ""
           },
           "bgcolor": "#E5ECF6",
           "radialaxis": {
            "gridcolor": "white",
            "linecolor": "white",
            "ticks": ""
           }
          },
          "scene": {
           "xaxis": {
            "backgroundcolor": "#E5ECF6",
            "gridcolor": "white",
            "gridwidth": 2,
            "linecolor": "white",
            "showbackground": true,
            "ticks": "",
            "zerolinecolor": "white"
           },
           "yaxis": {
            "backgroundcolor": "#E5ECF6",
            "gridcolor": "white",
            "gridwidth": 2,
            "linecolor": "white",
            "showbackground": true,
            "ticks": "",
            "zerolinecolor": "white"
           },
           "zaxis": {
            "backgroundcolor": "#E5ECF6",
            "gridcolor": "white",
            "gridwidth": 2,
            "linecolor": "white",
            "showbackground": true,
            "ticks": "",
            "zerolinecolor": "white"
           }
          },
          "shapedefaults": {
           "line": {
            "color": "#2a3f5f"
           }
          },
          "ternary": {
           "aaxis": {
            "gridcolor": "white",
            "linecolor": "white",
            "ticks": ""
           },
           "baxis": {
            "gridcolor": "white",
            "linecolor": "white",
            "ticks": ""
           },
           "bgcolor": "#E5ECF6",
           "caxis": {
            "gridcolor": "white",
            "linecolor": "white",
            "ticks": ""
           }
          },
          "title": {
           "x": 0.05
          },
          "xaxis": {
           "automargin": true,
           "gridcolor": "white",
           "linecolor": "white",
           "ticks": "",
           "title": {
            "standoff": 15
           },
           "zerolinecolor": "white",
           "zerolinewidth": 2
          },
          "yaxis": {
           "automargin": true,
           "gridcolor": "white",
           "linecolor": "white",
           "ticks": "",
           "title": {
            "standoff": 15
           },
           "zerolinecolor": "white",
           "zerolinewidth": 2
          }
         }
        },
        "title": {
         "text": "Total Gross of Top 100 Movies Based on Genre"
        },
        "xaxis": {
         "anchor": "y",
         "categoryarray": [
          "Action",
          "Animation",
          "Adventure",
          "Drama"
         ],
         "categoryorder": "array",
         "domain": [
          0,
          1
         ],
         "title": {
          "text": "Genres"
         }
        },
        "yaxis": {
         "anchor": "x",
         "domain": [
          0,
          1
         ],
         "title": {
          "text": "Total Gross"
         }
        }
       }
      },
      "text/html": [
       "<div>                            <div id=\"6d54daa7-753d-4742-9498-3cf3b897f4a7\" class=\"plotly-graph-div\" style=\"height:525px; width:100%;\"></div>            <script type=\"text/javascript\">                require([\"plotly\"], function(Plotly) {                    window.PLOTLYENV=window.PLOTLYENV || {};                                    if (document.getElementById(\"6d54daa7-753d-4742-9498-3cf3b897f4a7\")) {                    Plotly.newPlot(                        \"6d54daa7-753d-4742-9498-3cf3b897f4a7\",                        [{\"alignmentgroup\": \"True\", \"hovertemplate\": \"Genres=%{x}<br>Total Gross=%{y}<extra></extra>\", \"legendgroup\": \"Action\", \"marker\": {\"color\": \"#636efa\"}, \"name\": \"Action\", \"offsetgroup\": \"Action\", \"orientation\": \"v\", \"showlegend\": true, \"textposition\": \"auto\", \"type\": \"bar\", \"x\": [\"Action\"], \"xaxis\": \"x\", \"y\": [52166002387.9], \"yaxis\": \"y\"}, {\"alignmentgroup\": \"True\", \"hovertemplate\": \"Genres=%{x}<br>Total Gross=%{y}<extra></extra>\", \"legendgroup\": \"Animation\", \"marker\": {\"color\": \"#EF553B\"}, \"name\": \"Animation\", \"offsetgroup\": \"Animation\", \"orientation\": \"v\", \"showlegend\": true, \"textposition\": \"auto\", \"type\": \"bar\", \"x\": [\"Animation\"], \"xaxis\": \"x\", \"y\": [17300800000.0], \"yaxis\": \"y\"}, {\"alignmentgroup\": \"True\", \"hovertemplate\": \"Genres=%{x}<br>Total Gross=%{y}<extra></extra>\", \"legendgroup\": \"Adventure\", \"marker\": {\"color\": \"#00cc96\"}, \"name\": \"Adventure\", \"offsetgroup\": \"Adventure\", \"orientation\": \"v\", \"showlegend\": true, \"textposition\": \"auto\", \"type\": \"bar\", \"x\": [\"Adventure\"], \"xaxis\": \"x\", \"y\": [6204199999.0], \"yaxis\": \"y\"}, {\"alignmentgroup\": \"True\", \"hovertemplate\": \"Genres=%{x}<br>Total Gross=%{y}<extra></extra>\", \"legendgroup\": \"Drama\", \"marker\": {\"color\": \"#ab63fa\"}, \"name\": \"Drama\", \"offsetgroup\": \"Drama\", \"orientation\": \"v\", \"showlegend\": true, \"textposition\": \"auto\", \"type\": \"bar\", \"x\": [\"Drama\"], \"xaxis\": \"x\", \"y\": [2197800000.0], \"yaxis\": \"y\"}],                        {\"barmode\": \"relative\", \"legend\": {\"title\": {\"text\": \"Genres\"}, \"tracegroupgap\": 0}, \"template\": {\"data\": {\"bar\": [{\"error_x\": {\"color\": \"#2a3f5f\"}, \"error_y\": {\"color\": \"#2a3f5f\"}, \"marker\": {\"line\": {\"color\": \"#E5ECF6\", \"width\": 0.5}}, \"type\": \"bar\"}], \"barpolar\": [{\"marker\": {\"line\": {\"color\": \"#E5ECF6\", \"width\": 0.5}}, \"type\": \"barpolar\"}], \"carpet\": [{\"aaxis\": {\"endlinecolor\": \"#2a3f5f\", \"gridcolor\": \"white\", \"linecolor\": \"white\", \"minorgridcolor\": \"white\", \"startlinecolor\": \"#2a3f5f\"}, \"baxis\": {\"endlinecolor\": \"#2a3f5f\", \"gridcolor\": \"white\", \"linecolor\": \"white\", \"minorgridcolor\": \"white\", \"startlinecolor\": \"#2a3f5f\"}, \"type\": \"carpet\"}], \"choropleth\": [{\"colorbar\": {\"outlinewidth\": 0, \"ticks\": \"\"}, \"type\": \"choropleth\"}], \"contour\": [{\"colorbar\": {\"outlinewidth\": 0, \"ticks\": \"\"}, \"colorscale\": [[0.0, \"#0d0887\"], [0.1111111111111111, \"#46039f\"], [0.2222222222222222, \"#7201a8\"], [0.3333333333333333, \"#9c179e\"], [0.4444444444444444, \"#bd3786\"], [0.5555555555555556, \"#d8576b\"], [0.6666666666666666, \"#ed7953\"], [0.7777777777777778, \"#fb9f3a\"], [0.8888888888888888, \"#fdca26\"], [1.0, \"#f0f921\"]], \"type\": \"contour\"}], \"contourcarpet\": [{\"colorbar\": {\"outlinewidth\": 0, \"ticks\": \"\"}, \"type\": \"contourcarpet\"}], \"heatmap\": [{\"colorbar\": {\"outlinewidth\": 0, \"ticks\": \"\"}, \"colorscale\": [[0.0, \"#0d0887\"], [0.1111111111111111, \"#46039f\"], [0.2222222222222222, \"#7201a8\"], [0.3333333333333333, \"#9c179e\"], [0.4444444444444444, \"#bd3786\"], [0.5555555555555556, \"#d8576b\"], [0.6666666666666666, \"#ed7953\"], [0.7777777777777778, \"#fb9f3a\"], [0.8888888888888888, \"#fdca26\"], [1.0, \"#f0f921\"]], \"type\": \"heatmap\"}], \"heatmapgl\": [{\"colorbar\": {\"outlinewidth\": 0, \"ticks\": \"\"}, \"colorscale\": [[0.0, \"#0d0887\"], [0.1111111111111111, \"#46039f\"], [0.2222222222222222, \"#7201a8\"], [0.3333333333333333, \"#9c179e\"], [0.4444444444444444, \"#bd3786\"], [0.5555555555555556, \"#d8576b\"], [0.6666666666666666, \"#ed7953\"], [0.7777777777777778, \"#fb9f3a\"], [0.8888888888888888, \"#fdca26\"], [1.0, \"#f0f921\"]], \"type\": \"heatmapgl\"}], \"histogram\": [{\"marker\": {\"colorbar\": {\"outlinewidth\": 0, \"ticks\": \"\"}}, \"type\": \"histogram\"}], \"histogram2d\": [{\"colorbar\": {\"outlinewidth\": 0, \"ticks\": \"\"}, \"colorscale\": [[0.0, \"#0d0887\"], [0.1111111111111111, \"#46039f\"], [0.2222222222222222, \"#7201a8\"], [0.3333333333333333, \"#9c179e\"], [0.4444444444444444, \"#bd3786\"], [0.5555555555555556, \"#d8576b\"], [0.6666666666666666, \"#ed7953\"], [0.7777777777777778, \"#fb9f3a\"], [0.8888888888888888, \"#fdca26\"], [1.0, \"#f0f921\"]], \"type\": \"histogram2d\"}], \"histogram2dcontour\": [{\"colorbar\": {\"outlinewidth\": 0, \"ticks\": \"\"}, \"colorscale\": [[0.0, \"#0d0887\"], [0.1111111111111111, \"#46039f\"], [0.2222222222222222, \"#7201a8\"], [0.3333333333333333, \"#9c179e\"], [0.4444444444444444, \"#bd3786\"], [0.5555555555555556, \"#d8576b\"], [0.6666666666666666, \"#ed7953\"], [0.7777777777777778, \"#fb9f3a\"], [0.8888888888888888, \"#fdca26\"], [1.0, \"#f0f921\"]], \"type\": \"histogram2dcontour\"}], \"mesh3d\": [{\"colorbar\": {\"outlinewidth\": 0, \"ticks\": \"\"}, \"type\": \"mesh3d\"}], \"parcoords\": [{\"line\": {\"colorbar\": {\"outlinewidth\": 0, \"ticks\": \"\"}}, \"type\": \"parcoords\"}], \"pie\": [{\"automargin\": true, \"type\": \"pie\"}], \"scatter\": [{\"marker\": {\"colorbar\": {\"outlinewidth\": 0, \"ticks\": \"\"}}, \"type\": \"scatter\"}], \"scatter3d\": [{\"line\": {\"colorbar\": {\"outlinewidth\": 0, \"ticks\": \"\"}}, \"marker\": {\"colorbar\": {\"outlinewidth\": 0, \"ticks\": \"\"}}, \"type\": \"scatter3d\"}], \"scattercarpet\": [{\"marker\": {\"colorbar\": {\"outlinewidth\": 0, \"ticks\": \"\"}}, \"type\": \"scattercarpet\"}], \"scattergeo\": [{\"marker\": {\"colorbar\": {\"outlinewidth\": 0, \"ticks\": \"\"}}, \"type\": \"scattergeo\"}], \"scattergl\": [{\"marker\": {\"colorbar\": {\"outlinewidth\": 0, \"ticks\": \"\"}}, \"type\": \"scattergl\"}], \"scattermapbox\": [{\"marker\": {\"colorbar\": {\"outlinewidth\": 0, \"ticks\": \"\"}}, \"type\": \"scattermapbox\"}], \"scatterpolar\": [{\"marker\": {\"colorbar\": {\"outlinewidth\": 0, \"ticks\": \"\"}}, \"type\": \"scatterpolar\"}], \"scatterpolargl\": [{\"marker\": {\"colorbar\": {\"outlinewidth\": 0, \"ticks\": \"\"}}, \"type\": \"scatterpolargl\"}], \"scatterternary\": [{\"marker\": {\"colorbar\": {\"outlinewidth\": 0, \"ticks\": \"\"}}, \"type\": \"scatterternary\"}], \"surface\": [{\"colorbar\": {\"outlinewidth\": 0, \"ticks\": \"\"}, \"colorscale\": [[0.0, \"#0d0887\"], [0.1111111111111111, \"#46039f\"], [0.2222222222222222, \"#7201a8\"], [0.3333333333333333, \"#9c179e\"], [0.4444444444444444, \"#bd3786\"], [0.5555555555555556, \"#d8576b\"], [0.6666666666666666, \"#ed7953\"], [0.7777777777777778, \"#fb9f3a\"], [0.8888888888888888, \"#fdca26\"], [1.0, \"#f0f921\"]], \"type\": \"surface\"}], \"table\": [{\"cells\": {\"fill\": {\"color\": \"#EBF0F8\"}, \"line\": {\"color\": \"white\"}}, \"header\": {\"fill\": {\"color\": \"#C8D4E3\"}, \"line\": {\"color\": \"white\"}}, \"type\": \"table\"}]}, \"layout\": {\"annotationdefaults\": {\"arrowcolor\": \"#2a3f5f\", \"arrowhead\": 0, \"arrowwidth\": 1}, \"coloraxis\": {\"colorbar\": {\"outlinewidth\": 0, \"ticks\": \"\"}}, \"colorscale\": {\"diverging\": [[0, \"#8e0152\"], [0.1, \"#c51b7d\"], [0.2, \"#de77ae\"], [0.3, \"#f1b6da\"], [0.4, \"#fde0ef\"], [0.5, \"#f7f7f7\"], [0.6, \"#e6f5d0\"], [0.7, \"#b8e186\"], [0.8, \"#7fbc41\"], [0.9, \"#4d9221\"], [1, \"#276419\"]], \"sequential\": [[0.0, \"#0d0887\"], [0.1111111111111111, \"#46039f\"], [0.2222222222222222, \"#7201a8\"], [0.3333333333333333, \"#9c179e\"], [0.4444444444444444, \"#bd3786\"], [0.5555555555555556, \"#d8576b\"], [0.6666666666666666, \"#ed7953\"], [0.7777777777777778, \"#fb9f3a\"], [0.8888888888888888, \"#fdca26\"], [1.0, \"#f0f921\"]], \"sequentialminus\": [[0.0, \"#0d0887\"], [0.1111111111111111, \"#46039f\"], [0.2222222222222222, \"#7201a8\"], [0.3333333333333333, \"#9c179e\"], [0.4444444444444444, \"#bd3786\"], [0.5555555555555556, \"#d8576b\"], [0.6666666666666666, \"#ed7953\"], [0.7777777777777778, \"#fb9f3a\"], [0.8888888888888888, \"#fdca26\"], [1.0, \"#f0f921\"]]}, \"colorway\": [\"#636efa\", \"#EF553B\", \"#00cc96\", \"#ab63fa\", \"#FFA15A\", \"#19d3f3\", \"#FF6692\", \"#B6E880\", \"#FF97FF\", \"#FECB52\"], \"font\": {\"color\": \"#2a3f5f\"}, \"geo\": {\"bgcolor\": \"white\", \"lakecolor\": \"white\", \"landcolor\": \"#E5ECF6\", \"showlakes\": true, \"showland\": true, \"subunitcolor\": \"white\"}, \"hoverlabel\": {\"align\": \"left\"}, \"hovermode\": \"closest\", \"mapbox\": {\"style\": \"light\"}, \"paper_bgcolor\": \"white\", \"plot_bgcolor\": \"#E5ECF6\", \"polar\": {\"angularaxis\": {\"gridcolor\": \"white\", \"linecolor\": \"white\", \"ticks\": \"\"}, \"bgcolor\": \"#E5ECF6\", \"radialaxis\": {\"gridcolor\": \"white\", \"linecolor\": \"white\", \"ticks\": \"\"}}, \"scene\": {\"xaxis\": {\"backgroundcolor\": \"#E5ECF6\", \"gridcolor\": \"white\", \"gridwidth\": 2, \"linecolor\": \"white\", \"showbackground\": true, \"ticks\": \"\", \"zerolinecolor\": \"white\"}, \"yaxis\": {\"backgroundcolor\": \"#E5ECF6\", \"gridcolor\": \"white\", \"gridwidth\": 2, \"linecolor\": \"white\", \"showbackground\": true, \"ticks\": \"\", \"zerolinecolor\": \"white\"}, \"zaxis\": {\"backgroundcolor\": \"#E5ECF6\", \"gridcolor\": \"white\", \"gridwidth\": 2, \"linecolor\": \"white\", \"showbackground\": true, \"ticks\": \"\", \"zerolinecolor\": \"white\"}}, \"shapedefaults\": {\"line\": {\"color\": \"#2a3f5f\"}}, \"ternary\": {\"aaxis\": {\"gridcolor\": \"white\", \"linecolor\": \"white\", \"ticks\": \"\"}, \"baxis\": {\"gridcolor\": \"white\", \"linecolor\": \"white\", \"ticks\": \"\"}, \"bgcolor\": \"#E5ECF6\", \"caxis\": {\"gridcolor\": \"white\", \"linecolor\": \"white\", \"ticks\": \"\"}}, \"title\": {\"x\": 0.05}, \"xaxis\": {\"automargin\": true, \"gridcolor\": \"white\", \"linecolor\": \"white\", \"ticks\": \"\", \"title\": {\"standoff\": 15}, \"zerolinecolor\": \"white\", \"zerolinewidth\": 2}, \"yaxis\": {\"automargin\": true, \"gridcolor\": \"white\", \"linecolor\": \"white\", \"ticks\": \"\", \"title\": {\"standoff\": 15}, \"zerolinecolor\": \"white\", \"zerolinewidth\": 2}}}, \"title\": {\"text\": \"Total Gross of Top 100 Movies Based on Genre\"}, \"xaxis\": {\"anchor\": \"y\", \"categoryarray\": [\"Action\", \"Animation\", \"Adventure\", \"Drama\"], \"categoryorder\": \"array\", \"domain\": [0.0, 1.0], \"title\": {\"text\": \"Genres\"}}, \"yaxis\": {\"anchor\": \"x\", \"domain\": [0.0, 1.0], \"title\": {\"text\": \"Total Gross\"}}},                        {\"responsive\": true}                    ).then(function(){\n",
       "                            \n",
       "var gd = document.getElementById('6d54daa7-753d-4742-9498-3cf3b897f4a7');\n",
       "var x = new MutationObserver(function (mutations, observer) {{\n",
       "        var display = window.getComputedStyle(gd).display;\n",
       "        if (!display || display === 'none') {{\n",
       "            console.log([gd, 'removed!']);\n",
       "            Plotly.purge(gd);\n",
       "            observer.disconnect();\n",
       "        }}\n",
       "}});\n",
       "\n",
       "// Listen for the removal of the full notebook cells\n",
       "var notebookContainer = gd.closest('#notebook-container');\n",
       "if (notebookContainer) {{\n",
       "    x.observe(notebookContainer, {childList: true});\n",
       "}}\n",
       "\n",
       "// Listen for the clearing of the current output cell\n",
       "var outputEl = gd.closest('.output');\n",
       "if (outputEl) {{\n",
       "    x.observe(outputEl, {childList: true});\n",
       "}}\n",
       "\n",
       "                        })                };                });            </script>        </div>"
      ]
     },
     "metadata": {},
     "output_type": "display_data"
    }
   ],
   "source": [
    "#Plot top 100 movies based on top 4 genres, as other genres only had one movie\n",
    "movies = no_index.groupby(['title','genres_cleaned'])['total_gross'].sum().sort_values(ascending=False).reset_index().head(100)\n",
    "movies_genre = movies.loc[(movies['genres_cleaned'] == 'Action')|(movies['genres_cleaned'] == 'Animation')|(movies['genres_cleaned'] == 'Adventure')|(movies['genres_cleaned'] == 'Drama')]\n",
    "total_per_genre = movies_genre.groupby('genres_cleaned')['total_gross'].sum().sort_values(ascending=False).reset_index()\n",
    "px.bar(total_per_genre,x='genres_cleaned',y='total_gross',title='Total Gross of Top 100 Movies Based on Genre',\n",
    "      labels = {'genres_cleaned':'Genres','total_gross':'Total Gross'},\n",
    "      color='genres_cleaned')\n",
    "\n",
    "\n"
   ]
  },
  {
   "cell_type": "markdown",
   "metadata": {},
   "source": [
    "# SWARM AND BOX PLOTS OF MOVIES BY GENRE"
   ]
  },
  {
   "cell_type": "code",
   "execution_count": 1564,
   "metadata": {
    "scrolled": true
   },
   "outputs": [
    {
     "data": {
      "image/png": "[encoded data removed]",
      "text/plain": [
       "<Figure size 720x360 with 2 Axes>"
      ]
     },
     "metadata": {},
     "output_type": "display_data"
    }
   ],
   "source": [
    "#Organize movies by top 100 by total gross, use genres as colors\n",
    "movies = no_index.groupby(['title','genres_cleaned'])['total_gross'].sum().sort_values(ascending=False).reset_index().head(100)\n",
    "movies_genre = movies.loc[(movies['genres_cleaned'] == 'Action')|(movies['genres_cleaned'] == 'Animation')|(movies['genres_cleaned'] == 'Adventure')|(movies['genres_cleaned'] == 'Drama')]\n",
    "totals = movies_genre.groupby('genres_cleaned').count().sort_values(by = 'total_gross',ascending=False).reset_index()\n",
    "totals\n",
    "\n",
    "fig, axes = plt.subplots(1,2, figsize = (10,5))\n",
    "\n",
    "#Barplot\n",
    "sns.barplot(ax=axes[0],data=totals,x='genres_cleaned',y='total_gross').set(xlabel ='Genres', ylabel= 'Movie Count', title = 'Top 100 Grossing Movies by Genre')\n",
    "\n",
    "#Swarmplot\n",
    "sns.swarmplot(ax=axes[1],data=movies_genre,x='genres_cleaned',y='total_gross').set(xlabel ='Genres', ylabel= 'Total gross ($, billion)', title = 'Top 100 Grossing Movies by Genre')\n",
    "\n",
    "#list from value_counts by genre\n",
    "a = ['Action = 64','Animation = 21','Adventure = 8','Drama = 3']\n",
    "\n",
    "plt.legend(a);\n"
   ]
  },
  {
   "cell_type": "code",
   "execution_count": 1565,
   "metadata": {},
   "outputs": [
    {
     "data": {
      "image/png": "[encoded data removed]",
      "text/plain": [
       "<Figure size 720x432 with 2 Axes>"
      ]
     },
     "metadata": {},
     "output_type": "display_data"
    }
   ],
   "source": [
    "#Organize top 250 movies by title, genres and total gross\n",
    "top250 = no_index.groupby(['title','genres_cleaned'])['total_gross'].sum().sort_values(ascending=False).reset_index().head(250)\n",
    "top250_genres = top250.loc[(top250['genres_cleaned'] == 'Action')|(top250['genres_cleaned'] == 'Animation')|(top250['genres_cleaned'] == 'Adventure')|(top250['genres_cleaned'] == 'Drama')]\n",
    "totals = top250_genres.groupby('genres_cleaned').count().sort_values(by='total_gross',ascending=False).reset_index()\n",
    "totals\n",
    "fig, axes = plt.subplots(1,2, figsize = (10,6))\n",
    "\n",
    "#Barplot\n",
    "sns.barplot(ax = axes[0],data=totals,x='genres_cleaned',y='total_gross').set(xlabel ='Genres', ylabel= 'Movie Count', title = 'Top 250 Grossing Movies by Genre')\n",
    "#Swarmplot\n",
    "sns.swarmplot(ax = axes[1],data=top250_genres,x='genres_cleaned',y='total_gross').set(xlabel ='Genres', ylabel= 'Total gross ($, billion)', title = 'Top 250 Grossing Movies by Genre')\n",
    "\n",
    "#list of value_counts by genre\n",
    "a = ['Action = 137','Animation = 46','Adventure = 21','Drama = 18']\n",
    "plt.legend(a);\n"
   ]
  },
  {
   "cell_type": "code",
   "execution_count": 1457,
   "metadata": {},
   "outputs": [],
   "source": [
    "#top500 = no_index.groupby(['title','genres_cleaned'])[['averagerating','total_gross']].sum().sort_values(by ='total_gross',ascending=False).reset_index().head(500)\n",
    "#top500_genres = top500.loc[(top250['genres_cleaned'] == 'Action')|(top500['genres_cleaned'] == 'Animation')|(top500['genres_cleaned'] == 'Adventure')|(top500['genres_cleaned'] == 'Drama')]\n",
    "\n",
    "#fig, axes = plt.subplots(1,2, figsize = (10,6))\n",
    "\n",
    "#BOX\n",
    "#sns.boxplot(ax=axes[0],data=top500_genres,x='genres_cleaned',y='total_gross').set(xlabel ='Genres', ylabel= 'Total gross ($, billion)', title = 'Top 500 Grossing Movies')\n",
    "\n",
    "#SWARM\n",
    "#sns.swarmplot(ax = axes[1],data=top500_genres,x='genres_cleaned',y='total_gross').set(xlabel ='Genres', ylabel= 'Total gross ($, billion)', title = 'Top 500 Grossing Movies')\n",
    "\n",
    "#a= ['Action - 137','Animation - 46','Adventure - 40','Drama - 88']\n",
    "#plt.legend(a);"
   ]
  },
  {
   "cell_type": "code",
   "execution_count": 1521,
   "metadata": {},
   "outputs": [],
   "source": [
    "#box+whisker plot with production company as x, gross as y, hue=genres\n",
    "#stu = no_index.groupby(['studio','genres_cleaned','title'])[['averagerating','total_gross']].sum().sort_values(by ='total_gross',ascending=False).reset_index().head(100)\n",
    "\n",
    "#stu = stu.loc[(stu['genres_cleaned'] == 'Action')|(stu['genres_cleaned'] == 'Animation')]\n",
    "#stu = stu.loc[(stu['studio'] == 'BV')|(stu['studio'] == 'WB')|(stu['studio'] == 'Fox')|(stu['studio'] == 'Uni.')|(stu['studio'] == 'Par.')]\n",
    "#stu\n",
    "#sns.boxplot(data=stu,x='studio',y='total_gross',hue='genres_cleaned').set(xlabel ='Studio', ylabel= 'Total gross ($, billion)', title = 'Studio Grossing by Genre');\n"
   ]
  },
  {
   "cell_type": "code",
   "execution_count": 1522,
   "metadata": {},
   "outputs": [],
   "source": [
    "#box+whisker plot with production company as x, gross as y, hue=genres\n",
    "#stu = no_index.groupby(['studio','genres_cleaned','title'])[['averagerating','total_gross']].sum().sort_values(by ='total_gross',ascending=False).reset_index().head(250)\n",
    "\n",
    "#stu = stu.loc[(stu['genres_cleaned'] == 'Action')|(stu['genres_cleaned'] == 'Animation')]\n",
    "#stu = stu.loc[(stu['studio'] == 'BV')|(stu['studio'] == 'WB')|(stu['studio'] == 'Fox')|(stu['studio'] == 'Uni.')|(stu['studio'] == 'Par.')]\n",
    "#stu\n",
    "#sns.boxplot(data=stu,x='studio',y='total_gross',hue='genres_cleaned').set(xlabel ='Studio', ylabel= 'Total gross ($, billion)', title = 'Studio Grossing by Genre');"
   ]
  },
  {
   "cell_type": "markdown",
   "metadata": {},
   "source": [
    "# Top 10 Studios"
   ]
  },
  {
   "cell_type": "code",
   "execution_count": 1566,
   "metadata": {},
   "outputs": [
    {
     "data": {
      "application/vnd.plotly.v1+json": {
       "config": {
        "plotlyServerURL": "https://plot.ly"
       },
       "data": [
        {
         "alignmentgroup": "True",
         "hovertemplate": "Studio=%{x}<br>Total Gross ($)=%{y}<extra></extra>",
         "legendgroup": "BV",
         "marker": {
          "color": "#636efa"
         },
         "name": "BV",
         "offsetgroup": "BV",
         "orientation": "v",
         "showlegend": true,
         "textposition": "auto",
         "type": "bar",
         "x": [
          "BV"
         ],
         "xaxis": "x",
         "y": [
          36306749368.5
         ],
         "yaxis": "y"
        },
        {
         "alignmentgroup": "True",
         "hovertemplate": "Studio=%{x}<br>Total Gross ($)=%{y}<extra></extra>",
         "legendgroup": "WB",
         "marker": {
          "color": "#EF553B"
         },
         "name": "WB",
         "offsetgroup": "WB",
         "orientation": "v",
         "showlegend": true,
         "textposition": "auto",
         "type": "bar",
         "x": [
          "WB"
         ],
         "xaxis": "x",
         "y": [
          32643802998
         ],
         "yaxis": "y"
        },
        {
         "alignmentgroup": "True",
         "hovertemplate": "Studio=%{x}<br>Total Gross ($)=%{y}<extra></extra>",
         "legendgroup": "Fox",
         "marker": {
          "color": "#00cc96"
         },
         "name": "Fox",
         "offsetgroup": "Fox",
         "orientation": "v",
         "showlegend": true,
         "textposition": "auto",
         "type": "bar",
         "x": [
          "Fox"
         ],
         "xaxis": "x",
         "y": [
          26579466597
         ],
         "yaxis": "y"
        },
        {
         "alignmentgroup": "True",
         "hovertemplate": "Studio=%{x}<br>Total Gross ($)=%{y}<extra></extra>",
         "legendgroup": "Uni.",
         "marker": {
          "color": "#ab63fa"
         },
         "name": "Uni.",
         "offsetgroup": "Uni.",
         "orientation": "v",
         "showlegend": true,
         "textposition": "auto",
         "type": "bar",
         "x": [
          "Uni."
         ],
         "xaxis": "x",
         "y": [
          25975209191.4
         ],
         "yaxis": "y"
        },
        {
         "alignmentgroup": "True",
         "hovertemplate": "Studio=%{x}<br>Total Gross ($)=%{y}<extra></extra>",
         "legendgroup": "Sony",
         "marker": {
          "color": "#FFA15A"
         },
         "name": "Sony",
         "offsetgroup": "Sony",
         "orientation": "v",
         "showlegend": true,
         "textposition": "auto",
         "type": "bar",
         "x": [
          "Sony"
         ],
         "xaxis": "x",
         "y": [
          17165650497
         ],
         "yaxis": "y"
        },
        {
         "alignmentgroup": "True",
         "hovertemplate": "Studio=%{x}<br>Total Gross ($)=%{y}<extra></extra>",
         "legendgroup": "Par.",
         "marker": {
          "color": "#19d3f3"
         },
         "name": "Par.",
         "offsetgroup": "Par.",
         "orientation": "v",
         "showlegend": true,
         "textposition": "auto",
         "type": "bar",
         "x": [
          "Par."
         ],
         "xaxis": "x",
         "y": [
          16172379698
         ],
         "yaxis": "y"
        },
        {
         "alignmentgroup": "True",
         "hovertemplate": "Studio=%{x}<br>Total Gross ($)=%{y}<extra></extra>",
         "legendgroup": "LGF",
         "marker": {
          "color": "#FF6692"
         },
         "name": "LGF",
         "offsetgroup": "LGF",
         "orientation": "v",
         "showlegend": true,
         "textposition": "auto",
         "type": "bar",
         "x": [
          "LGF"
         ],
         "xaxis": "x",
         "y": [
          7473158700
         ],
         "yaxis": "y"
        },
        {
         "alignmentgroup": "True",
         "hovertemplate": "Studio=%{x}<br>Total Gross ($)=%{y}<extra></extra>",
         "legendgroup": "P/DW",
         "marker": {
          "color": "#B6E880"
         },
         "name": "P/DW",
         "offsetgroup": "P/DW",
         "orientation": "v",
         "showlegend": true,
         "textposition": "auto",
         "type": "bar",
         "x": [
          "P/DW"
         ],
         "xaxis": "x",
         "y": [
          5076500000
         ],
         "yaxis": "y"
        },
        {
         "alignmentgroup": "True",
         "hovertemplate": "Studio=%{x}<br>Total Gross ($)=%{y}<extra></extra>",
         "legendgroup": "LG/S",
         "marker": {
          "color": "#FF97FF"
         },
         "name": "LG/S",
         "offsetgroup": "LG/S",
         "orientation": "v",
         "showlegend": true,
         "textposition": "auto",
         "type": "bar",
         "x": [
          "LG/S"
         ],
         "xaxis": "x",
         "y": [
          3548023999
         ],
         "yaxis": "y"
        },
        {
         "alignmentgroup": "True",
         "hovertemplate": "Studio=%{x}<br>Total Gross ($)=%{y}<extra></extra>",
         "legendgroup": "Wein.",
         "marker": {
          "color": "#FECB52"
         },
         "name": "Wein.",
         "offsetgroup": "Wein.",
         "orientation": "v",
         "showlegend": true,
         "textposition": "auto",
         "type": "bar",
         "x": [
          "Wein."
         ],
         "xaxis": "x",
         "y": [
          3168574998
         ],
         "yaxis": "y"
        }
       ],
       "layout": {
        "barmode": "relative",
        "legend": {
         "title": {
          "text": "Studio"
         },
         "tracegroupgap": 0
        },
        "template": {
         "data": {
          "bar": [
           {
            "error_x": {
             "color": "#2a3f5f"
            },
            "error_y": {
             "color": "#2a3f5f"
            },
            "marker": {
             "line": {
              "color": "#E5ECF6",
              "width": 0.5
             }
            },
            "type": "bar"
           }
          ],
          "barpolar": [
           {
            "marker": {
             "line": {
              "color": "#E5ECF6",
              "width": 0.5
             }
            },
            "type": "barpolar"
           }
          ],
          "carpet": [
           {
            "aaxis": {
             "endlinecolor": "#2a3f5f",
             "gridcolor": "white",
             "linecolor": "white",
             "minorgridcolor": "white",
             "startlinecolor": "#2a3f5f"
            },
            "baxis": {
             "endlinecolor": "#2a3f5f",
             "gridcolor": "white",
             "linecolor": "white",
             "minorgridcolor": "white",
             "startlinecolor": "#2a3f5f"
            },
            "type": "carpet"
           }
          ],
          "choropleth": [
           {
            "colorbar": {
             "outlinewidth": 0,
             "ticks": ""
            },
            "type": "choropleth"
           }
          ],
          "contour": [
           {
            "colorbar": {
             "outlinewidth": 0,
             "ticks": ""
            },
            "colorscale": [
             [
              0,
              "#0d0887"
             ],
             [
              0.1111111111111111,
              "#46039f"
             ],
             [
              0.2222222222222222,
              "#7201a8"
             ],
             [
              0.3333333333333333,
              "#9c179e"
             ],
             [
              0.4444444444444444,
              "#bd3786"
             ],
             [
              0.5555555555555556,
              "#d8576b"
             ],
             [
              0.6666666666666666,
              "#ed7953"
             ],
             [
              0.7777777777777778,
              "#fb9f3a"
             ],
             [
              0.8888888888888888,
              "#fdca26"
             ],
             [
              1,
              "#f0f921"
             ]
            ],
            "type": "contour"
           }
          ],
          "contourcarpet": [
           {
            "colorbar": {
             "outlinewidth": 0,
             "ticks": ""
            },
            "type": "contourcarpet"
           }
          ],
          "heatmap": [
           {
            "colorbar": {
             "outlinewidth": 0,
             "ticks": ""
            },
            "colorscale": [
             [
              0,
              "#0d0887"
             ],
             [
              0.1111111111111111,
              "#46039f"
             ],
             [
              0.2222222222222222,
              "#7201a8"
             ],
             [
              0.3333333333333333,
              "#9c179e"
             ],
             [
              0.4444444444444444,
              "#bd3786"
             ],
             [
              0.5555555555555556,
              "#d8576b"
             ],
             [
              0.6666666666666666,
              "#ed7953"
             ],
             [
              0.7777777777777778,
              "#fb9f3a"
             ],
             [
              0.8888888888888888,
              "#fdca26"
             ],
             [
              1,
              "#f0f921"
             ]
            ],
            "type": "heatmap"
           }
          ],
          "heatmapgl": [
           {
            "colorbar": {
             "outlinewidth": 0,
             "ticks": ""
            },
            "colorscale": [
             [
              0,
              "#0d0887"
             ],
             [
              0.1111111111111111,
              "#46039f"
             ],
             [
              0.2222222222222222,
              "#7201a8"
             ],
             [
              0.3333333333333333,
              "#9c179e"
             ],
             [
              0.4444444444444444,
              "#bd3786"
             ],
             [
              0.5555555555555556,
              "#d8576b"
             ],
             [
              0.6666666666666666,
              "#ed7953"
             ],
             [
              0.7777777777777778,
              "#fb9f3a"
             ],
             [
              0.8888888888888888,
              "#fdca26"
             ],
             [
              1,
              "#f0f921"
             ]
            ],
            "type": "heatmapgl"
           }
          ],
          "histogram": [
           {
            "marker": {
             "colorbar": {
              "outlinewidth": 0,
              "ticks": ""
             }
            },
            "type": "histogram"
           }
          ],
          "histogram2d": [
           {
            "colorbar": {
             "outlinewidth": 0,
             "ticks": ""
            },
            "colorscale": [
             [
              0,
              "#0d0887"
             ],
             [
              0.1111111111111111,
              "#46039f"
             ],
             [
              0.2222222222222222,
              "#7201a8"
             ],
             [
              0.3333333333333333,
              "#9c179e"
             ],
             [
              0.4444444444444444,
              "#bd3786"
             ],
             [
              0.5555555555555556,
              "#d8576b"
             ],
             [
              0.6666666666666666,
              "#ed7953"
             ],
             [
              0.7777777777777778,
              "#fb9f3a"
             ],
             [
              0.8888888888888888,
              "#fdca26"
             ],
             [
              1,
              "#f0f921"
             ]
            ],
            "type": "histogram2d"
           }
          ],
          "histogram2dcontour": [
           {
            "colorbar": {
             "outlinewidth": 0,
             "ticks": ""
            },
            "colorscale": [
             [
              0,
              "#0d0887"
             ],
             [
              0.1111111111111111,
              "#46039f"
             ],
             [
              0.2222222222222222,
              "#7201a8"
             ],
             [
              0.3333333333333333,
              "#9c179e"
             ],
             [
              0.4444444444444444,
              "#bd3786"
             ],
             [
              0.5555555555555556,
              "#d8576b"
             ],
             [
              0.6666666666666666,
              "#ed7953"
             ],
             [
              0.7777777777777778,
              "#fb9f3a"
             ],
             [
              0.8888888888888888,
              "#fdca26"
             ],
             [
              1,
              "#f0f921"
             ]
            ],
            "type": "histogram2dcontour"
           }
          ],
          "mesh3d": [
           {
            "colorbar": {
             "outlinewidth": 0,
             "ticks": ""
            },
            "type": "mesh3d"
           }
          ],
          "parcoords": [
           {
            "line": {
             "colorbar": {
              "outlinewidth": 0,
              "ticks": ""
             }
            },
            "type": "parcoords"
           }
          ],
          "pie": [
           {
            "automargin": true,
            "type": "pie"
           }
          ],
          "scatter": [
           {
            "marker": {
             "colorbar": {
              "outlinewidth": 0,
              "ticks": ""
             }
            },
            "type": "scatter"
           }
          ],
          "scatter3d": [
           {
            "line": {
             "colorbar": {
              "outlinewidth": 0,
              "ticks": ""
             }
            },
            "marker": {
             "colorbar": {
              "outlinewidth": 0,
              "ticks": ""
             }
            },
            "type": "scatter3d"
           }
          ],
          "scattercarpet": [
           {
            "marker": {
             "colorbar": {
              "outlinewidth": 0,
              "ticks": ""
             }
            },
            "type": "scattercarpet"
           }
          ],
          "scattergeo": [
           {
            "marker": {
             "colorbar": {
              "outlinewidth": 0,
              "ticks": ""
             }
            },
            "type": "scattergeo"
           }
          ],
          "scattergl": [
           {
            "marker": {
             "colorbar": {
              "outlinewidth": 0,
              "ticks": ""
             }
            },
            "type": "scattergl"
           }
          ],
          "scattermapbox": [
           {
            "marker": {
             "colorbar": {
              "outlinewidth": 0,
              "ticks": ""
             }
            },
            "type": "scattermapbox"
           }
          ],
          "scatterpolar": [
           {
            "marker": {
             "colorbar": {
              "outlinewidth": 0,
              "ticks": ""
             }
            },
            "type": "scatterpolar"
           }
          ],
          "scatterpolargl": [
           {
            "marker": {
             "colorbar": {
              "outlinewidth": 0,
              "ticks": ""
             }
            },
            "type": "scatterpolargl"
           }
          ],
          "scatterternary": [
           {
            "marker": {
             "colorbar": {
              "outlinewidth": 0,
              "ticks": ""
             }
            },
            "type": "scatterternary"
           }
          ],
          "surface": [
           {
            "colorbar": {
             "outlinewidth": 0,
             "ticks": ""
            },
            "colorscale": [
             [
              0,
              "#0d0887"
             ],
             [
              0.1111111111111111,
              "#46039f"
             ],
             [
              0.2222222222222222,
              "#7201a8"
             ],
             [
              0.3333333333333333,
              "#9c179e"
             ],
             [
              0.4444444444444444,
              "#bd3786"
             ],
             [
              0.5555555555555556,
              "#d8576b"
             ],
             [
              0.6666666666666666,
              "#ed7953"
             ],
             [
              0.7777777777777778,
              "#fb9f3a"
             ],
             [
              0.8888888888888888,
              "#fdca26"
             ],
             [
              1,
              "#f0f921"
             ]
            ],
            "type": "surface"
           }
          ],
          "table": [
           {
            "cells": {
             "fill": {
              "color": "#EBF0F8"
             },
             "line": {
              "color": "white"
             }
            },
            "header": {
             "fill": {
              "color": "#C8D4E3"
             },
             "line": {
              "color": "white"
             }
            },
            "type": "table"
           }
          ]
         },
         "layout": {
          "annotationdefaults": {
           "arrowcolor": "#2a3f5f",
           "arrowhead": 0,
           "arrowwidth": 1
          },
          "coloraxis": {
           "colorbar": {
            "outlinewidth": 0,
            "ticks": ""
           }
          },
          "colorscale": {
           "diverging": [
            [
             0,
             "#8e0152"
            ],
            [
             0.1,
             "#c51b7d"
            ],
            [
             0.2,
             "#de77ae"
            ],
            [
             0.3,
             "#f1b6da"
            ],
            [
             0.4,
             "#fde0ef"
            ],
            [
             0.5,
             "#f7f7f7"
            ],
            [
             0.6,
             "#e6f5d0"
            ],
            [
             0.7,
             "#b8e186"
            ],
            [
             0.8,
             "#7fbc41"
            ],
            [
             0.9,
             "#4d9221"
            ],
            [
             1,
             "#276419"
            ]
           ],
           "sequential": [
            [
             0,
             "#0d0887"
            ],
            [
             0.1111111111111111,
             "#46039f"
            ],
            [
             0.2222222222222222,
             "#7201a8"
            ],
            [
             0.3333333333333333,
             "#9c179e"
            ],
            [
             0.4444444444444444,
             "#bd3786"
            ],
            [
             0.5555555555555556,
             "#d8576b"
            ],
            [
             0.6666666666666666,
             "#ed7953"
            ],
            [
             0.7777777777777778,
             "#fb9f3a"
            ],
            [
             0.8888888888888888,
             "#fdca26"
            ],
            [
             1,
             "#f0f921"
            ]
           ],
           "sequentialminus": [
            [
             0,
             "#0d0887"
            ],
            [
             0.1111111111111111,
             "#46039f"
            ],
            [
             0.2222222222222222,
             "#7201a8"
            ],
            [
             0.3333333333333333,
             "#9c179e"
            ],
            [
             0.4444444444444444,
             "#bd3786"
            ],
            [
             0.5555555555555556,
             "#d8576b"
            ],
            [
             0.6666666666666666,
             "#ed7953"
            ],
            [
             0.7777777777777778,
             "#fb9f3a"
            ],
            [
             0.8888888888888888,
             "#fdca26"
            ],
            [
             1,
             "#f0f921"
            ]
           ]
          },
          "colorway": [
           "#636efa",
           "#EF553B",
           "#00cc96",
           "#ab63fa",
           "#FFA15A",
           "#19d3f3",
           "#FF6692",
           "#B6E880",
           "#FF97FF",
           "#FECB52"
          ],
          "font": {
           "color": "#2a3f5f"
          },
          "geo": {
           "bgcolor": "white",
           "lakecolor": "white",
           "landcolor": "#E5ECF6",
           "showlakes": true,
           "showland": true,
           "subunitcolor": "white"
          },
          "hoverlabel": {
           "align": "left"
          },
          "hovermode": "closest",
          "mapbox": {
           "style": "light"
          },
          "paper_bgcolor": "white",
          "plot_bgcolor": "#E5ECF6",
          "polar": {
           "angularaxis": {
            "gridcolor": "white",
            "linecolor": "white",
            "ticks": ""
           },
           "bgcolor": "#E5ECF6",
           "radialaxis": {
            "gridcolor": "white",
            "linecolor": "white",
            "ticks": ""
           }
          },
          "scene": {
           "xaxis": {
            "backgroundcolor": "#E5ECF6",
            "gridcolor": "white",
            "gridwidth": 2,
            "linecolor": "white",
            "showbackground": true,
            "ticks": "",
            "zerolinecolor": "white"
           },
           "yaxis": {
            "backgroundcolor": "#E5ECF6",
            "gridcolor": "white",
            "gridwidth": 2,
            "linecolor": "white",
            "showbackground": true,
            "ticks": "",
            "zerolinecolor": "white"
           },
           "zaxis": {
            "backgroundcolor": "#E5ECF6",
            "gridcolor": "white",
            "gridwidth": 2,
            "linecolor": "white",
            "showbackground": true,
            "ticks": "",
            "zerolinecolor": "white"
           }
          },
          "shapedefaults": {
           "line": {
            "color": "#2a3f5f"
           }
          },
          "ternary": {
           "aaxis": {
            "gridcolor": "white",
            "linecolor": "white",
            "ticks": ""
           },
           "baxis": {
            "gridcolor": "white",
            "linecolor": "white",
            "ticks": ""
           },
           "bgcolor": "#E5ECF6",
           "caxis": {
            "gridcolor": "white",
            "linecolor": "white",
            "ticks": ""
           }
          },
          "title": {
           "x": 0.05
          },
          "xaxis": {
           "automargin": true,
           "gridcolor": "white",
           "linecolor": "white",
           "ticks": "",
           "title": {
            "standoff": 15
           },
           "zerolinecolor": "white",
           "zerolinewidth": 2
          },
          "yaxis": {
           "automargin": true,
           "gridcolor": "white",
           "linecolor": "white",
           "ticks": "",
           "title": {
            "standoff": 15
           },
           "zerolinecolor": "white",
           "zerolinewidth": 2
          }
         }
        },
        "title": {
         "text": "Top 10 Studios by Total Gross"
        },
        "xaxis": {
         "anchor": "y",
         "categoryarray": [
          "BV",
          "WB",
          "Fox",
          "Uni.",
          "Sony",
          "Par.",
          "LGF",
          "P/DW",
          "LG/S",
          "Wein."
         ],
         "categoryorder": "array",
         "domain": [
          0,
          1
         ],
         "title": {
          "text": "Studio"
         }
        },
        "yaxis": {
         "anchor": "x",
         "domain": [
          0,
          1
         ],
         "title": {
          "text": "Total Gross ($)"
         }
        }
       }
      },
      "text/html": [
       "<div>                            <div id=\"387c1c06-854e-4c34-b76a-99fb85998b02\" class=\"plotly-graph-div\" style=\"height:525px; width:100%;\"></div>            <script type=\"text/javascript\">                require([\"plotly\"], function(Plotly) {                    window.PLOTLYENV=window.PLOTLYENV || {};                                    if (document.getElementById(\"387c1c06-854e-4c34-b76a-99fb85998b02\")) {                    Plotly.newPlot(                        \"387c1c06-854e-4c34-b76a-99fb85998b02\",                        [{\"alignmentgroup\": \"True\", \"hovertemplate\": \"Studio=%{x}<br>Total Gross ($)=%{y}<extra></extra>\", \"legendgroup\": \"BV\", \"marker\": {\"color\": \"#636efa\"}, \"name\": \"BV\", \"offsetgroup\": \"BV\", \"orientation\": \"v\", \"showlegend\": true, \"textposition\": \"auto\", \"type\": \"bar\", \"x\": [\"BV\"], \"xaxis\": \"x\", \"y\": [36306749368.5], \"yaxis\": \"y\"}, {\"alignmentgroup\": \"True\", \"hovertemplate\": \"Studio=%{x}<br>Total Gross ($)=%{y}<extra></extra>\", \"legendgroup\": \"WB\", \"marker\": {\"color\": \"#EF553B\"}, \"name\": \"WB\", \"offsetgroup\": \"WB\", \"orientation\": \"v\", \"showlegend\": true, \"textposition\": \"auto\", \"type\": \"bar\", \"x\": [\"WB\"], \"xaxis\": \"x\", \"y\": [32643802998.0], \"yaxis\": \"y\"}, {\"alignmentgroup\": \"True\", \"hovertemplate\": \"Studio=%{x}<br>Total Gross ($)=%{y}<extra></extra>\", \"legendgroup\": \"Fox\", \"marker\": {\"color\": \"#00cc96\"}, \"name\": \"Fox\", \"offsetgroup\": \"Fox\", \"orientation\": \"v\", \"showlegend\": true, \"textposition\": \"auto\", \"type\": \"bar\", \"x\": [\"Fox\"], \"xaxis\": \"x\", \"y\": [26579466597.0], \"yaxis\": \"y\"}, {\"alignmentgroup\": \"True\", \"hovertemplate\": \"Studio=%{x}<br>Total Gross ($)=%{y}<extra></extra>\", \"legendgroup\": \"Uni.\", \"marker\": {\"color\": \"#ab63fa\"}, \"name\": \"Uni.\", \"offsetgroup\": \"Uni.\", \"orientation\": \"v\", \"showlegend\": true, \"textposition\": \"auto\", \"type\": \"bar\", \"x\": [\"Uni.\"], \"xaxis\": \"x\", \"y\": [25975209191.4], \"yaxis\": \"y\"}, {\"alignmentgroup\": \"True\", \"hovertemplate\": \"Studio=%{x}<br>Total Gross ($)=%{y}<extra></extra>\", \"legendgroup\": \"Sony\", \"marker\": {\"color\": \"#FFA15A\"}, \"name\": \"Sony\", \"offsetgroup\": \"Sony\", \"orientation\": \"v\", \"showlegend\": true, \"textposition\": \"auto\", \"type\": \"bar\", \"x\": [\"Sony\"], \"xaxis\": \"x\", \"y\": [17165650497.0], \"yaxis\": \"y\"}, {\"alignmentgroup\": \"True\", \"hovertemplate\": \"Studio=%{x}<br>Total Gross ($)=%{y}<extra></extra>\", \"legendgroup\": \"Par.\", \"marker\": {\"color\": \"#19d3f3\"}, \"name\": \"Par.\", \"offsetgroup\": \"Par.\", \"orientation\": \"v\", \"showlegend\": true, \"textposition\": \"auto\", \"type\": \"bar\", \"x\": [\"Par.\"], \"xaxis\": \"x\", \"y\": [16172379698.0], \"yaxis\": \"y\"}, {\"alignmentgroup\": \"True\", \"hovertemplate\": \"Studio=%{x}<br>Total Gross ($)=%{y}<extra></extra>\", \"legendgroup\": \"LGF\", \"marker\": {\"color\": \"#FF6692\"}, \"name\": \"LGF\", \"offsetgroup\": \"LGF\", \"orientation\": \"v\", \"showlegend\": true, \"textposition\": \"auto\", \"type\": \"bar\", \"x\": [\"LGF\"], \"xaxis\": \"x\", \"y\": [7473158700.0], \"yaxis\": \"y\"}, {\"alignmentgroup\": \"True\", \"hovertemplate\": \"Studio=%{x}<br>Total Gross ($)=%{y}<extra></extra>\", \"legendgroup\": \"P/DW\", \"marker\": {\"color\": \"#B6E880\"}, \"name\": \"P/DW\", \"offsetgroup\": \"P/DW\", \"orientation\": \"v\", \"showlegend\": true, \"textposition\": \"auto\", \"type\": \"bar\", \"x\": [\"P/DW\"], \"xaxis\": \"x\", \"y\": [5076500000.0], \"yaxis\": \"y\"}, {\"alignmentgroup\": \"True\", \"hovertemplate\": \"Studio=%{x}<br>Total Gross ($)=%{y}<extra></extra>\", \"legendgroup\": \"LG/S\", \"marker\": {\"color\": \"#FF97FF\"}, \"name\": \"LG/S\", \"offsetgroup\": \"LG/S\", \"orientation\": \"v\", \"showlegend\": true, \"textposition\": \"auto\", \"type\": \"bar\", \"x\": [\"LG/S\"], \"xaxis\": \"x\", \"y\": [3548023999.0], \"yaxis\": \"y\"}, {\"alignmentgroup\": \"True\", \"hovertemplate\": \"Studio=%{x}<br>Total Gross ($)=%{y}<extra></extra>\", \"legendgroup\": \"Wein.\", \"marker\": {\"color\": \"#FECB52\"}, \"name\": \"Wein.\", \"offsetgroup\": \"Wein.\", \"orientation\": \"v\", \"showlegend\": true, \"textposition\": \"auto\", \"type\": \"bar\", \"x\": [\"Wein.\"], \"xaxis\": \"x\", \"y\": [3168574998.0], \"yaxis\": \"y\"}],                        {\"barmode\": \"relative\", \"legend\": {\"title\": {\"text\": \"Studio\"}, \"tracegroupgap\": 0}, \"template\": {\"data\": {\"bar\": [{\"error_x\": {\"color\": \"#2a3f5f\"}, \"error_y\": {\"color\": \"#2a3f5f\"}, \"marker\": {\"line\": {\"color\": \"#E5ECF6\", \"width\": 0.5}}, \"type\": \"bar\"}], \"barpolar\": [{\"marker\": {\"line\": {\"color\": \"#E5ECF6\", \"width\": 0.5}}, \"type\": \"barpolar\"}], \"carpet\": [{\"aaxis\": {\"endlinecolor\": \"#2a3f5f\", \"gridcolor\": \"white\", \"linecolor\": \"white\", \"minorgridcolor\": \"white\", \"startlinecolor\": \"#2a3f5f\"}, \"baxis\": {\"endlinecolor\": \"#2a3f5f\", \"gridcolor\": \"white\", \"linecolor\": \"white\", \"minorgridcolor\": \"white\", \"startlinecolor\": \"#2a3f5f\"}, \"type\": \"carpet\"}], \"choropleth\": [{\"colorbar\": {\"outlinewidth\": 0, \"ticks\": \"\"}, \"type\": \"choropleth\"}], \"contour\": [{\"colorbar\": {\"outlinewidth\": 0, \"ticks\": \"\"}, \"colorscale\": [[0.0, \"#0d0887\"], [0.1111111111111111, \"#46039f\"], [0.2222222222222222, \"#7201a8\"], [0.3333333333333333, \"#9c179e\"], [0.4444444444444444, \"#bd3786\"], [0.5555555555555556, \"#d8576b\"], [0.6666666666666666, \"#ed7953\"], [0.7777777777777778, \"#fb9f3a\"], [0.8888888888888888, \"#fdca26\"], [1.0, \"#f0f921\"]], \"type\": \"contour\"}], \"contourcarpet\": [{\"colorbar\": {\"outlinewidth\": 0, \"ticks\": \"\"}, \"type\": \"contourcarpet\"}], \"heatmap\": [{\"colorbar\": {\"outlinewidth\": 0, \"ticks\": \"\"}, \"colorscale\": [[0.0, \"#0d0887\"], [0.1111111111111111, \"#46039f\"], [0.2222222222222222, \"#7201a8\"], [0.3333333333333333, \"#9c179e\"], [0.4444444444444444, \"#bd3786\"], [0.5555555555555556, \"#d8576b\"], [0.6666666666666666, \"#ed7953\"], [0.7777777777777778, \"#fb9f3a\"], [0.8888888888888888, \"#fdca26\"], [1.0, \"#f0f921\"]], \"type\": \"heatmap\"}], \"heatmapgl\": [{\"colorbar\": {\"outlinewidth\": 0, \"ticks\": \"\"}, \"colorscale\": [[0.0, \"#0d0887\"], [0.1111111111111111, \"#46039f\"], [0.2222222222222222, \"#7201a8\"], [0.3333333333333333, \"#9c179e\"], [0.4444444444444444, \"#bd3786\"], [0.5555555555555556, \"#d8576b\"], [0.6666666666666666, \"#ed7953\"], [0.7777777777777778, \"#fb9f3a\"], [0.8888888888888888, \"#fdca26\"], [1.0, \"#f0f921\"]], \"type\": \"heatmapgl\"}], \"histogram\": [{\"marker\": {\"colorbar\": {\"outlinewidth\": 0, \"ticks\": \"\"}}, \"type\": \"histogram\"}], \"histogram2d\": [{\"colorbar\": {\"outlinewidth\": 0, \"ticks\": \"\"}, \"colorscale\": [[0.0, \"#0d0887\"], [0.1111111111111111, \"#46039f\"], [0.2222222222222222, \"#7201a8\"], [0.3333333333333333, \"#9c179e\"], [0.4444444444444444, \"#bd3786\"], [0.5555555555555556, \"#d8576b\"], [0.6666666666666666, \"#ed7953\"], [0.7777777777777778, \"#fb9f3a\"], [0.8888888888888888, \"#fdca26\"], [1.0, \"#f0f921\"]], \"type\": \"histogram2d\"}], \"histogram2dcontour\": [{\"colorbar\": {\"outlinewidth\": 0, \"ticks\": \"\"}, \"colorscale\": [[0.0, \"#0d0887\"], [0.1111111111111111, \"#46039f\"], [0.2222222222222222, \"#7201a8\"], [0.3333333333333333, \"#9c179e\"], [0.4444444444444444, \"#bd3786\"], [0.5555555555555556, \"#d8576b\"], [0.6666666666666666, \"#ed7953\"], [0.7777777777777778, \"#fb9f3a\"], [0.8888888888888888, \"#fdca26\"], [1.0, \"#f0f921\"]], \"type\": \"histogram2dcontour\"}], \"mesh3d\": [{\"colorbar\": {\"outlinewidth\": 0, \"ticks\": \"\"}, \"type\": \"mesh3d\"}], \"parcoords\": [{\"line\": {\"colorbar\": {\"outlinewidth\": 0, \"ticks\": \"\"}}, \"type\": \"parcoords\"}], \"pie\": [{\"automargin\": true, \"type\": \"pie\"}], \"scatter\": [{\"marker\": {\"colorbar\": {\"outlinewidth\": 0, \"ticks\": \"\"}}, \"type\": \"scatter\"}], \"scatter3d\": [{\"line\": {\"colorbar\": {\"outlinewidth\": 0, \"ticks\": \"\"}}, \"marker\": {\"colorbar\": {\"outlinewidth\": 0, \"ticks\": \"\"}}, \"type\": \"scatter3d\"}], \"scattercarpet\": [{\"marker\": {\"colorbar\": {\"outlinewidth\": 0, \"ticks\": \"\"}}, \"type\": \"scattercarpet\"}], \"scattergeo\": [{\"marker\": {\"colorbar\": {\"outlinewidth\": 0, \"ticks\": \"\"}}, \"type\": \"scattergeo\"}], \"scattergl\": [{\"marker\": {\"colorbar\": {\"outlinewidth\": 0, \"ticks\": \"\"}}, \"type\": \"scattergl\"}], \"scattermapbox\": [{\"marker\": {\"colorbar\": {\"outlinewidth\": 0, \"ticks\": \"\"}}, \"type\": \"scattermapbox\"}], \"scatterpolar\": [{\"marker\": {\"colorbar\": {\"outlinewidth\": 0, \"ticks\": \"\"}}, \"type\": \"scatterpolar\"}], \"scatterpolargl\": [{\"marker\": {\"colorbar\": {\"outlinewidth\": 0, \"ticks\": \"\"}}, \"type\": \"scatterpolargl\"}], \"scatterternary\": [{\"marker\": {\"colorbar\": {\"outlinewidth\": 0, \"ticks\": \"\"}}, \"type\": \"scatterternary\"}], \"surface\": [{\"colorbar\": {\"outlinewidth\": 0, \"ticks\": \"\"}, \"colorscale\": [[0.0, \"#0d0887\"], [0.1111111111111111, \"#46039f\"], [0.2222222222222222, \"#7201a8\"], [0.3333333333333333, \"#9c179e\"], [0.4444444444444444, \"#bd3786\"], [0.5555555555555556, \"#d8576b\"], [0.6666666666666666, \"#ed7953\"], [0.7777777777777778, \"#fb9f3a\"], [0.8888888888888888, \"#fdca26\"], [1.0, \"#f0f921\"]], \"type\": \"surface\"}], \"table\": [{\"cells\": {\"fill\": {\"color\": \"#EBF0F8\"}, \"line\": {\"color\": \"white\"}}, \"header\": {\"fill\": {\"color\": \"#C8D4E3\"}, \"line\": {\"color\": \"white\"}}, \"type\": \"table\"}]}, \"layout\": {\"annotationdefaults\": {\"arrowcolor\": \"#2a3f5f\", \"arrowhead\": 0, \"arrowwidth\": 1}, \"coloraxis\": {\"colorbar\": {\"outlinewidth\": 0, \"ticks\": \"\"}}, \"colorscale\": {\"diverging\": [[0, \"#8e0152\"], [0.1, \"#c51b7d\"], [0.2, \"#de77ae\"], [0.3, \"#f1b6da\"], [0.4, \"#fde0ef\"], [0.5, \"#f7f7f7\"], [0.6, \"#e6f5d0\"], [0.7, \"#b8e186\"], [0.8, \"#7fbc41\"], [0.9, \"#4d9221\"], [1, \"#276419\"]], \"sequential\": [[0.0, \"#0d0887\"], [0.1111111111111111, \"#46039f\"], [0.2222222222222222, \"#7201a8\"], [0.3333333333333333, \"#9c179e\"], [0.4444444444444444, \"#bd3786\"], [0.5555555555555556, \"#d8576b\"], [0.6666666666666666, \"#ed7953\"], [0.7777777777777778, \"#fb9f3a\"], [0.8888888888888888, \"#fdca26\"], [1.0, \"#f0f921\"]], \"sequentialminus\": [[0.0, \"#0d0887\"], [0.1111111111111111, \"#46039f\"], [0.2222222222222222, \"#7201a8\"], [0.3333333333333333, \"#9c179e\"], [0.4444444444444444, \"#bd3786\"], [0.5555555555555556, \"#d8576b\"], [0.6666666666666666, \"#ed7953\"], [0.7777777777777778, \"#fb9f3a\"], [0.8888888888888888, \"#fdca26\"], [1.0, \"#f0f921\"]]}, \"colorway\": [\"#636efa\", \"#EF553B\", \"#00cc96\", \"#ab63fa\", \"#FFA15A\", \"#19d3f3\", \"#FF6692\", \"#B6E880\", \"#FF97FF\", \"#FECB52\"], \"font\": {\"color\": \"#2a3f5f\"}, \"geo\": {\"bgcolor\": \"white\", \"lakecolor\": \"white\", \"landcolor\": \"#E5ECF6\", \"showlakes\": true, \"showland\": true, \"subunitcolor\": \"white\"}, \"hoverlabel\": {\"align\": \"left\"}, \"hovermode\": \"closest\", \"mapbox\": {\"style\": \"light\"}, \"paper_bgcolor\": \"white\", \"plot_bgcolor\": \"#E5ECF6\", \"polar\": {\"angularaxis\": {\"gridcolor\": \"white\", \"linecolor\": \"white\", \"ticks\": \"\"}, \"bgcolor\": \"#E5ECF6\", \"radialaxis\": {\"gridcolor\": \"white\", \"linecolor\": \"white\", \"ticks\": \"\"}}, \"scene\": {\"xaxis\": {\"backgroundcolor\": \"#E5ECF6\", \"gridcolor\": \"white\", \"gridwidth\": 2, \"linecolor\": \"white\", \"showbackground\": true, \"ticks\": \"\", \"zerolinecolor\": \"white\"}, \"yaxis\": {\"backgroundcolor\": \"#E5ECF6\", \"gridcolor\": \"white\", \"gridwidth\": 2, \"linecolor\": \"white\", \"showbackground\": true, \"ticks\": \"\", \"zerolinecolor\": \"white\"}, \"zaxis\": {\"backgroundcolor\": \"#E5ECF6\", \"gridcolor\": \"white\", \"gridwidth\": 2, \"linecolor\": \"white\", \"showbackground\": true, \"ticks\": \"\", \"zerolinecolor\": \"white\"}}, \"shapedefaults\": {\"line\": {\"color\": \"#2a3f5f\"}}, \"ternary\": {\"aaxis\": {\"gridcolor\": \"white\", \"linecolor\": \"white\", \"ticks\": \"\"}, \"baxis\": {\"gridcolor\": \"white\", \"linecolor\": \"white\", \"ticks\": \"\"}, \"bgcolor\": \"#E5ECF6\", \"caxis\": {\"gridcolor\": \"white\", \"linecolor\": \"white\", \"ticks\": \"\"}}, \"title\": {\"x\": 0.05}, \"xaxis\": {\"automargin\": true, \"gridcolor\": \"white\", \"linecolor\": \"white\", \"ticks\": \"\", \"title\": {\"standoff\": 15}, \"zerolinecolor\": \"white\", \"zerolinewidth\": 2}, \"yaxis\": {\"automargin\": true, \"gridcolor\": \"white\", \"linecolor\": \"white\", \"ticks\": \"\", \"title\": {\"standoff\": 15}, \"zerolinecolor\": \"white\", \"zerolinewidth\": 2}}}, \"title\": {\"text\": \"Top 10 Studios by Total Gross\"}, \"xaxis\": {\"anchor\": \"y\", \"categoryarray\": [\"BV\", \"WB\", \"Fox\", \"Uni.\", \"Sony\", \"Par.\", \"LGF\", \"P/DW\", \"LG/S\", \"Wein.\"], \"categoryorder\": \"array\", \"domain\": [0.0, 1.0], \"title\": {\"text\": \"Studio\"}}, \"yaxis\": {\"anchor\": \"x\", \"domain\": [0.0, 1.0], \"title\": {\"text\": \"Total Gross ($)\"}}},                        {\"responsive\": true}                    ).then(function(){\n",
       "                            \n",
       "var gd = document.getElementById('387c1c06-854e-4c34-b76a-99fb85998b02');\n",
       "var x = new MutationObserver(function (mutations, observer) {{\n",
       "        var display = window.getComputedStyle(gd).display;\n",
       "        if (!display || display === 'none') {{\n",
       "            console.log([gd, 'removed!']);\n",
       "            Plotly.purge(gd);\n",
       "            observer.disconnect();\n",
       "        }}\n",
       "}});\n",
       "\n",
       "// Listen for the removal of the full notebook cells\n",
       "var notebookContainer = gd.closest('#notebook-container');\n",
       "if (notebookContainer) {{\n",
       "    x.observe(notebookContainer, {childList: true});\n",
       "}}\n",
       "\n",
       "// Listen for the clearing of the current output cell\n",
       "var outputEl = gd.closest('.output');\n",
       "if (outputEl) {{\n",
       "    x.observe(outputEl, {childList: true});\n",
       "}}\n",
       "\n",
       "                        })                };                });            </script>        </div>"
      ]
     },
     "metadata": {},
     "output_type": "display_data"
    }
   ],
   "source": [
    "#Top 10 Studios by gross\n",
    "a = px.bar(no_index.groupby('studio')['total_gross'].sum().sort_values(ascending=False).reset_index().head(10),x='studio',y='total_gross',title = 'Top 10 Studios by Total Gross',labels = {'studio':'Studio','total_gross':'Total Gross ($)'},color = 'studio');\n",
    "a"
   ]
  },
  {
   "cell_type": "code",
   "execution_count": null,
   "metadata": {
    "scrolled": true
   },
   "outputs": [],
   "source": []
  },
  {
   "cell_type": "markdown",
   "metadata": {},
   "source": [
    "# Top 5 Studios Genre Proportions"
   ]
  },
  {
   "cell_type": "code",
   "execution_count": 1500,
   "metadata": {},
   "outputs": [],
   "source": [
    "\n"
   ]
  },
  {
   "cell_type": "code",
   "execution_count": null,
   "metadata": {},
   "outputs": [],
   "source": []
  },
  {
   "cell_type": "code",
   "execution_count": 1436,
   "metadata": {},
   "outputs": [],
   "source": [
    "#MAKING SURE IT ONLY HAS ANIM AND ACT, REST AS OTHER\n",
    "\n",
    "#no_index"
   ]
  },
  {
   "cell_type": "code",
   "execution_count": 1437,
   "metadata": {
    "scrolled": true
   },
   "outputs": [
    {
     "data": {
      "application/vnd.plotly.v1+json": {
       "config": {
        "plotlyServerURL": "https://plot.ly"
       },
       "data": [
        {
         "alignmentgroup": "True",
         "hovertemplate": "genres_cleaned=Action<br>studio=%{x}<br>total_gross=%{y}<extra></extra>",
         "legendgroup": "Action",
         "marker": {
          "color": "#636efa"
         },
         "name": "Action",
         "offsetgroup": "Action",
         "orientation": "v",
         "showlegend": true,
         "textposition": "auto",
         "type": "bar",
         "x": [
          "BV",
          "WB",
          "Fox",
          "Uni.",
          "Par."
         ],
         "xaxis": "x",
         "y": [
          20760401369.5,
          16395155999,
          12597089000,
          10583000191.4,
          9689599998
         ],
         "yaxis": "y"
        },
        {
         "alignmentgroup": "True",
         "hovertemplate": "genres_cleaned=Animation<br>studio=%{x}<br>total_gross=%{y}<extra></extra>",
         "legendgroup": "Animation",
         "marker": {
          "color": "#EF553B"
         },
         "name": "Animation",
         "offsetgroup": "Animation",
         "orientation": "v",
         "showlegend": true,
         "textposition": "auto",
         "type": "bar",
         "x": [
          "BV",
          "Fox",
          "Uni.",
          "WB",
          "Par."
         ],
         "xaxis": "x",
         "y": [
          11433800000,
          5464999998,
          5401800000,
          749400000,
          691506700
         ],
         "yaxis": "y"
        },
        {
         "alignmentgroup": "True",
         "hovertemplate": "genres_cleaned=Drama<br>studio=%{x}<br>total_gross=%{y}<extra></extra>",
         "legendgroup": "Drama",
         "marker": {
          "color": "#00cc96"
         },
         "name": "Drama",
         "offsetgroup": "Drama",
         "orientation": "v",
         "showlegend": true,
         "textposition": "auto",
         "type": "bar",
         "x": [
          "WB",
          "Fox",
          "Uni.",
          "Par.",
          "BV"
         ],
         "xaxis": "x",
         "y": [
          5232021000,
          3272233600,
          3217660000,
          1568206000,
          1309137000
         ],
         "yaxis": "y"
        },
        {
         "alignmentgroup": "True",
         "hovertemplate": "genres_cleaned=Adventure<br>studio=%{x}<br>total_gross=%{y}<extra></extra>",
         "legendgroup": "Adventure",
         "marker": {
          "color": "#ab63fa"
         },
         "name": "Adventure",
         "offsetgroup": "Adventure",
         "orientation": "v",
         "showlegend": true,
         "textposition": "auto",
         "type": "bar",
         "x": [
          "WB",
          "Fox",
          "BV",
          "Par.",
          "Uni."
         ],
         "xaxis": "x",
         "y": [
          4737525999,
          3487300000,
          1279000000,
          1154500000,
          873949000
         ],
         "yaxis": "y"
        },
        {
         "alignmentgroup": "True",
         "hovertemplate": "genres_cleaned=Horror-Mystery<br>studio=%{x}<br>total_gross=%{y}<extra></extra>",
         "legendgroup": "Horror-Mystery",
         "marker": {
          "color": "#FFA15A"
         },
         "name": "Horror-Mystery",
         "offsetgroup": "Horror-Mystery",
         "orientation": "v",
         "showlegend": true,
         "textposition": "auto",
         "type": "bar",
         "x": [
          "WB",
          "Uni.",
          "Par.",
          "Fox"
         ],
         "xaxis": "x",
         "y": [
          1328800000,
          834300000,
          519600000,
          36900000
         ],
         "yaxis": "y"
        },
        {
         "alignmentgroup": "True",
         "hovertemplate": "genres_cleaned=Comedy<br>studio=%{x}<br>total_gross=%{y}<extra></extra>",
         "legendgroup": "Comedy",
         "marker": {
          "color": "#19d3f3"
         },
         "name": "Comedy",
         "offsetgroup": "Comedy",
         "orientation": "v",
         "showlegend": true,
         "textposition": "auto",
         "type": "bar",
         "x": [
          "Uni.",
          "Par.",
          "WB",
          "Fox"
         ],
         "xaxis": "x",
         "y": [
          1108400000,
          764900000,
          442000000,
          334544000
         ],
         "yaxis": "y"
        },
        {
         "alignmentgroup": "True",
         "hovertemplate": "genres_cleaned=Comedy-Romance<br>studio=%{x}<br>total_gross=%{y}<extra></extra>",
         "legendgroup": "Comedy-Romance",
         "marker": {
          "color": "#FF6692"
         },
         "name": "Comedy-Romance",
         "offsetgroup": "Comedy-Romance",
         "orientation": "v",
         "showlegend": true,
         "textposition": "auto",
         "type": "bar",
         "x": [
          "WB",
          "Uni.",
          "Par.",
          "BV",
          "Fox"
         ],
         "xaxis": "x",
         "y": [
          950700000,
          884100000,
          225200000,
          43100000,
          30399999
         ],
         "yaxis": "y"
        },
        {
         "alignmentgroup": "True",
         "hovertemplate": "genres_cleaned=Comedy-Crime<br>studio=%{x}<br>total_gross=%{y}<extra></extra>",
         "legendgroup": "Comedy-Crime",
         "marker": {
          "color": "#B6E880"
         },
         "name": "Comedy-Crime",
         "offsetgroup": "Comedy-Crime",
         "orientation": "v",
         "showlegend": true,
         "textposition": "auto",
         "type": "bar",
         "x": [
          "WB",
          "Fox"
         ],
         "xaxis": "x",
         "y": [
          834100000,
          290500000
         ],
         "yaxis": "y"
        },
        {
         "alignmentgroup": "True",
         "hovertemplate": "genres_cleaned=Horror<br>studio=%{x}<br>total_gross=%{y}<extra></extra>",
         "legendgroup": "Horror",
         "marker": {
          "color": "#FF97FF"
         },
         "name": "Horror",
         "offsetgroup": "Horror",
         "orientation": "v",
         "showlegend": true,
         "textposition": "auto",
         "type": "bar",
         "x": [
          "BV",
          "Par.",
          "WB",
          "Fox"
         ],
         "xaxis": "x",
         "y": [
          807100000,
          279400000,
          157900000,
          14300000
         ],
         "yaxis": "y"
        },
        {
         "alignmentgroup": "True",
         "hovertemplate": "genres_cleaned=Comedy-Family<br>studio=%{x}<br>total_gross=%{y}<extra></extra>",
         "legendgroup": "Comedy-Family",
         "marker": {
          "color": "#FECB52"
         },
         "name": "Comedy-Family",
         "offsetgroup": "Comedy-Family",
         "orientation": "v",
         "showlegend": true,
         "textposition": "auto",
         "type": "bar",
         "x": [
          "Fox",
          "BV",
          "Uni."
         ],
         "xaxis": "x",
         "y": [
          747600000,
          483000000,
          93200000
         ],
         "yaxis": "y"
        },
        {
         "alignmentgroup": "True",
         "hovertemplate": "genres_cleaned=Horror-Thriller<br>studio=%{x}<br>total_gross=%{y}<extra></extra>",
         "legendgroup": "Horror-Thriller",
         "marker": {
          "color": "#636efa"
         },
         "name": "Horror-Thriller",
         "offsetgroup": "Horror-Thriller",
         "orientation": "v",
         "showlegend": true,
         "textposition": "auto",
         "type": "bar",
         "x": [
          "WB",
          "Uni."
         ],
         "xaxis": "x",
         "y": [
          710000000,
          383500000
         ],
         "yaxis": "y"
        },
        {
         "alignmentgroup": "True",
         "hovertemplate": "genres_cleaned=Comedy-Fantasy<br>studio=%{x}<br>total_gross=%{y}<extra></extra>",
         "legendgroup": "Comedy-Fantasy",
         "marker": {
          "color": "#EF553B"
         },
         "name": "Comedy-Fantasy",
         "offsetgroup": "Comedy-Fantasy",
         "orientation": "v",
         "showlegend": true,
         "textposition": "auto",
         "type": "bar",
         "x": [
          "Uni.",
          "WB"
         ],
         "xaxis": "x",
         "y": [
          686400000,
          245500000
         ],
         "yaxis": "y"
        },
        {
         "alignmentgroup": "True",
         "hovertemplate": "genres_cleaned=Comedy-Music<br>studio=%{x}<br>total_gross=%{y}<extra></extra>",
         "legendgroup": "Comedy-Music",
         "marker": {
          "color": "#00cc96"
         },
         "name": "Comedy-Music",
         "offsetgroup": "Comedy-Music",
         "orientation": "v",
         "showlegend": true,
         "textposition": "auto",
         "type": "bar",
         "x": [
          "Uni."
         ],
         "xaxis": "x",
         "y": [
          588200000
         ],
         "yaxis": "y"
        },
        {
         "alignmentgroup": "True",
         "hovertemplate": "genres_cleaned=Comedy-Mystery<br>studio=%{x}<br>total_gross=%{y}<extra></extra>",
         "legendgroup": "Comedy-Mystery",
         "marker": {
          "color": "#ab63fa"
         },
         "name": "Comedy-Mystery",
         "offsetgroup": "Comedy-Mystery",
         "orientation": "v",
         "showlegend": true,
         "textposition": "auto",
         "type": "bar",
         "x": [
          "WB",
          "Par."
         ],
         "xaxis": "x",
         "y": [
          586800000,
          13067000
         ],
         "yaxis": "y"
        },
        {
         "alignmentgroup": "True",
         "hovertemplate": "genres_cleaned=Comedy-Musical<br>studio=%{x}<br>total_gross=%{y}<extra></extra>",
         "legendgroup": "Comedy-Musical",
         "marker": {
          "color": "#FFA15A"
         },
         "name": "Comedy-Musical",
         "offsetgroup": "Comedy-Musical",
         "orientation": "v",
         "showlegend": true,
         "textposition": "auto",
         "type": "bar",
         "x": [
          "Uni."
         ],
         "xaxis": "x",
         "y": [
          395000000
         ],
         "yaxis": "y"
        },
        {
         "alignmentgroup": "True",
         "hovertemplate": "genres_cleaned=Biography-Crime<br>studio=%{x}<br>total_gross=%{y}<extra></extra>",
         "legendgroup": "Biography-Crime",
         "marker": {
          "color": "#19d3f3"
         },
         "name": "Biography-Crime",
         "offsetgroup": "Biography-Crime",
         "orientation": "v",
         "showlegend": true,
         "textposition": "auto",
         "type": "bar",
         "x": [
          "Par.",
          "WB",
          "Uni."
         ],
         "xaxis": "x",
         "y": [
          392000000,
          184700000,
          43000000
         ],
         "yaxis": "y"
        },
        {
         "alignmentgroup": "True",
         "hovertemplate": "genres_cleaned=Documentary<br>studio=%{x}<br>total_gross=%{y}<extra></extra>",
         "legendgroup": "Documentary",
         "marker": {
          "color": "#FF6692"
         },
         "name": "Documentary",
         "offsetgroup": "Documentary",
         "orientation": "v",
         "showlegend": true,
         "textposition": "auto",
         "type": "bar",
         "x": [
          "Uni.",
          "Par.",
          "BV"
         ],
         "xaxis": "x",
         "y": [
          334900000,
          137100000,
          73310999
         ],
         "yaxis": "y"
        },
        {
         "alignmentgroup": "True",
         "hovertemplate": "genres_cleaned=Biography-Comedy<br>studio=%{x}<br>total_gross=%{y}<extra></extra>",
         "legendgroup": "Biography-Comedy",
         "marker": {
          "color": "#B6E880"
         },
         "name": "Biography-Comedy",
         "offsetgroup": "Biography-Comedy",
         "orientation": "v",
         "showlegend": true,
         "textposition": "auto",
         "type": "bar",
         "x": [
          "Uni.",
          "Par.",
          "BV"
         ],
         "xaxis": "x",
         "y": [
          332700000,
          182400000,
          117900000
         ],
         "yaxis": "y"
        },
        {
         "alignmentgroup": "True",
         "hovertemplate": "genres_cleaned=Mystery-Thriller<br>studio=%{x}<br>total_gross=%{y}<extra></extra>",
         "legendgroup": "Mystery-Thriller",
         "marker": {
          "color": "#FF97FF"
         },
         "name": "Mystery-Thriller",
         "offsetgroup": "Mystery-Thriller",
         "orientation": "v",
         "showlegend": true,
         "textposition": "auto",
         "type": "bar",
         "x": [
          "Par."
         ],
         "xaxis": "x",
         "y": [
          294800000
         ],
         "yaxis": "y"
        },
        {
         "alignmentgroup": "True",
         "hovertemplate": "genres_cleaned=Mystery-Sci-Fi<br>studio=%{x}<br>total_gross=%{y}<extra></extra>",
         "legendgroup": "Mystery-Sci-Fi",
         "marker": {
          "color": "#FECB52"
         },
         "name": "Mystery-Sci-Fi",
         "offsetgroup": "Mystery-Sci-Fi",
         "orientation": "v",
         "showlegend": true,
         "textposition": "auto",
         "type": "bar",
         "x": [
          "Par."
         ],
         "xaxis": "x",
         "y": [
          260100000
         ],
         "yaxis": "y"
        },
        {
         "alignmentgroup": "True",
         "hovertemplate": "genres_cleaned=Horror-Sci-Fi<br>studio=%{x}<br>total_gross=%{y}<extra></extra>",
         "legendgroup": "Horror-Sci-Fi",
         "marker": {
          "color": "#636efa"
         },
         "name": "Horror-Sci-Fi",
         "offsetgroup": "Horror-Sci-Fi",
         "orientation": "v",
         "showlegend": true,
         "textposition": "auto",
         "type": "bar",
         "x": [
          "Fox"
         ],
         "xaxis": "x",
         "y": [
          240900000
         ],
         "yaxis": "y"
        },
        {
         "alignmentgroup": "True",
         "hovertemplate": "genres_cleaned=Romance-Sci-Fi<br>studio=%{x}<br>total_gross=%{y}<extra></extra>",
         "legendgroup": "Romance-Sci-Fi",
         "marker": {
          "color": "#EF553B"
         },
         "name": "Romance-Sci-Fi",
         "offsetgroup": "Romance-Sci-Fi",
         "orientation": "v",
         "showlegend": true,
         "textposition": "auto",
         "type": "bar",
         "x": [
          "Uni."
         ],
         "xaxis": "x",
         "y": [
          127900000
         ],
         "yaxis": "y"
        },
        {
         "alignmentgroup": "True",
         "hovertemplate": "genres_cleaned=Fantasy-Horror<br>studio=%{x}<br>total_gross=%{y}<extra></extra>",
         "legendgroup": "Fantasy-Horror",
         "marker": {
          "color": "#00cc96"
         },
         "name": "Fantasy-Horror",
         "offsetgroup": "Fantasy-Horror",
         "orientation": "v",
         "showlegend": true,
         "textposition": "auto",
         "type": "bar",
         "x": [
          "WB"
         ],
         "xaxis": "x",
         "y": [
          89200000
         ],
         "yaxis": "y"
        },
        {
         "alignmentgroup": "True",
         "hovertemplate": "genres_cleaned=Comedy-Western<br>studio=%{x}<br>total_gross=%{y}<extra></extra>",
         "legendgroup": "Comedy-Western",
         "marker": {
          "color": "#ab63fa"
         },
         "name": "Comedy-Western",
         "offsetgroup": "Comedy-Western",
         "orientation": "v",
         "showlegend": true,
         "textposition": "auto",
         "type": "bar",
         "x": [
          "Uni."
         ],
         "xaxis": "x",
         "y": [
          87200000
         ],
         "yaxis": "y"
        },
        {
         "alignmentgroup": "True",
         "hovertemplate": "genres_cleaned=Crime-Thriller<br>studio=%{x}<br>total_gross=%{y}<extra></extra>",
         "legendgroup": "Crime-Thriller",
         "marker": {
          "color": "#FFA15A"
         },
         "name": "Crime-Thriller",
         "offsetgroup": "Crime-Thriller",
         "orientation": "v",
         "showlegend": true,
         "textposition": "auto",
         "type": "bar",
         "x": [
          "Fox"
         ],
         "xaxis": "x",
         "y": [
          62700000
         ],
         "yaxis": "y"
        }
       ],
       "layout": {
        "barmode": "relative",
        "legend": {
         "title": {
          "text": "genres_cleaned"
         },
         "tracegroupgap": 0
        },
        "template": {
         "data": {
          "bar": [
           {
            "error_x": {
             "color": "#2a3f5f"
            },
            "error_y": {
             "color": "#2a3f5f"
            },
            "marker": {
             "line": {
              "color": "#E5ECF6",
              "width": 0.5
             }
            },
            "type": "bar"
           }
          ],
          "barpolar": [
           {
            "marker": {
             "line": {
              "color": "#E5ECF6",
              "width": 0.5
             }
            },
            "type": "barpolar"
           }
          ],
          "carpet": [
           {
            "aaxis": {
             "endlinecolor": "#2a3f5f",
             "gridcolor": "white",
             "linecolor": "white",
             "minorgridcolor": "white",
             "startlinecolor": "#2a3f5f"
            },
            "baxis": {
             "endlinecolor": "#2a3f5f",
             "gridcolor": "white",
             "linecolor": "white",
             "minorgridcolor": "white",
             "startlinecolor": "#2a3f5f"
            },
            "type": "carpet"
           }
          ],
          "choropleth": [
           {
            "colorbar": {
             "outlinewidth": 0,
             "ticks": ""
            },
            "type": "choropleth"
           }
          ],
          "contour": [
           {
            "colorbar": {
             "outlinewidth": 0,
             "ticks": ""
            },
            "colorscale": [
             [
              0,
              "#0d0887"
             ],
             [
              0.1111111111111111,
              "#46039f"
             ],
             [
              0.2222222222222222,
              "#7201a8"
             ],
             [
              0.3333333333333333,
              "#9c179e"
             ],
             [
              0.4444444444444444,
              "#bd3786"
             ],
             [
              0.5555555555555556,
              "#d8576b"
             ],
             [
              0.6666666666666666,
              "#ed7953"
             ],
             [
              0.7777777777777778,
              "#fb9f3a"
             ],
             [
              0.8888888888888888,
              "#fdca26"
             ],
             [
              1,
              "#f0f921"
             ]
            ],
            "type": "contour"
           }
          ],
          "contourcarpet": [
           {
            "colorbar": {
             "outlinewidth": 0,
             "ticks": ""
            },
            "type": "contourcarpet"
           }
          ],
          "heatmap": [
           {
            "colorbar": {
             "outlinewidth": 0,
             "ticks": ""
            },
            "colorscale": [
             [
              0,
              "#0d0887"
             ],
             [
              0.1111111111111111,
              "#46039f"
             ],
             [
              0.2222222222222222,
              "#7201a8"
             ],
             [
              0.3333333333333333,
              "#9c179e"
             ],
             [
              0.4444444444444444,
              "#bd3786"
             ],
             [
              0.5555555555555556,
              "#d8576b"
             ],
             [
              0.6666666666666666,
              "#ed7953"
             ],
             [
              0.7777777777777778,
              "#fb9f3a"
             ],
             [
              0.8888888888888888,
              "#fdca26"
             ],
             [
              1,
              "#f0f921"
             ]
            ],
            "type": "heatmap"
           }
          ],
          "heatmapgl": [
           {
            "colorbar": {
             "outlinewidth": 0,
             "ticks": ""
            },
            "colorscale": [
             [
              0,
              "#0d0887"
             ],
             [
              0.1111111111111111,
              "#46039f"
             ],
             [
              0.2222222222222222,
              "#7201a8"
             ],
             [
              0.3333333333333333,
              "#9c179e"
             ],
             [
              0.4444444444444444,
              "#bd3786"
             ],
             [
              0.5555555555555556,
              "#d8576b"
             ],
             [
              0.6666666666666666,
              "#ed7953"
             ],
             [
              0.7777777777777778,
              "#fb9f3a"
             ],
             [
              0.8888888888888888,
              "#fdca26"
             ],
             [
              1,
              "#f0f921"
             ]
            ],
            "type": "heatmapgl"
           }
          ],
          "histogram": [
           {
            "marker": {
             "colorbar": {
              "outlinewidth": 0,
              "ticks": ""
             }
            },
            "type": "histogram"
           }
          ],
          "histogram2d": [
           {
            "colorbar": {
             "outlinewidth": 0,
             "ticks": ""
            },
            "colorscale": [
             [
              0,
              "#0d0887"
             ],
             [
              0.1111111111111111,
              "#46039f"
             ],
             [
              0.2222222222222222,
              "#7201a8"
             ],
             [
              0.3333333333333333,
              "#9c179e"
             ],
             [
              0.4444444444444444,
              "#bd3786"
             ],
             [
              0.5555555555555556,
              "#d8576b"
             ],
             [
              0.6666666666666666,
              "#ed7953"
             ],
             [
              0.7777777777777778,
              "#fb9f3a"
             ],
             [
              0.8888888888888888,
              "#fdca26"
             ],
             [
              1,
              "#f0f921"
             ]
            ],
            "type": "histogram2d"
           }
          ],
          "histogram2dcontour": [
           {
            "colorbar": {
             "outlinewidth": 0,
             "ticks": ""
            },
            "colorscale": [
             [
              0,
              "#0d0887"
             ],
             [
              0.1111111111111111,
              "#46039f"
             ],
             [
              0.2222222222222222,
              "#7201a8"
             ],
             [
              0.3333333333333333,
              "#9c179e"
             ],
             [
              0.4444444444444444,
              "#bd3786"
             ],
             [
              0.5555555555555556,
              "#d8576b"
             ],
             [
              0.6666666666666666,
              "#ed7953"
             ],
             [
              0.7777777777777778,
              "#fb9f3a"
             ],
             [
              0.8888888888888888,
              "#fdca26"
             ],
             [
              1,
              "#f0f921"
             ]
            ],
            "type": "histogram2dcontour"
           }
          ],
          "mesh3d": [
           {
            "colorbar": {
             "outlinewidth": 0,
             "ticks": ""
            },
            "type": "mesh3d"
           }
          ],
          "parcoords": [
           {
            "line": {
             "colorbar": {
              "outlinewidth": 0,
              "ticks": ""
             }
            },
            "type": "parcoords"
           }
          ],
          "pie": [
           {
            "automargin": true,
            "type": "pie"
           }
          ],
          "scatter": [
           {
            "marker": {
             "colorbar": {
              "outlinewidth": 0,
              "ticks": ""
             }
            },
            "type": "scatter"
           }
          ],
          "scatter3d": [
           {
            "line": {
             "colorbar": {
              "outlinewidth": 0,
              "ticks": ""
             }
            },
            "marker": {
             "colorbar": {
              "outlinewidth": 0,
              "ticks": ""
             }
            },
            "type": "scatter3d"
           }
          ],
          "scattercarpet": [
           {
            "marker": {
             "colorbar": {
              "outlinewidth": 0,
              "ticks": ""
             }
            },
            "type": "scattercarpet"
           }
          ],
          "scattergeo": [
           {
            "marker": {
             "colorbar": {
              "outlinewidth": 0,
              "ticks": ""
             }
            },
            "type": "scattergeo"
           }
          ],
          "scattergl": [
           {
            "marker": {
             "colorbar": {
              "outlinewidth": 0,
              "ticks": ""
             }
            },
            "type": "scattergl"
           }
          ],
          "scattermapbox": [
           {
            "marker": {
             "colorbar": {
              "outlinewidth": 0,
              "ticks": ""
             }
            },
            "type": "scattermapbox"
           }
          ],
          "scatterpolar": [
           {
            "marker": {
             "colorbar": {
              "outlinewidth": 0,
              "ticks": ""
             }
            },
            "type": "scatterpolar"
           }
          ],
          "scatterpolargl": [
           {
            "marker": {
             "colorbar": {
              "outlinewidth": 0,
              "ticks": ""
             }
            },
            "type": "scatterpolargl"
           }
          ],
          "scatterternary": [
           {
            "marker": {
             "colorbar": {
              "outlinewidth": 0,
              "ticks": ""
             }
            },
            "type": "scatterternary"
           }
          ],
          "surface": [
           {
            "colorbar": {
             "outlinewidth": 0,
             "ticks": ""
            },
            "colorscale": [
             [
              0,
              "#0d0887"
             ],
             [
              0.1111111111111111,
              "#46039f"
             ],
             [
              0.2222222222222222,
              "#7201a8"
             ],
             [
              0.3333333333333333,
              "#9c179e"
             ],
             [
              0.4444444444444444,
              "#bd3786"
             ],
             [
              0.5555555555555556,
              "#d8576b"
             ],
             [
              0.6666666666666666,
              "#ed7953"
             ],
             [
              0.7777777777777778,
              "#fb9f3a"
             ],
             [
              0.8888888888888888,
              "#fdca26"
             ],
             [
              1,
              "#f0f921"
             ]
            ],
            "type": "surface"
           }
          ],
          "table": [
           {
            "cells": {
             "fill": {
              "color": "#EBF0F8"
             },
             "line": {
              "color": "white"
             }
            },
            "header": {
             "fill": {
              "color": "#C8D4E3"
             },
             "line": {
              "color": "white"
             }
            },
            "type": "table"
           }
          ]
         },
         "layout": {
          "annotationdefaults": {
           "arrowcolor": "#2a3f5f",
           "arrowhead": 0,
           "arrowwidth": 1
          },
          "coloraxis": {
           "colorbar": {
            "outlinewidth": 0,
            "ticks": ""
           }
          },
          "colorscale": {
           "diverging": [
            [
             0,
             "#8e0152"
            ],
            [
             0.1,
             "#c51b7d"
            ],
            [
             0.2,
             "#de77ae"
            ],
            [
             0.3,
             "#f1b6da"
            ],
            [
             0.4,
             "#fde0ef"
            ],
            [
             0.5,
             "#f7f7f7"
            ],
            [
             0.6,
             "#e6f5d0"
            ],
            [
             0.7,
             "#b8e186"
            ],
            [
             0.8,
             "#7fbc41"
            ],
            [
             0.9,
             "#4d9221"
            ],
            [
             1,
             "#276419"
            ]
           ],
           "sequential": [
            [
             0,
             "#0d0887"
            ],
            [
             0.1111111111111111,
             "#46039f"
            ],
            [
             0.2222222222222222,
             "#7201a8"
            ],
            [
             0.3333333333333333,
             "#9c179e"
            ],
            [
             0.4444444444444444,
             "#bd3786"
            ],
            [
             0.5555555555555556,
             "#d8576b"
            ],
            [
             0.6666666666666666,
             "#ed7953"
            ],
            [
             0.7777777777777778,
             "#fb9f3a"
            ],
            [
             0.8888888888888888,
             "#fdca26"
            ],
            [
             1,
             "#f0f921"
            ]
           ],
           "sequentialminus": [
            [
             0,
             "#0d0887"
            ],
            [
             0.1111111111111111,
             "#46039f"
            ],
            [
             0.2222222222222222,
             "#7201a8"
            ],
            [
             0.3333333333333333,
             "#9c179e"
            ],
            [
             0.4444444444444444,
             "#bd3786"
            ],
            [
             0.5555555555555556,
             "#d8576b"
            ],
            [
             0.6666666666666666,
             "#ed7953"
            ],
            [
             0.7777777777777778,
             "#fb9f3a"
            ],
            [
             0.8888888888888888,
             "#fdca26"
            ],
            [
             1,
             "#f0f921"
            ]
           ]
          },
          "colorway": [
           "#636efa",
           "#EF553B",
           "#00cc96",
           "#ab63fa",
           "#FFA15A",
           "#19d3f3",
           "#FF6692",
           "#B6E880",
           "#FF97FF",
           "#FECB52"
          ],
          "font": {
           "color": "#2a3f5f"
          },
          "geo": {
           "bgcolor": "white",
           "lakecolor": "white",
           "landcolor": "#E5ECF6",
           "showlakes": true,
           "showland": true,
           "subunitcolor": "white"
          },
          "hoverlabel": {
           "align": "left"
          },
          "hovermode": "closest",
          "mapbox": {
           "style": "light"
          },
          "paper_bgcolor": "white",
          "plot_bgcolor": "#E5ECF6",
          "polar": {
           "angularaxis": {
            "gridcolor": "white",
            "linecolor": "white",
            "ticks": ""
           },
           "bgcolor": "#E5ECF6",
           "radialaxis": {
            "gridcolor": "white",
            "linecolor": "white",
            "ticks": ""
           }
          },
          "scene": {
           "xaxis": {
            "backgroundcolor": "#E5ECF6",
            "gridcolor": "white",
            "gridwidth": 2,
            "linecolor": "white",
            "showbackground": true,
            "ticks": "",
            "zerolinecolor": "white"
           },
           "yaxis": {
            "backgroundcolor": "#E5ECF6",
            "gridcolor": "white",
            "gridwidth": 2,
            "linecolor": "white",
            "showbackground": true,
            "ticks": "",
            "zerolinecolor": "white"
           },
           "zaxis": {
            "backgroundcolor": "#E5ECF6",
            "gridcolor": "white",
            "gridwidth": 2,
            "linecolor": "white",
            "showbackground": true,
            "ticks": "",
            "zerolinecolor": "white"
           }
          },
          "shapedefaults": {
           "line": {
            "color": "#2a3f5f"
           }
          },
          "ternary": {
           "aaxis": {
            "gridcolor": "white",
            "linecolor": "white",
            "ticks": ""
           },
           "baxis": {
            "gridcolor": "white",
            "linecolor": "white",
            "ticks": ""
           },
           "bgcolor": "#E5ECF6",
           "caxis": {
            "gridcolor": "white",
            "linecolor": "white",
            "ticks": ""
           }
          },
          "title": {
           "x": 0.05
          },
          "xaxis": {
           "automargin": true,
           "gridcolor": "white",
           "linecolor": "white",
           "ticks": "",
           "title": {
            "standoff": 15
           },
           "zerolinecolor": "white",
           "zerolinewidth": 2
          },
          "yaxis": {
           "automargin": true,
           "gridcolor": "white",
           "linecolor": "white",
           "ticks": "",
           "title": {
            "standoff": 15
           },
           "zerolinecolor": "white",
           "zerolinewidth": 2
          }
         }
        },
        "title": {
         "text": "Total Gross by Studio Separated by Action, Animation and Other Genres"
        },
        "xaxis": {
         "anchor": "y",
         "domain": [
          0,
          1
         ],
         "title": {
          "text": "studio"
         }
        },
        "yaxis": {
         "anchor": "x",
         "domain": [
          0,
          1
         ],
         "title": {
          "text": "total_gross"
         }
        }
       }
      },
      "text/html": [
       "<div>                            <div id=\"8bba39a3-890a-42d6-a911-d873116ce43d\" class=\"plotly-graph-div\" style=\"height:525px; width:100%;\"></div>            <script type=\"text/javascript\">                require([\"plotly\"], function(Plotly) {                    window.PLOTLYENV=window.PLOTLYENV || {};                                    if (document.getElementById(\"8bba39a3-890a-42d6-a911-d873116ce43d\")) {                    Plotly.newPlot(                        \"8bba39a3-890a-42d6-a911-d873116ce43d\",                        [{\"alignmentgroup\": \"True\", \"hovertemplate\": \"genres_cleaned=Action<br>studio=%{x}<br>total_gross=%{y}<extra></extra>\", \"legendgroup\": \"Action\", \"marker\": {\"color\": \"#636efa\"}, \"name\": \"Action\", \"offsetgroup\": \"Action\", \"orientation\": \"v\", \"showlegend\": true, \"textposition\": \"auto\", \"type\": \"bar\", \"x\": [\"BV\", \"WB\", \"Fox\", \"Uni.\", \"Par.\"], \"xaxis\": \"x\", \"y\": [20760401369.5, 16395155999.0, 12597089000.0, 10583000191.4, 9689599998.0], \"yaxis\": \"y\"}, {\"alignmentgroup\": \"True\", \"hovertemplate\": \"genres_cleaned=Animation<br>studio=%{x}<br>total_gross=%{y}<extra></extra>\", \"legendgroup\": \"Animation\", \"marker\": {\"color\": \"#EF553B\"}, \"name\": \"Animation\", \"offsetgroup\": \"Animation\", \"orientation\": \"v\", \"showlegend\": true, \"textposition\": \"auto\", \"type\": \"bar\", \"x\": [\"BV\", \"Fox\", \"Uni.\", \"WB\", \"Par.\"], \"xaxis\": \"x\", \"y\": [11433800000.0, 5464999998.0, 5401800000.0, 749400000.0, 691506700.0], \"yaxis\": \"y\"}, {\"alignmentgroup\": \"True\", \"hovertemplate\": \"genres_cleaned=Drama<br>studio=%{x}<br>total_gross=%{y}<extra></extra>\", \"legendgroup\": \"Drama\", \"marker\": {\"color\": \"#00cc96\"}, \"name\": \"Drama\", \"offsetgroup\": \"Drama\", \"orientation\": \"v\", \"showlegend\": true, \"textposition\": \"auto\", \"type\": \"bar\", \"x\": [\"WB\", \"Fox\", \"Uni.\", \"Par.\", \"BV\"], \"xaxis\": \"x\", \"y\": [5232021000.0, 3272233600.0, 3217660000.0, 1568206000.0, 1309137000.0], \"yaxis\": \"y\"}, {\"alignmentgroup\": \"True\", \"hovertemplate\": \"genres_cleaned=Adventure<br>studio=%{x}<br>total_gross=%{y}<extra></extra>\", \"legendgroup\": \"Adventure\", \"marker\": {\"color\": \"#ab63fa\"}, \"name\": \"Adventure\", \"offsetgroup\": \"Adventure\", \"orientation\": \"v\", \"showlegend\": true, \"textposition\": \"auto\", \"type\": \"bar\", \"x\": [\"WB\", \"Fox\", \"BV\", \"Par.\", \"Uni.\"], \"xaxis\": \"x\", \"y\": [4737525999.0, 3487300000.0, 1279000000.0, 1154500000.0, 873949000.0], \"yaxis\": \"y\"}, {\"alignmentgroup\": \"True\", \"hovertemplate\": \"genres_cleaned=Horror-Mystery<br>studio=%{x}<br>total_gross=%{y}<extra></extra>\", \"legendgroup\": \"Horror-Mystery\", \"marker\": {\"color\": \"#FFA15A\"}, \"name\": \"Horror-Mystery\", \"offsetgroup\": \"Horror-Mystery\", \"orientation\": \"v\", \"showlegend\": true, \"textposition\": \"auto\", \"type\": \"bar\", \"x\": [\"WB\", \"Uni.\", \"Par.\", \"Fox\"], \"xaxis\": \"x\", \"y\": [1328800000.0, 834300000.0, 519600000.0, 36900000.0], \"yaxis\": \"y\"}, {\"alignmentgroup\": \"True\", \"hovertemplate\": \"genres_cleaned=Comedy<br>studio=%{x}<br>total_gross=%{y}<extra></extra>\", \"legendgroup\": \"Comedy\", \"marker\": {\"color\": \"#19d3f3\"}, \"name\": \"Comedy\", \"offsetgroup\": \"Comedy\", \"orientation\": \"v\", \"showlegend\": true, \"textposition\": \"auto\", \"type\": \"bar\", \"x\": [\"Uni.\", \"Par.\", \"WB\", \"Fox\"], \"xaxis\": \"x\", \"y\": [1108400000.0, 764900000.0, 442000000.0, 334544000.0], \"yaxis\": \"y\"}, {\"alignmentgroup\": \"True\", \"hovertemplate\": \"genres_cleaned=Comedy-Romance<br>studio=%{x}<br>total_gross=%{y}<extra></extra>\", \"legendgroup\": \"Comedy-Romance\", \"marker\": {\"color\": \"#FF6692\"}, \"name\": \"Comedy-Romance\", \"offsetgroup\": \"Comedy-Romance\", \"orientation\": \"v\", \"showlegend\": true, \"textposition\": \"auto\", \"type\": \"bar\", \"x\": [\"WB\", \"Uni.\", \"Par.\", \"BV\", \"Fox\"], \"xaxis\": \"x\", \"y\": [950700000.0, 884100000.0, 225200000.0, 43100000.0, 30399999.0], \"yaxis\": \"y\"}, {\"alignmentgroup\": \"True\", \"hovertemplate\": \"genres_cleaned=Comedy-Crime<br>studio=%{x}<br>total_gross=%{y}<extra></extra>\", \"legendgroup\": \"Comedy-Crime\", \"marker\": {\"color\": \"#B6E880\"}, \"name\": \"Comedy-Crime\", \"offsetgroup\": \"Comedy-Crime\", \"orientation\": \"v\", \"showlegend\": true, \"textposition\": \"auto\", \"type\": \"bar\", \"x\": [\"WB\", \"Fox\"], \"xaxis\": \"x\", \"y\": [834100000.0, 290500000.0], \"yaxis\": \"y\"}, {\"alignmentgroup\": \"True\", \"hovertemplate\": \"genres_cleaned=Horror<br>studio=%{x}<br>total_gross=%{y}<extra></extra>\", \"legendgroup\": \"Horror\", \"marker\": {\"color\": \"#FF97FF\"}, \"name\": \"Horror\", \"offsetgroup\": \"Horror\", \"orientation\": \"v\", \"showlegend\": true, \"textposition\": \"auto\", \"type\": \"bar\", \"x\": [\"BV\", \"Par.\", \"WB\", \"Fox\"], \"xaxis\": \"x\", \"y\": [807100000.0, 279400000.0, 157900000.0, 14300000.0], \"yaxis\": \"y\"}, {\"alignmentgroup\": \"True\", \"hovertemplate\": \"genres_cleaned=Comedy-Family<br>studio=%{x}<br>total_gross=%{y}<extra></extra>\", \"legendgroup\": \"Comedy-Family\", \"marker\": {\"color\": \"#FECB52\"}, \"name\": \"Comedy-Family\", \"offsetgroup\": \"Comedy-Family\", \"orientation\": \"v\", \"showlegend\": true, \"textposition\": \"auto\", \"type\": \"bar\", \"x\": [\"Fox\", \"BV\", \"Uni.\"], \"xaxis\": \"x\", \"y\": [747600000.0, 483000000.0, 93200000.0], \"yaxis\": \"y\"}, {\"alignmentgroup\": \"True\", \"hovertemplate\": \"genres_cleaned=Horror-Thriller<br>studio=%{x}<br>total_gross=%{y}<extra></extra>\", \"legendgroup\": \"Horror-Thriller\", \"marker\": {\"color\": \"#636efa\"}, \"name\": \"Horror-Thriller\", \"offsetgroup\": \"Horror-Thriller\", \"orientation\": \"v\", \"showlegend\": true, \"textposition\": \"auto\", \"type\": \"bar\", \"x\": [\"WB\", \"Uni.\"], \"xaxis\": \"x\", \"y\": [710000000.0, 383500000.0], \"yaxis\": \"y\"}, {\"alignmentgroup\": \"True\", \"hovertemplate\": \"genres_cleaned=Comedy-Fantasy<br>studio=%{x}<br>total_gross=%{y}<extra></extra>\", \"legendgroup\": \"Comedy-Fantasy\", \"marker\": {\"color\": \"#EF553B\"}, \"name\": \"Comedy-Fantasy\", \"offsetgroup\": \"Comedy-Fantasy\", \"orientation\": \"v\", \"showlegend\": true, \"textposition\": \"auto\", \"type\": \"bar\", \"x\": [\"Uni.\", \"WB\"], \"xaxis\": \"x\", \"y\": [686400000.0, 245500000.0], \"yaxis\": \"y\"}, {\"alignmentgroup\": \"True\", \"hovertemplate\": \"genres_cleaned=Comedy-Music<br>studio=%{x}<br>total_gross=%{y}<extra></extra>\", \"legendgroup\": \"Comedy-Music\", \"marker\": {\"color\": \"#00cc96\"}, \"name\": \"Comedy-Music\", \"offsetgroup\": \"Comedy-Music\", \"orientation\": \"v\", \"showlegend\": true, \"textposition\": \"auto\", \"type\": \"bar\", \"x\": [\"Uni.\"], \"xaxis\": \"x\", \"y\": [588200000.0], \"yaxis\": \"y\"}, {\"alignmentgroup\": \"True\", \"hovertemplate\": \"genres_cleaned=Comedy-Mystery<br>studio=%{x}<br>total_gross=%{y}<extra></extra>\", \"legendgroup\": \"Comedy-Mystery\", \"marker\": {\"color\": \"#ab63fa\"}, \"name\": \"Comedy-Mystery\", \"offsetgroup\": \"Comedy-Mystery\", \"orientation\": \"v\", \"showlegend\": true, \"textposition\": \"auto\", \"type\": \"bar\", \"x\": [\"WB\", \"Par.\"], \"xaxis\": \"x\", \"y\": [586800000.0, 13067000.0], \"yaxis\": \"y\"}, {\"alignmentgroup\": \"True\", \"hovertemplate\": \"genres_cleaned=Comedy-Musical<br>studio=%{x}<br>total_gross=%{y}<extra></extra>\", \"legendgroup\": \"Comedy-Musical\", \"marker\": {\"color\": \"#FFA15A\"}, \"name\": \"Comedy-Musical\", \"offsetgroup\": \"Comedy-Musical\", \"orientation\": \"v\", \"showlegend\": true, \"textposition\": \"auto\", \"type\": \"bar\", \"x\": [\"Uni.\"], \"xaxis\": \"x\", \"y\": [395000000.0], \"yaxis\": \"y\"}, {\"alignmentgroup\": \"True\", \"hovertemplate\": \"genres_cleaned=Biography-Crime<br>studio=%{x}<br>total_gross=%{y}<extra></extra>\", \"legendgroup\": \"Biography-Crime\", \"marker\": {\"color\": \"#19d3f3\"}, \"name\": \"Biography-Crime\", \"offsetgroup\": \"Biography-Crime\", \"orientation\": \"v\", \"showlegend\": true, \"textposition\": \"auto\", \"type\": \"bar\", \"x\": [\"Par.\", \"WB\", \"Uni.\"], \"xaxis\": \"x\", \"y\": [392000000.0, 184700000.0, 43000000.0], \"yaxis\": \"y\"}, {\"alignmentgroup\": \"True\", \"hovertemplate\": \"genres_cleaned=Documentary<br>studio=%{x}<br>total_gross=%{y}<extra></extra>\", \"legendgroup\": \"Documentary\", \"marker\": {\"color\": \"#FF6692\"}, \"name\": \"Documentary\", \"offsetgroup\": \"Documentary\", \"orientation\": \"v\", \"showlegend\": true, \"textposition\": \"auto\", \"type\": \"bar\", \"x\": [\"Uni.\", \"Par.\", \"BV\"], \"xaxis\": \"x\", \"y\": [334900000.0, 137100000.0, 73310999.0], \"yaxis\": \"y\"}, {\"alignmentgroup\": \"True\", \"hovertemplate\": \"genres_cleaned=Biography-Comedy<br>studio=%{x}<br>total_gross=%{y}<extra></extra>\", \"legendgroup\": \"Biography-Comedy\", \"marker\": {\"color\": \"#B6E880\"}, \"name\": \"Biography-Comedy\", \"offsetgroup\": \"Biography-Comedy\", \"orientation\": \"v\", \"showlegend\": true, \"textposition\": \"auto\", \"type\": \"bar\", \"x\": [\"Uni.\", \"Par.\", \"BV\"], \"xaxis\": \"x\", \"y\": [332700000.0, 182400000.0, 117900000.0], \"yaxis\": \"y\"}, {\"alignmentgroup\": \"True\", \"hovertemplate\": \"genres_cleaned=Mystery-Thriller<br>studio=%{x}<br>total_gross=%{y}<extra></extra>\", \"legendgroup\": \"Mystery-Thriller\", \"marker\": {\"color\": \"#FF97FF\"}, \"name\": \"Mystery-Thriller\", \"offsetgroup\": \"Mystery-Thriller\", \"orientation\": \"v\", \"showlegend\": true, \"textposition\": \"auto\", \"type\": \"bar\", \"x\": [\"Par.\"], \"xaxis\": \"x\", \"y\": [294800000.0], \"yaxis\": \"y\"}, {\"alignmentgroup\": \"True\", \"hovertemplate\": \"genres_cleaned=Mystery-Sci-Fi<br>studio=%{x}<br>total_gross=%{y}<extra></extra>\", \"legendgroup\": \"Mystery-Sci-Fi\", \"marker\": {\"color\": \"#FECB52\"}, \"name\": \"Mystery-Sci-Fi\", \"offsetgroup\": \"Mystery-Sci-Fi\", \"orientation\": \"v\", \"showlegend\": true, \"textposition\": \"auto\", \"type\": \"bar\", \"x\": [\"Par.\"], \"xaxis\": \"x\", \"y\": [260100000.0], \"yaxis\": \"y\"}, {\"alignmentgroup\": \"True\", \"hovertemplate\": \"genres_cleaned=Horror-Sci-Fi<br>studio=%{x}<br>total_gross=%{y}<extra></extra>\", \"legendgroup\": \"Horror-Sci-Fi\", \"marker\": {\"color\": \"#636efa\"}, \"name\": \"Horror-Sci-Fi\", \"offsetgroup\": \"Horror-Sci-Fi\", \"orientation\": \"v\", \"showlegend\": true, \"textposition\": \"auto\", \"type\": \"bar\", \"x\": [\"Fox\"], \"xaxis\": \"x\", \"y\": [240900000.0], \"yaxis\": \"y\"}, {\"alignmentgroup\": \"True\", \"hovertemplate\": \"genres_cleaned=Romance-Sci-Fi<br>studio=%{x}<br>total_gross=%{y}<extra></extra>\", \"legendgroup\": \"Romance-Sci-Fi\", \"marker\": {\"color\": \"#EF553B\"}, \"name\": \"Romance-Sci-Fi\", \"offsetgroup\": \"Romance-Sci-Fi\", \"orientation\": \"v\", \"showlegend\": true, \"textposition\": \"auto\", \"type\": \"bar\", \"x\": [\"Uni.\"], \"xaxis\": \"x\", \"y\": [127900000.0], \"yaxis\": \"y\"}, {\"alignmentgroup\": \"True\", \"hovertemplate\": \"genres_cleaned=Fantasy-Horror<br>studio=%{x}<br>total_gross=%{y}<extra></extra>\", \"legendgroup\": \"Fantasy-Horror\", \"marker\": {\"color\": \"#00cc96\"}, \"name\": \"Fantasy-Horror\", \"offsetgroup\": \"Fantasy-Horror\", \"orientation\": \"v\", \"showlegend\": true, \"textposition\": \"auto\", \"type\": \"bar\", \"x\": [\"WB\"], \"xaxis\": \"x\", \"y\": [89200000.0], \"yaxis\": \"y\"}, {\"alignmentgroup\": \"True\", \"hovertemplate\": \"genres_cleaned=Comedy-Western<br>studio=%{x}<br>total_gross=%{y}<extra></extra>\", \"legendgroup\": \"Comedy-Western\", \"marker\": {\"color\": \"#ab63fa\"}, \"name\": \"Comedy-Western\", \"offsetgroup\": \"Comedy-Western\", \"orientation\": \"v\", \"showlegend\": true, \"textposition\": \"auto\", \"type\": \"bar\", \"x\": [\"Uni.\"], \"xaxis\": \"x\", \"y\": [87200000.0], \"yaxis\": \"y\"}, {\"alignmentgroup\": \"True\", \"hovertemplate\": \"genres_cleaned=Crime-Thriller<br>studio=%{x}<br>total_gross=%{y}<extra></extra>\", \"legendgroup\": \"Crime-Thriller\", \"marker\": {\"color\": \"#FFA15A\"}, \"name\": \"Crime-Thriller\", \"offsetgroup\": \"Crime-Thriller\", \"orientation\": \"v\", \"showlegend\": true, \"textposition\": \"auto\", \"type\": \"bar\", \"x\": [\"Fox\"], \"xaxis\": \"x\", \"y\": [62700000.0], \"yaxis\": \"y\"}],                        {\"barmode\": \"relative\", \"legend\": {\"title\": {\"text\": \"genres_cleaned\"}, \"tracegroupgap\": 0}, \"template\": {\"data\": {\"bar\": [{\"error_x\": {\"color\": \"#2a3f5f\"}, \"error_y\": {\"color\": \"#2a3f5f\"}, \"marker\": {\"line\": {\"color\": \"#E5ECF6\", \"width\": 0.5}}, \"type\": \"bar\"}], \"barpolar\": [{\"marker\": {\"line\": {\"color\": \"#E5ECF6\", \"width\": 0.5}}, \"type\": \"barpolar\"}], \"carpet\": [{\"aaxis\": {\"endlinecolor\": \"#2a3f5f\", \"gridcolor\": \"white\", \"linecolor\": \"white\", \"minorgridcolor\": \"white\", \"startlinecolor\": \"#2a3f5f\"}, \"baxis\": {\"endlinecolor\": \"#2a3f5f\", \"gridcolor\": \"white\", \"linecolor\": \"white\", \"minorgridcolor\": \"white\", \"startlinecolor\": \"#2a3f5f\"}, \"type\": \"carpet\"}], \"choropleth\": [{\"colorbar\": {\"outlinewidth\": 0, \"ticks\": \"\"}, \"type\": \"choropleth\"}], \"contour\": [{\"colorbar\": {\"outlinewidth\": 0, \"ticks\": \"\"}, \"colorscale\": [[0.0, \"#0d0887\"], [0.1111111111111111, \"#46039f\"], [0.2222222222222222, \"#7201a8\"], [0.3333333333333333, \"#9c179e\"], [0.4444444444444444, \"#bd3786\"], [0.5555555555555556, \"#d8576b\"], [0.6666666666666666, \"#ed7953\"], [0.7777777777777778, \"#fb9f3a\"], [0.8888888888888888, \"#fdca26\"], [1.0, \"#f0f921\"]], \"type\": \"contour\"}], \"contourcarpet\": [{\"colorbar\": {\"outlinewidth\": 0, \"ticks\": \"\"}, \"type\": \"contourcarpet\"}], \"heatmap\": [{\"colorbar\": {\"outlinewidth\": 0, \"ticks\": \"\"}, \"colorscale\": [[0.0, \"#0d0887\"], [0.1111111111111111, \"#46039f\"], [0.2222222222222222, \"#7201a8\"], [0.3333333333333333, \"#9c179e\"], [0.4444444444444444, \"#bd3786\"], [0.5555555555555556, \"#d8576b\"], [0.6666666666666666, \"#ed7953\"], [0.7777777777777778, \"#fb9f3a\"], [0.8888888888888888, \"#fdca26\"], [1.0, \"#f0f921\"]], \"type\": \"heatmap\"}], \"heatmapgl\": [{\"colorbar\": {\"outlinewidth\": 0, \"ticks\": \"\"}, \"colorscale\": [[0.0, \"#0d0887\"], [0.1111111111111111, \"#46039f\"], [0.2222222222222222, \"#7201a8\"], [0.3333333333333333, \"#9c179e\"], [0.4444444444444444, \"#bd3786\"], [0.5555555555555556, \"#d8576b\"], [0.6666666666666666, \"#ed7953\"], [0.7777777777777778, \"#fb9f3a\"], [0.8888888888888888, \"#fdca26\"], [1.0, \"#f0f921\"]], \"type\": \"heatmapgl\"}], \"histogram\": [{\"marker\": {\"colorbar\": {\"outlinewidth\": 0, \"ticks\": \"\"}}, \"type\": \"histogram\"}], \"histogram2d\": [{\"colorbar\": {\"outlinewidth\": 0, \"ticks\": \"\"}, \"colorscale\": [[0.0, \"#0d0887\"], [0.1111111111111111, \"#46039f\"], [0.2222222222222222, \"#7201a8\"], [0.3333333333333333, \"#9c179e\"], [0.4444444444444444, \"#bd3786\"], [0.5555555555555556, \"#d8576b\"], [0.6666666666666666, \"#ed7953\"], [0.7777777777777778, \"#fb9f3a\"], [0.8888888888888888, \"#fdca26\"], [1.0, \"#f0f921\"]], \"type\": \"histogram2d\"}], \"histogram2dcontour\": [{\"colorbar\": {\"outlinewidth\": 0, \"ticks\": \"\"}, \"colorscale\": [[0.0, \"#0d0887\"], [0.1111111111111111, \"#46039f\"], [0.2222222222222222, \"#7201a8\"], [0.3333333333333333, \"#9c179e\"], [0.4444444444444444, \"#bd3786\"], [0.5555555555555556, \"#d8576b\"], [0.6666666666666666, \"#ed7953\"], [0.7777777777777778, \"#fb9f3a\"], [0.8888888888888888, \"#fdca26\"], [1.0, \"#f0f921\"]], \"type\": \"histogram2dcontour\"}], \"mesh3d\": [{\"colorbar\": {\"outlinewidth\": 0, \"ticks\": \"\"}, \"type\": \"mesh3d\"}], \"parcoords\": [{\"line\": {\"colorbar\": {\"outlinewidth\": 0, \"ticks\": \"\"}}, \"type\": \"parcoords\"}], \"pie\": [{\"automargin\": true, \"type\": \"pie\"}], \"scatter\": [{\"marker\": {\"colorbar\": {\"outlinewidth\": 0, \"ticks\": \"\"}}, \"type\": \"scatter\"}], \"scatter3d\": [{\"line\": {\"colorbar\": {\"outlinewidth\": 0, \"ticks\": \"\"}}, \"marker\": {\"colorbar\": {\"outlinewidth\": 0, \"ticks\": \"\"}}, \"type\": \"scatter3d\"}], \"scattercarpet\": [{\"marker\": {\"colorbar\": {\"outlinewidth\": 0, \"ticks\": \"\"}}, \"type\": \"scattercarpet\"}], \"scattergeo\": [{\"marker\": {\"colorbar\": {\"outlinewidth\": 0, \"ticks\": \"\"}}, \"type\": \"scattergeo\"}], \"scattergl\": [{\"marker\": {\"colorbar\": {\"outlinewidth\": 0, \"ticks\": \"\"}}, \"type\": \"scattergl\"}], \"scattermapbox\": [{\"marker\": {\"colorbar\": {\"outlinewidth\": 0, \"ticks\": \"\"}}, \"type\": \"scattermapbox\"}], \"scatterpolar\": [{\"marker\": {\"colorbar\": {\"outlinewidth\": 0, \"ticks\": \"\"}}, \"type\": \"scatterpolar\"}], \"scatterpolargl\": [{\"marker\": {\"colorbar\": {\"outlinewidth\": 0, \"ticks\": \"\"}}, \"type\": \"scatterpolargl\"}], \"scatterternary\": [{\"marker\": {\"colorbar\": {\"outlinewidth\": 0, \"ticks\": \"\"}}, \"type\": \"scatterternary\"}], \"surface\": [{\"colorbar\": {\"outlinewidth\": 0, \"ticks\": \"\"}, \"colorscale\": [[0.0, \"#0d0887\"], [0.1111111111111111, \"#46039f\"], [0.2222222222222222, \"#7201a8\"], [0.3333333333333333, \"#9c179e\"], [0.4444444444444444, \"#bd3786\"], [0.5555555555555556, \"#d8576b\"], [0.6666666666666666, \"#ed7953\"], [0.7777777777777778, \"#fb9f3a\"], [0.8888888888888888, \"#fdca26\"], [1.0, \"#f0f921\"]], \"type\": \"surface\"}], \"table\": [{\"cells\": {\"fill\": {\"color\": \"#EBF0F8\"}, \"line\": {\"color\": \"white\"}}, \"header\": {\"fill\": {\"color\": \"#C8D4E3\"}, \"line\": {\"color\": \"white\"}}, \"type\": \"table\"}]}, \"layout\": {\"annotationdefaults\": {\"arrowcolor\": \"#2a3f5f\", \"arrowhead\": 0, \"arrowwidth\": 1}, \"coloraxis\": {\"colorbar\": {\"outlinewidth\": 0, \"ticks\": \"\"}}, \"colorscale\": {\"diverging\": [[0, \"#8e0152\"], [0.1, \"#c51b7d\"], [0.2, \"#de77ae\"], [0.3, \"#f1b6da\"], [0.4, \"#fde0ef\"], [0.5, \"#f7f7f7\"], [0.6, \"#e6f5d0\"], [0.7, \"#b8e186\"], [0.8, \"#7fbc41\"], [0.9, \"#4d9221\"], [1, \"#276419\"]], \"sequential\": [[0.0, \"#0d0887\"], [0.1111111111111111, \"#46039f\"], [0.2222222222222222, \"#7201a8\"], [0.3333333333333333, \"#9c179e\"], [0.4444444444444444, \"#bd3786\"], [0.5555555555555556, \"#d8576b\"], [0.6666666666666666, \"#ed7953\"], [0.7777777777777778, \"#fb9f3a\"], [0.8888888888888888, \"#fdca26\"], [1.0, \"#f0f921\"]], \"sequentialminus\": [[0.0, \"#0d0887\"], [0.1111111111111111, \"#46039f\"], [0.2222222222222222, \"#7201a8\"], [0.3333333333333333, \"#9c179e\"], [0.4444444444444444, \"#bd3786\"], [0.5555555555555556, \"#d8576b\"], [0.6666666666666666, \"#ed7953\"], [0.7777777777777778, \"#fb9f3a\"], [0.8888888888888888, \"#fdca26\"], [1.0, \"#f0f921\"]]}, \"colorway\": [\"#636efa\", \"#EF553B\", \"#00cc96\", \"#ab63fa\", \"#FFA15A\", \"#19d3f3\", \"#FF6692\", \"#B6E880\", \"#FF97FF\", \"#FECB52\"], \"font\": {\"color\": \"#2a3f5f\"}, \"geo\": {\"bgcolor\": \"white\", \"lakecolor\": \"white\", \"landcolor\": \"#E5ECF6\", \"showlakes\": true, \"showland\": true, \"subunitcolor\": \"white\"}, \"hoverlabel\": {\"align\": \"left\"}, \"hovermode\": \"closest\", \"mapbox\": {\"style\": \"light\"}, \"paper_bgcolor\": \"white\", \"plot_bgcolor\": \"#E5ECF6\", \"polar\": {\"angularaxis\": {\"gridcolor\": \"white\", \"linecolor\": \"white\", \"ticks\": \"\"}, \"bgcolor\": \"#E5ECF6\", \"radialaxis\": {\"gridcolor\": \"white\", \"linecolor\": \"white\", \"ticks\": \"\"}}, \"scene\": {\"xaxis\": {\"backgroundcolor\": \"#E5ECF6\", \"gridcolor\": \"white\", \"gridwidth\": 2, \"linecolor\": \"white\", \"showbackground\": true, \"ticks\": \"\", \"zerolinecolor\": \"white\"}, \"yaxis\": {\"backgroundcolor\": \"#E5ECF6\", \"gridcolor\": \"white\", \"gridwidth\": 2, \"linecolor\": \"white\", \"showbackground\": true, \"ticks\": \"\", \"zerolinecolor\": \"white\"}, \"zaxis\": {\"backgroundcolor\": \"#E5ECF6\", \"gridcolor\": \"white\", \"gridwidth\": 2, \"linecolor\": \"white\", \"showbackground\": true, \"ticks\": \"\", \"zerolinecolor\": \"white\"}}, \"shapedefaults\": {\"line\": {\"color\": \"#2a3f5f\"}}, \"ternary\": {\"aaxis\": {\"gridcolor\": \"white\", \"linecolor\": \"white\", \"ticks\": \"\"}, \"baxis\": {\"gridcolor\": \"white\", \"linecolor\": \"white\", \"ticks\": \"\"}, \"bgcolor\": \"#E5ECF6\", \"caxis\": {\"gridcolor\": \"white\", \"linecolor\": \"white\", \"ticks\": \"\"}}, \"title\": {\"x\": 0.05}, \"xaxis\": {\"automargin\": true, \"gridcolor\": \"white\", \"linecolor\": \"white\", \"ticks\": \"\", \"title\": {\"standoff\": 15}, \"zerolinecolor\": \"white\", \"zerolinewidth\": 2}, \"yaxis\": {\"automargin\": true, \"gridcolor\": \"white\", \"linecolor\": \"white\", \"ticks\": \"\", \"title\": {\"standoff\": 15}, \"zerolinecolor\": \"white\", \"zerolinewidth\": 2}}}, \"title\": {\"text\": \"Total Gross by Studio Separated by Action, Animation and Other Genres\"}, \"xaxis\": {\"anchor\": \"y\", \"domain\": [0.0, 1.0], \"title\": {\"text\": \"studio\"}}, \"yaxis\": {\"anchor\": \"x\", \"domain\": [0.0, 1.0], \"title\": {\"text\": \"total_gross\"}}},                        {\"responsive\": true}                    ).then(function(){\n",
       "                            \n",
       "var gd = document.getElementById('8bba39a3-890a-42d6-a911-d873116ce43d');\n",
       "var x = new MutationObserver(function (mutations, observer) {{\n",
       "        var display = window.getComputedStyle(gd).display;\n",
       "        if (!display || display === 'none') {{\n",
       "            console.log([gd, 'removed!']);\n",
       "            Plotly.purge(gd);\n",
       "            observer.disconnect();\n",
       "        }}\n",
       "}});\n",
       "\n",
       "// Listen for the removal of the full notebook cells\n",
       "var notebookContainer = gd.closest('#notebook-container');\n",
       "if (notebookContainer) {{\n",
       "    x.observe(notebookContainer, {childList: true});\n",
       "}}\n",
       "\n",
       "// Listen for the clearing of the current output cell\n",
       "var outputEl = gd.closest('.output');\n",
       "if (outputEl) {{\n",
       "    x.observe(outputEl, {childList: true});\n",
       "}}\n",
       "\n",
       "                        })                };                });            </script>        </div>"
      ]
     },
     "metadata": {},
     "output_type": "display_data"
    }
   ],
   "source": [
    "#Separate studios into top 5\n",
    "new_no_index = no_index.groupby(['studio','genres_cleaned']).sum().sort_values(by='total_gross',ascending=False).reset_index()\n",
    "for i,x in enumerate(new_no_index['studio']): \n",
    "    if x == 'BV': \n",
    "        new_no_index.loc[i,'studio'] = 'BV'\n",
    "    elif x == 'Fox': \n",
    "        new_no_index.loc[i,'studio'] = 'Fox'\n",
    "    elif x == 'Uni.':\n",
    "        new_no_index.loc[i,'studio'] = 'Uni.'\n",
    "    elif x == 'Par.':\n",
    "        new_no_index.loc[i,'studio'] = 'Par.'\n",
    "    elif x == 'WB':\n",
    "        new_no_index.loc[i,'studio'] = 'WB'\n",
    "    else:\n",
    "        new_no_index.loc[i,'studio'] = 'other'\n",
    "\n",
    "new_no_index_deleted = new_no_index.loc[new_no_index['studio'] != 'other']\n",
    "new_no_index_deleted\n",
    "\n",
    "#Bar Chart\n",
    "px.bar(new_no_index_deleted,x='studio',y='total_gross',color='genres_cleaned',title='Total Gross by Studio Separated by Action, Animation and Other Genres');\n"
   ]
  },
  {
   "cell_type": "markdown",
   "metadata": {},
   "source": [
    "# WHY NOT WORKING ANYMORE"
   ]
  },
  {
   "cell_type": "code",
   "execution_count": 1438,
   "metadata": {
    "scrolled": false
   },
   "outputs": [],
   "source": [
    "#for i,x in enumerate(new_no_index_deleted['genres_cleaned']): \n",
    "#    if x == 'Animation': \n",
    "#        new_no_index_deleted.loc[i,'genres_cleaned'] = 'Animation'\n",
    "#    elif x == 'Action': \n",
    "#        new_no_index_deleted.loc[i,'genres_cleaned'] = 'Action'\n",
    "#    else: \n",
    "#        new_no_index_deleted.loc[i,'genres_cleaned'] = 'Total'\n",
    "\n",
    "#new_no_index_deleted2 = new_no_index_deleted.loc[(new_no_index_deleted['genres_cleaned'] == 'Animation')|\n",
    "#                                        (new_no_index_deleted['genres_cleaned'] == 'Action')|\n",
    "#                                        (new_no_index_deleted['genres_cleaned'] == 'Total')]\n",
    "#new_no_index_deleted2\n",
    "#new_no_index_deleted2.loc[(new_no_index_deleted2['genres_cleaned']=='Animation')|(new_no_index_deleted2['genres_cleaned']=='Action')]\n",
    "#px.bar(new_no_index_deleted2,x='studio',y='total_gross',color='genres_cleaned',title='Total Gross by Studio Separated by Action, Animation and Other Genres')\n"
   ]
  },
  {
   "cell_type": "code",
   "execution_count": null,
   "metadata": {},
   "outputs": [],
   "source": []
  },
  {
   "cell_type": "markdown",
   "metadata": {},
   "source": [
    "# RUNTIME ACTION V ANIMATION"
   ]
  },
  {
   "cell_type": "code",
   "execution_count": 1488,
   "metadata": {},
   "outputs": [
    {
     "data": {
      "image/png": "[encoded data removed]",
      "text/plain": [
       "<Figure size 864x432 with 2 Axes>"
      ]
     },
     "metadata": {},
     "output_type": "display_data"
    }
   ],
   "source": [
    "#compare runtime to total gross for action and animation movies\n",
    "runtime = no_index.groupby(['genres_cleaned','year','studio'])[['runtime_minutes','total_gross']].mean().sort_values(by='total_gross',ascending=False)\n",
    "runtime.reset_index(inplace=True)\n",
    "\n",
    "#trying to do top 5 studios only\n",
    "bv = runtime.loc[(runtime['studio'] == 'BV')&(runtime['genres_cleaned'] == 'Action') | (runtime['studio'] == 'BV') & (runtime['genres_cleaned']== 'Animation')]\n",
    "wb = runtime.loc[(runtime['studio'] == 'WB')&(runtime['genres_cleaned'] == 'Action') | (runtime['studio'] == 'WB') & (runtime['genres_cleaned']== 'Animation')]\n",
    "fox = runtime.loc[(runtime['studio'] == 'Fox')&(runtime['genres_cleaned'] == 'Action') | (runtime['studio'] == 'Fox') & (runtime['genres_cleaned']== 'Animation')]\n",
    "uni = runtime.loc[(runtime['studio'] == 'Uni.')&(runtime['genres_cleaned'] == 'Action') | (runtime['studio'] == 'Uni.') & (runtime['genres_cleaned']== 'Animation')]\n",
    "par = runtime.loc[(runtime['studio'] == 'Par.')&(runtime['genres_cleaned'] == 'Action') | (runtime['studio'] == 'Par.') & (runtime['genres_cleaned']== 'Animation')]\n",
    "studio_runtime = pd.concat([bv,wb,fox,uni,par], axis = 0)\n",
    "\n",
    "#studio_runtime\n",
    "\n",
    "\n",
    "fig,axes = plt.subplots(1,2,figsize=(12,6))\n",
    "\n",
    "#violin plots\n",
    "sns.violinplot(ax = axes[0],data=studio_runtime, x=\"studio\", y=\"runtime_minutes\", hue=\"genres_cleaned\",split=True).set(xlabel='Studios',ylabel='Runtime (min)',title='Average Runtime for Action and Animation movies by Studio')\n",
    "sns.violinplot(ax = axes[1],data=studio_runtime, x=\"studio\", y=\"runtime_minutes\", hue=\"genres_cleaned\",split=True).set(xlabel='Studios',ylabel='',title='Average Runtime for Action and Animation movies by Studio')\n",
    "\n",
    "#median lines\n",
    "plt.axhline(y = 114, linestyle = '-')\n",
    "plt.axhline(y = 93, color = 'r',linestyle = '-')\n",
    "plt.axhline(y = 91, color = 'r', linestyle = '--')\n",
    "plt.axhline(y = 104, color = 'b', linestyle = '--');\n"
   ]
  },
  {
   "cell_type": "code",
   "execution_count": null,
   "metadata": {
    "scrolled": false
   },
   "outputs": [],
   "source": []
  },
  {
   "cell_type": "code",
   "execution_count": null,
   "metadata": {},
   "outputs": [],
   "source": []
  },
  {
   "cell_type": "code",
   "execution_count": null,
   "metadata": {},
   "outputs": [],
   "source": []
  },
  {
   "cell_type": "code",
   "execution_count": null,
   "metadata": {},
   "outputs": [],
   "source": []
  },
  {
   "cell_type": "code",
   "execution_count": 902,
   "metadata": {},
   "outputs": [],
   "source": [
    "\n"
   ]
  },
  {
   "cell_type": "code",
   "execution_count": null,
   "metadata": {},
   "outputs": [],
   "source": []
  },
  {
   "cell_type": "code",
   "execution_count": null,
   "metadata": {},
   "outputs": [],
   "source": []
  },
  {
   "cell_type": "code",
   "execution_count": null,
   "metadata": {},
   "outputs": [],
   "source": []
  },
  {
   "cell_type": "code",
   "execution_count": null,
   "metadata": {},
   "outputs": [],
   "source": []
  },
  {
   "cell_type": "code",
   "execution_count": null,
   "metadata": {},
   "outputs": [],
   "source": []
  },
  {
   "cell_type": "code",
   "execution_count": null,
   "metadata": {},
   "outputs": [],
   "source": []
  },
  {
   "cell_type": "code",
   "execution_count": null,
   "metadata": {},
   "outputs": [],
   "source": []
  },
  {
   "cell_type": "code",
   "execution_count": null,
   "metadata": {},
   "outputs": [],
   "source": []
  },
  {
   "cell_type": "code",
   "execution_count": null,
   "metadata": {},
   "outputs": [],
   "source": []
  },
  {
   "cell_type": "markdown",
   "metadata": {},
   "source": []
  },
  {
   "cell_type": "code",
   "execution_count": null,
   "metadata": {},
   "outputs": [],
   "source": []
  },
  {
   "cell_type": "code",
   "execution_count": null,
   "metadata": {},
   "outputs": [],
   "source": []
  },
  {
   "cell_type": "code",
   "execution_count": null,
   "metadata": {},
   "outputs": [],
   "source": []
  },
  {
   "cell_type": "code",
   "execution_count": null,
   "metadata": {
    "scrolled": true
   },
   "outputs": [],
   "source": []
  },
  {
   "cell_type": "code",
   "execution_count": null,
   "metadata": {},
   "outputs": [],
   "source": []
  },
  {
   "cell_type": "code",
   "execution_count": null,
   "metadata": {},
   "outputs": [],
   "source": []
  },
  {
   "cell_type": "code",
   "execution_count": null,
   "metadata": {},
   "outputs": [],
   "source": []
  },
  {
   "cell_type": "code",
   "execution_count": null,
   "metadata": {},
   "outputs": [],
   "source": []
  },
  {
   "cell_type": "code",
   "execution_count": null,
   "metadata": {},
   "outputs": [],
   "source": []
  }
 ],
 "metadata": {
  "kernelspec": {
   "display_name": "Python (learn-env)",
   "language": "python",
   "name": "learn-env"
  },
  "language_info": {
   "codemirror_mode": {
    "name": "ipython",
    "version": 3
   },
   "file_extension": ".py",
   "mimetype": "text/x-python",
   "name": "python",
   "nbconvert_exporter": "python",
   "pygments_lexer": "ipython3",
   "version": "3.8.5"
  }
 },
 "nbformat": 4,
 "nbformat_minor": 2
}
