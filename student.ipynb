{
 "cells": [
  {
   "cell_type": "markdown",
   "metadata": {},
   "source": [
    "## Final Project Submission\n",
    "\n",
    "Please fill out:\n",
    "* Student name: Evan Staffen\n",
    "* Student pace: Full time\n",
    "* Scheduled project review date/time: October 7th, 2022\n",
    "* Instructor name: Joseph Mata\n",
    "* Blog post URL: https://medium.com/@evan.staffen/why-i-chose-data-science-5bfedb7a695e\n"
   ]
  },
  {
   "cell_type": "markdown",
   "metadata": {},
   "source": [
    "# Microsoft Movie Studios \n",
    "Evan Staffen"
   ]
  },
  {
   "cell_type": "markdown",
   "metadata": {},
   "source": [
    "## Overview"
   ]
  },
  {
   "cell_type": "markdown",
   "metadata": {},
   "source": [
    "This project analyzes data from both IMDB and Box Office Mojo, pulling data from over 2,000 movies over the years of 2010-2018. In an ever competitive market with many new streaming platforms, I used this data to make suggestions to help Microsoft successfully launce their brand new movie studio."
   ]
  },
  {
   "cell_type": "markdown",
   "metadata": {},
   "source": [
    "## Business Problem\n",
    "Microsoft wants to open a new movie studio and venture into a field they have little to no experience in. While there are plenty of studios out there, Microsoft has the resources to cement themselves in the indusrty. In order to be successful from the start, I wanted to figure out which movies and genres have led to the highest earnings. As well, I wanted to see how the most successful studios are operating today. "
   ]
  },
  {
   "cell_type": "markdown",
   "metadata": {},
   "source": [
    "## Data Understanding\n",
    "IMDB has almost 50 years of data showing movie ratings, their run times, the studios that made them and their genres. Box Office Mojo has data from the past 10 years showing movies and their gross both foreign and domestic. From these two datasets, I was able to make insights into specific movie genres and studios that have been successful and how they have done it."
   ]
  },
  {
   "cell_type": "markdown",
   "metadata": {},
   "source": [
    "## Import Necessary Modules"
   ]
  },
  {
   "cell_type": "code",
   "execution_count": 1,
   "metadata": {},
   "outputs": [],
   "source": [
    "import pandas as pd\n",
    "import sqlite3\n",
    "import numpy as np\n",
    "import matplotlib.pyplot as plt\n",
    "import seaborn as sns\n",
    "%matplotlib inline\n",
    "from plotly.subplots import make_subplots\n",
    "import plotly.express as px"
   ]
  },
  {
   "cell_type": "markdown",
   "metadata": {},
   "source": [
    "## Cleaning Movie Gross Dataset"
   ]
  },
  {
   "cell_type": "code",
   "execution_count": 3,
   "metadata": {
    "scrolled": false
   },
   "outputs": [
    {
     "ename": "FileNotFoundError",
     "evalue": "[Errno 2] No such file or directory: 'zippedData/bom.movie_gross.csv.gz'",
     "output_type": "error",
     "traceback": [
      "\u001b[0;31m---------------------------------------------------------------------------\u001b[0m",
      "\u001b[0;31mFileNotFoundError\u001b[0m                         Traceback (most recent call last)",
      "\u001b[0;32m<ipython-input-3-29fcb2093e3e>\u001b[0m in \u001b[0;36m<module>\u001b[0;34m\u001b[0m\n\u001b[1;32m      1\u001b[0m \u001b[0;31m#Download and read file\u001b[0m\u001b[0;34m\u001b[0m\u001b[0;34m\u001b[0m\u001b[0;34m\u001b[0m\u001b[0m\n\u001b[0;32m----> 2\u001b[0;31m \u001b[0mdf_bom\u001b[0m \u001b[0;34m=\u001b[0m \u001b[0mpd\u001b[0m\u001b[0;34m.\u001b[0m\u001b[0mread_csv\u001b[0m\u001b[0;34m(\u001b[0m\u001b[0;34m'zippedData/bom.movie_gross.csv.gz'\u001b[0m\u001b[0;34m)\u001b[0m\u001b[0;34m\u001b[0m\u001b[0;34m\u001b[0m\u001b[0m\n\u001b[0m\u001b[1;32m      3\u001b[0m \u001b[0mdf_bom\u001b[0m\u001b[0;34m\u001b[0m\u001b[0;34m\u001b[0m\u001b[0m\n",
      "\u001b[0;32m~/opt/anaconda3/envs/learn-env/lib/python3.8/site-packages/pandas/io/parsers.py\u001b[0m in \u001b[0;36mread_csv\u001b[0;34m(filepath_or_buffer, sep, delimiter, header, names, index_col, usecols, squeeze, prefix, mangle_dupe_cols, dtype, engine, converters, true_values, false_values, skipinitialspace, skiprows, skipfooter, nrows, na_values, keep_default_na, na_filter, verbose, skip_blank_lines, parse_dates, infer_datetime_format, keep_date_col, date_parser, dayfirst, cache_dates, iterator, chunksize, compression, thousands, decimal, lineterminator, quotechar, quoting, doublequote, escapechar, comment, encoding, dialect, error_bad_lines, warn_bad_lines, delim_whitespace, low_memory, memory_map, float_precision)\u001b[0m\n\u001b[1;32m    684\u001b[0m     )\n\u001b[1;32m    685\u001b[0m \u001b[0;34m\u001b[0m\u001b[0m\n\u001b[0;32m--> 686\u001b[0;31m     \u001b[0;32mreturn\u001b[0m \u001b[0m_read\u001b[0m\u001b[0;34m(\u001b[0m\u001b[0mfilepath_or_buffer\u001b[0m\u001b[0;34m,\u001b[0m \u001b[0mkwds\u001b[0m\u001b[0;34m)\u001b[0m\u001b[0;34m\u001b[0m\u001b[0;34m\u001b[0m\u001b[0m\n\u001b[0m\u001b[1;32m    687\u001b[0m \u001b[0;34m\u001b[0m\u001b[0m\n\u001b[1;32m    688\u001b[0m \u001b[0;34m\u001b[0m\u001b[0m\n",
      "\u001b[0;32m~/opt/anaconda3/envs/learn-env/lib/python3.8/site-packages/pandas/io/parsers.py\u001b[0m in \u001b[0;36m_read\u001b[0;34m(filepath_or_buffer, kwds)\u001b[0m\n\u001b[1;32m    450\u001b[0m \u001b[0;34m\u001b[0m\u001b[0m\n\u001b[1;32m    451\u001b[0m     \u001b[0;31m# Create the parser.\u001b[0m\u001b[0;34m\u001b[0m\u001b[0;34m\u001b[0m\u001b[0;34m\u001b[0m\u001b[0m\n\u001b[0;32m--> 452\u001b[0;31m     \u001b[0mparser\u001b[0m \u001b[0;34m=\u001b[0m \u001b[0mTextFileReader\u001b[0m\u001b[0;34m(\u001b[0m\u001b[0mfp_or_buf\u001b[0m\u001b[0;34m,\u001b[0m \u001b[0;34m**\u001b[0m\u001b[0mkwds\u001b[0m\u001b[0;34m)\u001b[0m\u001b[0;34m\u001b[0m\u001b[0;34m\u001b[0m\u001b[0m\n\u001b[0m\u001b[1;32m    453\u001b[0m \u001b[0;34m\u001b[0m\u001b[0m\n\u001b[1;32m    454\u001b[0m     \u001b[0;32mif\u001b[0m \u001b[0mchunksize\u001b[0m \u001b[0;32mor\u001b[0m \u001b[0miterator\u001b[0m\u001b[0;34m:\u001b[0m\u001b[0;34m\u001b[0m\u001b[0;34m\u001b[0m\u001b[0m\n",
      "\u001b[0;32m~/opt/anaconda3/envs/learn-env/lib/python3.8/site-packages/pandas/io/parsers.py\u001b[0m in \u001b[0;36m__init__\u001b[0;34m(self, f, engine, **kwds)\u001b[0m\n\u001b[1;32m    944\u001b[0m             \u001b[0mself\u001b[0m\u001b[0;34m.\u001b[0m\u001b[0moptions\u001b[0m\u001b[0;34m[\u001b[0m\u001b[0;34m\"has_index_names\"\u001b[0m\u001b[0;34m]\u001b[0m \u001b[0;34m=\u001b[0m \u001b[0mkwds\u001b[0m\u001b[0;34m[\u001b[0m\u001b[0;34m\"has_index_names\"\u001b[0m\u001b[0;34m]\u001b[0m\u001b[0;34m\u001b[0m\u001b[0;34m\u001b[0m\u001b[0m\n\u001b[1;32m    945\u001b[0m \u001b[0;34m\u001b[0m\u001b[0m\n\u001b[0;32m--> 946\u001b[0;31m         \u001b[0mself\u001b[0m\u001b[0;34m.\u001b[0m\u001b[0m_make_engine\u001b[0m\u001b[0;34m(\u001b[0m\u001b[0mself\u001b[0m\u001b[0;34m.\u001b[0m\u001b[0mengine\u001b[0m\u001b[0;34m)\u001b[0m\u001b[0;34m\u001b[0m\u001b[0;34m\u001b[0m\u001b[0m\n\u001b[0m\u001b[1;32m    947\u001b[0m \u001b[0;34m\u001b[0m\u001b[0m\n\u001b[1;32m    948\u001b[0m     \u001b[0;32mdef\u001b[0m \u001b[0mclose\u001b[0m\u001b[0;34m(\u001b[0m\u001b[0mself\u001b[0m\u001b[0;34m)\u001b[0m\u001b[0;34m:\u001b[0m\u001b[0;34m\u001b[0m\u001b[0;34m\u001b[0m\u001b[0m\n",
      "\u001b[0;32m~/opt/anaconda3/envs/learn-env/lib/python3.8/site-packages/pandas/io/parsers.py\u001b[0m in \u001b[0;36m_make_engine\u001b[0;34m(self, engine)\u001b[0m\n\u001b[1;32m   1176\u001b[0m     \u001b[0;32mdef\u001b[0m \u001b[0m_make_engine\u001b[0m\u001b[0;34m(\u001b[0m\u001b[0mself\u001b[0m\u001b[0;34m,\u001b[0m \u001b[0mengine\u001b[0m\u001b[0;34m=\u001b[0m\u001b[0;34m\"c\"\u001b[0m\u001b[0;34m)\u001b[0m\u001b[0;34m:\u001b[0m\u001b[0;34m\u001b[0m\u001b[0;34m\u001b[0m\u001b[0m\n\u001b[1;32m   1177\u001b[0m         \u001b[0;32mif\u001b[0m \u001b[0mengine\u001b[0m \u001b[0;34m==\u001b[0m \u001b[0;34m\"c\"\u001b[0m\u001b[0;34m:\u001b[0m\u001b[0;34m\u001b[0m\u001b[0;34m\u001b[0m\u001b[0m\n\u001b[0;32m-> 1178\u001b[0;31m             \u001b[0mself\u001b[0m\u001b[0;34m.\u001b[0m\u001b[0m_engine\u001b[0m \u001b[0;34m=\u001b[0m \u001b[0mCParserWrapper\u001b[0m\u001b[0;34m(\u001b[0m\u001b[0mself\u001b[0m\u001b[0;34m.\u001b[0m\u001b[0mf\u001b[0m\u001b[0;34m,\u001b[0m \u001b[0;34m**\u001b[0m\u001b[0mself\u001b[0m\u001b[0;34m.\u001b[0m\u001b[0moptions\u001b[0m\u001b[0;34m)\u001b[0m\u001b[0;34m\u001b[0m\u001b[0;34m\u001b[0m\u001b[0m\n\u001b[0m\u001b[1;32m   1179\u001b[0m         \u001b[0;32melse\u001b[0m\u001b[0;34m:\u001b[0m\u001b[0;34m\u001b[0m\u001b[0;34m\u001b[0m\u001b[0m\n\u001b[1;32m   1180\u001b[0m             \u001b[0;32mif\u001b[0m \u001b[0mengine\u001b[0m \u001b[0;34m==\u001b[0m \u001b[0;34m\"python\"\u001b[0m\u001b[0;34m:\u001b[0m\u001b[0;34m\u001b[0m\u001b[0;34m\u001b[0m\u001b[0m\n",
      "\u001b[0;32m~/opt/anaconda3/envs/learn-env/lib/python3.8/site-packages/pandas/io/parsers.py\u001b[0m in \u001b[0;36m__init__\u001b[0;34m(self, src, **kwds)\u001b[0m\n\u001b[1;32m   2006\u001b[0m         \u001b[0mkwds\u001b[0m\u001b[0;34m[\u001b[0m\u001b[0;34m\"usecols\"\u001b[0m\u001b[0;34m]\u001b[0m \u001b[0;34m=\u001b[0m \u001b[0mself\u001b[0m\u001b[0;34m.\u001b[0m\u001b[0musecols\u001b[0m\u001b[0;34m\u001b[0m\u001b[0;34m\u001b[0m\u001b[0m\n\u001b[1;32m   2007\u001b[0m \u001b[0;34m\u001b[0m\u001b[0m\n\u001b[0;32m-> 2008\u001b[0;31m         \u001b[0mself\u001b[0m\u001b[0;34m.\u001b[0m\u001b[0m_reader\u001b[0m \u001b[0;34m=\u001b[0m \u001b[0mparsers\u001b[0m\u001b[0;34m.\u001b[0m\u001b[0mTextReader\u001b[0m\u001b[0;34m(\u001b[0m\u001b[0msrc\u001b[0m\u001b[0;34m,\u001b[0m \u001b[0;34m**\u001b[0m\u001b[0mkwds\u001b[0m\u001b[0;34m)\u001b[0m\u001b[0;34m\u001b[0m\u001b[0;34m\u001b[0m\u001b[0m\n\u001b[0m\u001b[1;32m   2009\u001b[0m         \u001b[0mself\u001b[0m\u001b[0;34m.\u001b[0m\u001b[0munnamed_cols\u001b[0m \u001b[0;34m=\u001b[0m \u001b[0mself\u001b[0m\u001b[0;34m.\u001b[0m\u001b[0m_reader\u001b[0m\u001b[0;34m.\u001b[0m\u001b[0munnamed_cols\u001b[0m\u001b[0;34m\u001b[0m\u001b[0;34m\u001b[0m\u001b[0m\n\u001b[1;32m   2010\u001b[0m \u001b[0;34m\u001b[0m\u001b[0m\n",
      "\u001b[0;32mpandas/_libs/parsers.pyx\u001b[0m in \u001b[0;36mpandas._libs.parsers.TextReader.__cinit__\u001b[0;34m()\u001b[0m\n",
      "\u001b[0;32mpandas/_libs/parsers.pyx\u001b[0m in \u001b[0;36mpandas._libs.parsers.TextReader._setup_parser_source\u001b[0;34m()\u001b[0m\n",
      "\u001b[0;32m~/opt/anaconda3/envs/learn-env/lib/python3.8/gzip.py\u001b[0m in \u001b[0;36m__init__\u001b[0;34m(self, filename, mode, compresslevel, fileobj, mtime)\u001b[0m\n\u001b[1;32m    171\u001b[0m             \u001b[0mmode\u001b[0m \u001b[0;34m+=\u001b[0m \u001b[0;34m'b'\u001b[0m\u001b[0;34m\u001b[0m\u001b[0;34m\u001b[0m\u001b[0m\n\u001b[1;32m    172\u001b[0m         \u001b[0;32mif\u001b[0m \u001b[0mfileobj\u001b[0m \u001b[0;32mis\u001b[0m \u001b[0;32mNone\u001b[0m\u001b[0;34m:\u001b[0m\u001b[0;34m\u001b[0m\u001b[0;34m\u001b[0m\u001b[0m\n\u001b[0;32m--> 173\u001b[0;31m             \u001b[0mfileobj\u001b[0m \u001b[0;34m=\u001b[0m \u001b[0mself\u001b[0m\u001b[0;34m.\u001b[0m\u001b[0mmyfileobj\u001b[0m \u001b[0;34m=\u001b[0m \u001b[0mbuiltins\u001b[0m\u001b[0;34m.\u001b[0m\u001b[0mopen\u001b[0m\u001b[0;34m(\u001b[0m\u001b[0mfilename\u001b[0m\u001b[0;34m,\u001b[0m \u001b[0mmode\u001b[0m \u001b[0;32mor\u001b[0m \u001b[0;34m'rb'\u001b[0m\u001b[0;34m)\u001b[0m\u001b[0;34m\u001b[0m\u001b[0;34m\u001b[0m\u001b[0m\n\u001b[0m\u001b[1;32m    174\u001b[0m         \u001b[0;32mif\u001b[0m \u001b[0mfilename\u001b[0m \u001b[0;32mis\u001b[0m \u001b[0;32mNone\u001b[0m\u001b[0;34m:\u001b[0m\u001b[0;34m\u001b[0m\u001b[0;34m\u001b[0m\u001b[0m\n\u001b[1;32m    175\u001b[0m             \u001b[0mfilename\u001b[0m \u001b[0;34m=\u001b[0m \u001b[0mgetattr\u001b[0m\u001b[0;34m(\u001b[0m\u001b[0mfileobj\u001b[0m\u001b[0;34m,\u001b[0m \u001b[0;34m'name'\u001b[0m\u001b[0;34m,\u001b[0m \u001b[0;34m''\u001b[0m\u001b[0;34m)\u001b[0m\u001b[0;34m\u001b[0m\u001b[0;34m\u001b[0m\u001b[0m\n",
      "\u001b[0;31mFileNotFoundError\u001b[0m: [Errno 2] No such file or directory: 'zippedData/bom.movie_gross.csv.gz'"
     ]
    }
   ],
   "source": [
    "#Download and read file\n",
    "df_bom = pd.read_csv('zippedData/bom.movie_gross.csv.gz')\n",
    "df_bom"
   ]
  },
  {
   "cell_type": "code",
   "execution_count": null,
   "metadata": {},
   "outputs": [],
   "source": [
    "df_bom.info()"
   ]
  },
  {
   "cell_type": "markdown",
   "metadata": {},
   "source": [
    "Format so scientific notation is gone, drop all NAs because without foreign gross we cannot calculate total gross, and change foreign gross to a float so I can calculate total gross"
   ]
  },
  {
   "cell_type": "code",
   "execution_count": null,
   "metadata": {},
   "outputs": [],
   "source": [
    "#Gets rid of sci-not\n",
    "pd.set_option('display.float_format', lambda x: '%.9f' % x)\n",
    "\n",
    "#Dropping NAs\n",
    "dropped_df_bom = df_bom.dropna()\n",
    "\n",
    "#Making foreign gross a float\n",
    "dropped_df_bom['foreign_gross'] = dropped_df_bom.loc[:,'foreign_gross'].str.replace(',', '').astype(float)\n",
    "\n",
    "#Calculate total gross\n",
    "dropped_df_bom['total_gross'] = ((dropped_df_bom.loc[:,'domestic_gross'])+(dropped_df_bom.loc[:,'foreign_gross']))\n",
    "\n",
    "dropped_df_bom"
   ]
  },
  {
   "cell_type": "markdown",
   "metadata": {},
   "source": [
    "## Cleaning IMDB Dataset\n",
    "After downloading the IMDB SQL database, I saw that movie_basics and movie_ratings shared the movie_id column so I joined them together"
   ]
  },
  {
   "cell_type": "code",
   "execution_count": null,
   "metadata": {},
   "outputs": [],
   "source": [
    "conn = sqlite3.connect('zippedData/im.db')\n",
    "cur = conn.cursor()\n",
    "q = (\"\"\"\n",
    "SELECT *\n",
    "FROM movie_basics\n",
    "\"\"\")\n",
    "pd.read_sql(q,conn)"
   ]
  },
  {
   "cell_type": "code",
   "execution_count": null,
   "metadata": {},
   "outputs": [],
   "source": [
    "conn = sqlite3.connect('zippedData/im.db')\n",
    "cur = conn.cursor()\n",
    "q = (\"\"\"\n",
    "SELECT *\n",
    "FROM movie_ratings\n",
    "\"\"\")\n",
    "pd.read_sql(q,conn)"
   ]
  },
  {
   "cell_type": "markdown",
   "metadata": {},
   "source": [
    "Join the tables!"
   ]
  },
  {
   "cell_type": "code",
   "execution_count": null,
   "metadata": {
    "scrolled": false
   },
   "outputs": [],
   "source": [
    "conn = sqlite3.connect('zippedData/im.db')\n",
    "cur = conn.cursor()\n",
    "q = (\"\"\"\n",
    "SELECT *\n",
    "FROM movie_basics\n",
    "JOIN movie_ratings\n",
    "    USING(movie_id)\n",
    "\"\"\")\n",
    "\n",
    "sqldf = pd.read_sql(q,conn)\n",
    "sqldf"
   ]
  },
  {
   "cell_type": "markdown",
   "metadata": {},
   "source": [
    "This dataframe is missing many values in runtime, so I ultimately ended up dropping that."
   ]
  },
  {
   "cell_type": "code",
   "execution_count": null,
   "metadata": {},
   "outputs": [],
   "source": [
    "sqldf.info()"
   ]
  },
  {
   "cell_type": "code",
   "execution_count": null,
   "metadata": {},
   "outputs": [],
   "source": [
    "sqldf.head(3)"
   ]
  },
  {
   "cell_type": "markdown",
   "metadata": {},
   "source": [
    "After noticing that the genres column was difficult to interpret, I decided to organize it by separating each genre. After seeing a clear trend that action, animation, adventure, documentary and drama were the dominant genres, I decided to separate movies into just one category rather than IMDBs way of categorizing them. Afterwards, I set up the dataframe for merging by changing two column names to match with the Box Office Mojo dataset."
   ]
  },
  {
   "cell_type": "code",
   "execution_count": null,
   "metadata": {},
   "outputs": [],
   "source": [
    "#Editting genres column\n",
    "sqldf_genres_drop = sqldf.dropna()\n",
    "sqldf_genres_drop['genres'] = sqldf_genres_drop['genres'].map(lambda x:x.split(','))\n",
    "sqldf_genres_drop['genres'].map(lambda x: str(x))\n",
    "\n",
    "#Organizing new genres column\n",
    "sqldf_genres_drop['genre1'] = sqldf_genres_drop['genres'].apply(lambda x: x[0])\n",
    "sqldf_genres_drop['genre2'] = sqldf_genres_drop['genres'].apply(lambda x: x[1] if (len(x) == 2 or len(x) == 3) else '')\n",
    "sqldf_genres_drop['genres_cleaned'] = sqldf_genres_drop['genre1'] + '-' + sqldf_genres_drop['genre2']\n",
    "sqldf_genres_drop['genres_cleaned'] = sqldf_genres_drop['genres_cleaned'].apply(lambda x: x.rstrip('-') if x.endswith('-') else x)\n",
    "\n",
    "#Action, Animation, Adventure, Documentary,Drama genres override other subgenres \n",
    "sqldf_genres_drop['genres_cleaned'] = sqldf_genres_drop['genres_cleaned'].apply(lambda x: x.replace(x,'Action') if x.endswith('-Action') or x.startswith('Action-') or x == ('Action') else x)\n",
    "sqldf_genres_drop['genres_cleaned'] = sqldf_genres_drop['genres_cleaned'].apply(lambda x: x.replace(x,'Animation') if x.endswith('-Animation') or x.startswith('Animation-') or x == ('Animation') else x)\n",
    "sqldf_genres_drop['genres_cleaned'] = sqldf_genres_drop['genres_cleaned'].apply(lambda x: x.replace(x,'Adventure') if x.endswith('-Adventure') or x.startswith('Adventure-') or x == ('Adventure') else x)\n",
    "sqldf_genres_drop['genres_cleaned'] = sqldf_genres_drop['genres_cleaned'].apply(lambda x: x.replace(x,'Documentary') if x.endswith('-Documentary') or x.startswith('Documentary-') or x == ('Documentary') else x)\n",
    "sqldf_genres_drop['genres_cleaned'] = sqldf_genres_drop['genres_cleaned'].apply(lambda x: x.replace(x,'Drama') if x.endswith('-Drama') or x.startswith('Drama-') or x == ('Drama') else x)\n",
    "\n",
    "#renaming column for merge\n",
    "sqldf_genres_drop.rename(columns = {'primary_title':'title','start_year':'year'},inplace=True)\n",
    "\n",
    "sqldf_genres_drop"
   ]
  },
  {
   "cell_type": "markdown",
   "metadata": {},
   "source": [
    "## Merging the Datasets for Analysis\n",
    "The tables were merged on two columns, the title and year of the movie, only with records that they share."
   ]
  },
  {
   "cell_type": "code",
   "execution_count": null,
   "metadata": {},
   "outputs": [],
   "source": [
    "#Merge two tables on shared columns of title and year\n",
    "merged_df = sqldf_genres_drop.merge(dropped_df_bom, how='inner',on=['title','year'])\n",
    "merged_df\n"
   ]
  },
  {
   "cell_type": "markdown",
   "metadata": {},
   "source": [
    "## Creating Layout for Analysis\n",
    "From here, I knew that I wanted to see which genre of movies gross the most. I decided to organize my chart so that each row had the movie title, the genre, the studio that made it, as well as its total gross and rumtime."
   ]
  },
  {
   "cell_type": "code",
   "execution_count": null,
   "metadata": {
    "scrolled": false
   },
   "outputs": [],
   "source": [
    "#Merging WB and WB NL into one studio, cleaning merged dataset for analysis\n",
    "good_df = merged_df.groupby(['studio','genres_cleaned','title'],as_index = True)[['year','domestic_gross','foreign_gross','total_gross','runtime_minutes']].mean().sort_values(by=['total_gross'],ascending=[False])\n",
    "no_index = good_df.reset_index()\n",
    "no_index['studio'] = no_index['studio'].apply(lambda x:x.replace(x,'WB') if x == 'WB (NL)' else x)\n",
    "no_index"
   ]
  },
  {
   "cell_type": "code",
   "execution_count": null,
   "metadata": {},
   "outputs": [],
   "source": [
    "no_index.info()"
   ]
  },
  {
   "cell_type": "code",
   "execution_count": null,
   "metadata": {},
   "outputs": [],
   "source": [
    "no_index.describe()"
   ]
  },
  {
   "cell_type": "markdown",
   "metadata": {},
   "source": [
    "## Top 4 Grossing Genres Based on Top 100 Movies\n",
    "After seeing that the 4 genres, action, animation, adventure and drama, are 96 of the top 100 movies, I plotted the total gross by genre and removed the other genres as they only had one movie in each."
   ]
  },
  {
   "cell_type": "code",
   "execution_count": null,
   "metadata": {
    "scrolled": true
   },
   "outputs": [],
   "source": [
    "#Plot top 100 movies based on top 4 genres, as other genres only had one movie\n",
    "\n",
    "movies = no_index.groupby(['title','genres_cleaned'])['total_gross'].sum().sort_values(ascending=False).reset_index().head(100)\n",
    "movies_genre = movies.loc[(movies['genres_cleaned'] == 'Action')|(movies['genres_cleaned'] == 'Animation')|(movies['genres_cleaned'] == 'Adventure')|(movies['genres_cleaned'] == 'Drama')]\n",
    "total_per_genre = movies_genre.groupby('genres_cleaned')['total_gross'].sum().sort_values(ascending=False).reset_index()\n",
    "px.bar(total_per_genre,x='genres_cleaned',y='total_gross',title='Total Gross of Top 100 Movies Based on Genre',\n",
    "      labels = {'genres_cleaned':'Genres','total_gross':'Total Gross'},\n",
    "      color='genres_cleaned')\n",
    "\n",
    "\n"
   ]
  },
  {
   "cell_type": "markdown",
   "metadata": {},
   "source": [
    "# Top 100 and Top 250 Grossing Movies by Genre\n"
   ]
  },
  {
   "cell_type": "code",
   "execution_count": null,
   "metadata": {
    "scrolled": true
   },
   "outputs": [],
   "source": [
    "#Organize movies by top 100 by total gross, use genres as colors\n",
    "movies = no_index.groupby(['title','genres_cleaned'])['total_gross'].sum().sort_values(ascending=False).reset_index().head(100)\n",
    "movies_genre = movies.loc[(movies['genres_cleaned'] == 'Action')|(movies['genres_cleaned'] == 'Animation')|(movies['genres_cleaned'] == 'Adventure')|(movies['genres_cleaned'] == 'Drama')]\n",
    "totals = movies_genre.groupby('genres_cleaned').count().sort_values(by = 'total_gross',ascending=False).reset_index()\n",
    "totals\n",
    "\n",
    "fig, axes = plt.subplots(2,1, figsize = (6,10))\n",
    "\n",
    "#Barplot\n",
    "sns.barplot(ax=axes[0],data=totals,x='genres_cleaned',y='total_gross').set(xlabel ='Genres', ylabel= 'Movie Count', title = 'Top 100 Grossing Movies by Genre')\n",
    "\n",
    "#Swarmplot\n",
    "sns.boxplot(ax=axes[1],data=movies_genre,x='genres_cleaned',y='total_gross').set(xlabel ='Genres', ylabel= 'Total gross ($)', title = 'Top 100 Grossing Movies by Genre')\n",
    "\n",
    "#list from value_counts by genre\n",
    "plt.yticks([500000000,750000000,1000000000,1250000000,1500000000],['500M', '750M','1B', '1.25B','1.5B']);\n"
   ]
  },
  {
   "cell_type": "code",
   "execution_count": null,
   "metadata": {},
   "outputs": [],
   "source": [
    "#Organize top 250 movies by title, genres and total gross\n",
    "top250 = no_index.groupby(['title','genres_cleaned'])['total_gross'].sum().sort_values(ascending=False).reset_index().head(250)\n",
    "top250_genres = top250.loc[(top250['genres_cleaned'] == 'Action')|(top250['genres_cleaned'] == 'Animation')|(top250['genres_cleaned'] == 'Adventure')|(top250['genres_cleaned'] == 'Drama')]\n",
    "totals = top250_genres.groupby('genres_cleaned').count().sort_values(by='total_gross',ascending=False).reset_index()\n",
    "totals\n",
    "fig, axes = plt.subplots(2,1, figsize = (6,10))\n",
    "\n",
    "#Barplot\n",
    "sns.barplot(ax = axes[0],data=totals,x='genres_cleaned',y='total_gross').set(xlabel ='Genres', ylabel= 'Movie Count', title = 'Top 250 Grossing Movies by Genre')\n",
    "#Swarmplot\n",
    "sns.boxplot(ax = axes[1],data=top250_genres,x='genres_cleaned',y='total_gross').set(xlabel ='Genres', ylabel= 'Total gross ($)', title = 'Top 250 Grossing Movies by Genre')\n",
    "#list of value_counts by genre\n",
    "plt.yticks([250000000,500000000,750000000,1000000000,1250000000,1500000000],['250M','500M', '750M','1B', '1.25B','1.5B']);\n"
   ]
  },
  {
   "cell_type": "markdown",
   "metadata": {},
   "source": [
    "## Top 10 Studios by Total Gross\n",
    "I wanted to see who the top 10 studios were by total gross, to then delve deeper into if action or animation are leading to their success."
   ]
  },
  {
   "cell_type": "code",
   "execution_count": null,
   "metadata": {},
   "outputs": [],
   "source": [
    "#Top 10 Studios by gross\n",
    "a = px.bar(no_index.groupby('studio')['total_gross'].sum().sort_values(ascending=False).reset_index().head(10),x='studio',y='total_gross',title = 'Top 10 Studios by Total Gross',labels = {'studio':'Studio','total_gross':'Total Gross ($)'},color = 'studio');\n",
    "a"
   ]
  },
  {
   "cell_type": "markdown",
   "metadata": {},
   "source": [
    "## Top 5 Studios Gross Proportions by Genre\n",
    "I took the top 5 studios and separated the money they make from action, animation and other genre movies. From there I separated it into just action and other genres to demonstrate that in order to be a successful studio, you need 50% of your gross earnings coming from action movies."
   ]
  },
  {
   "cell_type": "code",
   "execution_count": null,
   "metadata": {
    "scrolled": true
   },
   "outputs": [],
   "source": [
    "#Separate studios into top 5\n",
    "new_no_index = no_index.groupby(['studio','genres_cleaned']).sum().sort_values(by='total_gross',ascending=False).reset_index()\n",
    "for i,x in enumerate(new_no_index['studio']): \n",
    "    if x == 'BV': \n",
    "        new_no_index.loc[i,'studio'] = 'BV'\n",
    "    elif x == 'Fox': \n",
    "        new_no_index.loc[i,'studio'] = 'Fox'\n",
    "    elif x == 'Uni.':\n",
    "        new_no_index.loc[i,'studio'] = 'Uni.'\n",
    "    elif x == 'Par.':\n",
    "        new_no_index.loc[i,'studio'] = 'Par.'\n",
    "    elif x == 'WB':\n",
    "        new_no_index.loc[i,'studio'] = 'WB'\n",
    "    else:\n",
    "        new_no_index.loc[i,'studio'] = 'other'\n",
    "\n",
    "#get rid of all studios we don't want to analyze\n",
    "new_no_index_deleted = new_no_index.loc[new_no_index['studio'] != 'other']"
   ]
  },
  {
   "cell_type": "code",
   "execution_count": null,
   "metadata": {},
   "outputs": [],
   "source": [
    "new_no_index_deleted\n",
    "\n",
    "#Bar plot showing all genres spread\n",
    "m = px.bar(new_no_index_deleted,x='studio',y='total_gross',color='genres_cleaned',title='Total Gross by Studio Separated by Action, Animation and Other Genres',labels ={'total_gross':'Total Gross','studio':'Studio','genres_cleaned':'Genres'});\n",
    "m"
   ]
  },
  {
   "cell_type": "markdown",
   "metadata": {},
   "source": [
    "## Top 5 Studio Gross by Action Movies"
   ]
  },
  {
   "cell_type": "code",
   "execution_count": null,
   "metadata": {
    "scrolled": false
   },
   "outputs": [],
   "source": [
    "for i,x in enumerate(new_no_index_deleted['genres_cleaned']): \n",
    "    if x == 'Action': \n",
    "        new_no_index_deleted.loc[i,'genres_cleaned'] = 'Action'\n",
    "    else: \n",
    "        new_no_index_deleted.loc[i,'genres_cleaned'] = 'Total'\n",
    "\n",
    "new_no_index_deleted2 = new_no_index_deleted.loc[(new_no_index_deleted['genres_cleaned'] == 'Action')|(new_no_index_deleted['genres_cleaned'] == 'Total')]\n",
    "\n",
    "r = px.bar(new_no_index_deleted2,x='studio',y='total_gross',color='genres_cleaned',title='Total Gross by Studio Separated by Action and Other Genres',labels ={'total_gross':'Total Gross','studio':'Studio','genres_cleaned':'Genres'})\n",
    "r"
   ]
  },
  {
   "cell_type": "markdown",
   "metadata": {},
   "source": [
    "## Runtime Action V Animation Movies\n",
    "I wanted to see if movie runtimes had any influence on their gross earnings. There is a clear trend in that animation movies tend to be approximately 90 minutes and action movies are approximately 115 minutes."
   ]
  },
  {
   "cell_type": "code",
   "execution_count": null,
   "metadata": {},
   "outputs": [],
   "source": [
    "#compare runtime to total gross for action and animation movies\n",
    "runtime = no_index.groupby(['genres_cleaned','year','studio'])[['runtime_minutes','total_gross']].mean().sort_values(by='total_gross',ascending=False)\n",
    "runtime.reset_index(inplace=True)\n",
    "\n",
    "#trying to do top 5 studios only\n",
    "bv = runtime.loc[(runtime['studio'] == 'BV')&(runtime['genres_cleaned'] == 'Action') | (runtime['studio'] == 'BV') & (runtime['genres_cleaned']== 'Animation')]\n",
    "wb = runtime.loc[(runtime['studio'] == 'WB')&(runtime['genres_cleaned'] == 'Action') | (runtime['studio'] == 'WB') & (runtime['genres_cleaned']== 'Animation')]\n",
    "fox = runtime.loc[(runtime['studio'] == 'Fox')&(runtime['genres_cleaned'] == 'Action') | (runtime['studio'] == 'Fox') & (runtime['genres_cleaned']== 'Animation')]\n",
    "uni = runtime.loc[(runtime['studio'] == 'Uni.')&(runtime['genres_cleaned'] == 'Action') | (runtime['studio'] == 'Uni.') & (runtime['genres_cleaned']== 'Animation')]\n",
    "par = runtime.loc[(runtime['studio'] == 'Par.')&(runtime['genres_cleaned'] == 'Action') | (runtime['studio'] == 'Par.') & (runtime['genres_cleaned']== 'Animation')]\n",
    "studio_runtime = pd.concat([bv,wb,fox,uni,par], axis = 0)\n",
    "\n",
    "#studio_runtime\n",
    "\n",
    "\n",
    "fig,axes = plt.subplots(1,1,figsize=(8,7))\n",
    "#violin plots\n",
    "sns.violinplot(data=studio_runtime, x=\"studio\", y=\"runtime_minutes\", hue=\"genres_cleaned\",split=True).set(xlabel='Studios',ylabel='Runtime (min)',title='Average Runtime for Action and Animation movies by Studio')\n",
    "plt.legend(title='Genres',bbox_to_anchor=(0.6,1));\n"
   ]
  },
  {
   "cell_type": "markdown",
   "metadata": {},
   "source": [
    "I plotted the same graph with the median lines to demonstrate the fact that the top 5 studios tend to make their action movies longer than the industry as a whole."
   ]
  },
  {
   "cell_type": "code",
   "execution_count": null,
   "metadata": {},
   "outputs": [],
   "source": [
    "#With median times by top 5 studio and genre overall\n",
    "fig, ax = plt.subplots(figsize=(8,7))\n",
    "sns.violinplot(data=studio_runtime, x=\"studio\", y=\"runtime_minutes\", hue=\"genres_cleaned\",split=True).set(xlabel='Studios',ylabel='Runtime (min)',title='Average Runtime for Action and Animation movies by Studio')\n",
    "plt.legend(title='Genres')\n",
    "\n",
    "#median lines\n",
    "plt.axhline(y = 114, linestyle = '-',label='Median Top 5')\n",
    "plt.axhline(y = 93, color = 'r',linestyle = '-',label = 'Median Top 5')\n",
    "plt.axhline(y = 91, color = 'r', linestyle = '--',label = 'Median Overall')\n",
    "plt.axhline(y = 104, color = 'b', linestyle = '--',label = 'Median Overall')\n",
    "plt.legend(title='Genres',bbox_to_anchor =(1, 1));"
   ]
  },
  {
   "cell_type": "markdown",
   "metadata": {},
   "source": [
    "## Conclusions"
   ]
  },
  {
   "cell_type": "markdown",
   "metadata": {},
   "source": [
    "There are three key recommendations that I would make to Microsoft for their movie studios.\n",
    "1. Ensure that action and animation movies are the primary focus of the studio.\n",
    "2. In order to be a successful studio, at least 50% of the gross earnings need to come from action movies.\n",
    "3. Animation and action movies tend to be around 90 and 110 minutes, although the top grossing action movies are significantly longer than the median.\n"
   ]
  },
  {
   "cell_type": "markdown",
   "metadata": {},
   "source": [
    "## Next Steps"
   ]
  },
  {
   "cell_type": "markdown",
   "metadata": {},
   "source": [
    "With further time and data I look further into:\n",
    "1. Directors, writers and actors and how much their movies gross.\n",
    "2. Investigate production budget by genre.\n",
    "3. Consider how the movie landscape is changing with streaming services."
   ]
  }
 ],
 "metadata": {
  "kernelspec": {
   "display_name": "Python (learn-env)",
   "language": "python",
   "name": "learn-env"
  },
  "language_info": {
   "codemirror_mode": {
    "name": "ipython",
    "version": 3
   },
   "file_extension": ".py",
   "mimetype": "text/x-python",
   "name": "python",
   "nbconvert_exporter": "python",
   "pygments_lexer": "ipython3",
   "version": "3.8.5"
  }
 },
 "nbformat": 4,
 "nbformat_minor": 2
}
